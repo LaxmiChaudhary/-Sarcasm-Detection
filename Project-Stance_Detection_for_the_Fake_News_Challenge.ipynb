{
  "nbformat": 4,
  "nbformat_minor": 0,
  "metadata": {
    "colab": {
      "name": "Project 12-Stance_Detection_for_the_Fake_News_Challenge.ipynb",
      "provenance": [],
      "collapsed_sections": []
    },
    "kernelspec": {
      "name": "python3",
      "display_name": "Python 3"
    },
    "accelerator": "GPU"
  },
  "cells": [
    {
      "cell_type": "markdown",
      "metadata": {
        "id": "QI9jhXKPCFcJ",
        "colab_type": "text"
      },
      "source": [
        "# Stance Detection for the Fake News Challenge\n",
        "\n",
        "## Identifying Textual Relationships with Deep Neural Nets\n",
        "\n",
        "### Check the problem context [here](https://drive.google.com/open?id=1KfWaZyQdGBw8AUTacJ2yY86Yxgw2Xwq0).\n",
        "\n",
        "### Download files required for the project from [here](https://drive.google.com/open?id=10yf39ifEwVihw4xeJJR60oeFBY30Y5J8)."
      ]
    },
    {
      "cell_type": "markdown",
      "metadata": {
        "id": "vSNgdEMpenpE",
        "colab_type": "text"
      },
      "source": [
        "## Step1: Load the given dataset  \n",
        "\n",
        "1. Mount the google drive\n",
        "\n",
        "2. Import Glove embeddings\n",
        "\n",
        "3. Import the test and train datasets"
      ]
    },
    {
      "cell_type": "markdown",
      "metadata": {
        "id": "aPOZRohMiSpQ",
        "colab_type": "text"
      },
      "source": [
        "### Mount the google drive to access required project files\n",
        "\n",
        "Run the below commands"
      ]
    },
    {
      "cell_type": "code",
      "metadata": {
        "id": "7AS39z1XgFpT",
        "colab_type": "code",
        "colab": {}
      },
      "source": [
        "from google.colab import drive"
      ],
      "execution_count": 0,
      "outputs": []
    },
    {
      "cell_type": "code",
      "metadata": {
        "id": "S_7yCFdzgFsH",
        "colab_type": "code",
        "outputId": "d0d28700-15fe-46ea-a5b1-48b8b4505e2a",
        "colab": {
          "base_uri": "https://localhost:8080/",
          "height": 125
        }
      },
      "source": [
        "drive.mount('/content/drive/')"
      ],
      "execution_count": 2,
      "outputs": [
        {
          "output_type": "stream",
          "text": [
            "Go to this URL in a browser: https://accounts.google.com/o/oauth2/auth?client_id=947318989803-6bn6qk8qdgf4n4g3pfee6491hc0brc4i.apps.googleusercontent.com&redirect_uri=urn%3aietf%3awg%3aoauth%3a2.0%3aoob&response_type=code&scope=email%20https%3a%2f%2fwww.googleapis.com%2fauth%2fdocs.test%20https%3a%2f%2fwww.googleapis.com%2fauth%2fdrive%20https%3a%2f%2fwww.googleapis.com%2fauth%2fdrive.photos.readonly%20https%3a%2f%2fwww.googleapis.com%2fauth%2fpeopleapi.readonly\n",
            "\n",
            "Enter your authorization code:\n",
            "··········\n",
            "Mounted at /content/drive/\n"
          ],
          "name": "stdout"
        }
      ]
    },
    {
      "cell_type": "markdown",
      "metadata": {
        "id": "bhZdJ4zpwWzN",
        "colab_type": "text"
      },
      "source": [
        "#### Path for Project files on google drive\n",
        "\n",
        "**Note:** You need to change this path according where you have kept the files in google drive. "
      ]
    },
    {
      "cell_type": "code",
      "metadata": {
        "id": "Aol97RUogFuS",
        "colab_type": "code",
        "colab": {}
      },
      "source": [
        "project_path = \"/content/drive/My Drive/Fake News Challenge/\""
      ],
      "execution_count": 0,
      "outputs": []
    },
    {
      "cell_type": "markdown",
      "metadata": {
        "id": "2ly0VxAnwJ2f",
        "colab_type": "text"
      },
      "source": [
        "### Loading the Glove Embeddings"
      ]
    },
    {
      "cell_type": "code",
      "metadata": {
        "id": "xmsPn6PF-cgL",
        "colab_type": "code",
        "colab": {}
      },
      "source": [
        "from zipfile import ZipFile\n",
        "with ZipFile(project_path+'glove.6B.zip', 'r') as z:\n",
        "  z.extractall()"
      ],
      "execution_count": 0,
      "outputs": []
    },
    {
      "cell_type": "markdown",
      "metadata": {
        "id": "TjLJEQ_PwcGi",
        "colab_type": "text"
      },
      "source": [
        "# Load the dataset [5 Marks]\n",
        "\n",
        "1. Using [read_csv()](https://pandas.pydata.org/pandas-docs/stable/generated/pandas.read_csv.html) in pandas load the given train datasets files **`train_bodies.csv`** and **`train_stances.csv`**\n",
        "\n",
        "2. Using [merge](https://pandas.pydata.org/pandas-docs/stable/generated/pandas.DataFrame.merge.html) command in pandas merge the two datasets based on the Body ID. \n",
        "\n",
        "Note: Save the final merged dataset in a dataframe with name **`dataset`**."
      ]
    },
    {
      "cell_type": "code",
      "metadata": {
        "id": "7gXO1WZ-gFwm",
        "colab_type": "code",
        "colab": {}
      },
      "source": [
        "import pandas as pd\n",
        "import numpy as np"
      ],
      "execution_count": 0,
      "outputs": []
    },
    {
      "cell_type": "code",
      "metadata": {
        "id": "kosAWskdOOT8",
        "colab_type": "code",
        "colab": {}
      },
      "source": [
        "#Reading the datasets\n",
        "train_bodies = pd.read_csv(project_path+ \"train_bodies.csv\")\n",
        "train_stances = pd.read_csv(project_path + \"train_stances.csv\")"
      ],
      "execution_count": 0,
      "outputs": []
    },
    {
      "cell_type": "code",
      "metadata": {
        "id": "fYWuITaC1xXF",
        "colab_type": "code",
        "outputId": "01cdd2e6-deb1-45b8-f246-5ddebd949ee4",
        "colab": {
          "base_uri": "https://localhost:8080/",
          "height": 199
        }
      },
      "source": [
        "#Checking the top 5 train_bodies\n",
        "train_bodies.head()"
      ],
      "execution_count": 7,
      "outputs": [
        {
          "output_type": "execute_result",
          "data": {
            "text/html": [
              "<div>\n",
              "<style scoped>\n",
              "    .dataframe tbody tr th:only-of-type {\n",
              "        vertical-align: middle;\n",
              "    }\n",
              "\n",
              "    .dataframe tbody tr th {\n",
              "        vertical-align: top;\n",
              "    }\n",
              "\n",
              "    .dataframe thead th {\n",
              "        text-align: right;\n",
              "    }\n",
              "</style>\n",
              "<table border=\"1\" class=\"dataframe\">\n",
              "  <thead>\n",
              "    <tr style=\"text-align: right;\">\n",
              "      <th></th>\n",
              "      <th>Body ID</th>\n",
              "      <th>articleBody</th>\n",
              "    </tr>\n",
              "  </thead>\n",
              "  <tbody>\n",
              "    <tr>\n",
              "      <th>0</th>\n",
              "      <td>0</td>\n",
              "      <td>A small meteorite crashed into a wooded area i...</td>\n",
              "    </tr>\n",
              "    <tr>\n",
              "      <th>1</th>\n",
              "      <td>4</td>\n",
              "      <td>Last week we hinted at what was to come as Ebo...</td>\n",
              "    </tr>\n",
              "    <tr>\n",
              "      <th>2</th>\n",
              "      <td>5</td>\n",
              "      <td>(NEWSER) – Wonder how long a Quarter Pounder w...</td>\n",
              "    </tr>\n",
              "    <tr>\n",
              "      <th>3</th>\n",
              "      <td>6</td>\n",
              "      <td>Posting photos of a gun-toting child online, I...</td>\n",
              "    </tr>\n",
              "    <tr>\n",
              "      <th>4</th>\n",
              "      <td>7</td>\n",
              "      <td>At least 25 suspected Boko Haram insurgents we...</td>\n",
              "    </tr>\n",
              "  </tbody>\n",
              "</table>\n",
              "</div>"
            ],
            "text/plain": [
              "   Body ID                                        articleBody\n",
              "0        0  A small meteorite crashed into a wooded area i...\n",
              "1        4  Last week we hinted at what was to come as Ebo...\n",
              "2        5  (NEWSER) – Wonder how long a Quarter Pounder w...\n",
              "3        6  Posting photos of a gun-toting child online, I...\n",
              "4        7  At least 25 suspected Boko Haram insurgents we..."
            ]
          },
          "metadata": {
            "tags": []
          },
          "execution_count": 7
        }
      ]
    },
    {
      "cell_type": "code",
      "metadata": {
        "id": "RbxbmU7p1x7Z",
        "colab_type": "code",
        "outputId": "be55c7a1-2959-4cb2-ec92-e9f21550c078",
        "colab": {
          "base_uri": "https://localhost:8080/",
          "height": 199
        }
      },
      "source": [
        "#checking the Top 5 Stances\n",
        "train_stances.head()"
      ],
      "execution_count": 8,
      "outputs": [
        {
          "output_type": "execute_result",
          "data": {
            "text/html": [
              "<div>\n",
              "<style scoped>\n",
              "    .dataframe tbody tr th:only-of-type {\n",
              "        vertical-align: middle;\n",
              "    }\n",
              "\n",
              "    .dataframe tbody tr th {\n",
              "        vertical-align: top;\n",
              "    }\n",
              "\n",
              "    .dataframe thead th {\n",
              "        text-align: right;\n",
              "    }\n",
              "</style>\n",
              "<table border=\"1\" class=\"dataframe\">\n",
              "  <thead>\n",
              "    <tr style=\"text-align: right;\">\n",
              "      <th></th>\n",
              "      <th>Headline</th>\n",
              "      <th>Body ID</th>\n",
              "      <th>Stance</th>\n",
              "    </tr>\n",
              "  </thead>\n",
              "  <tbody>\n",
              "    <tr>\n",
              "      <th>0</th>\n",
              "      <td>Police find mass graves with at least '15 bodi...</td>\n",
              "      <td>712</td>\n",
              "      <td>unrelated</td>\n",
              "    </tr>\n",
              "    <tr>\n",
              "      <th>1</th>\n",
              "      <td>Hundreds of Palestinians flee floods in Gaza a...</td>\n",
              "      <td>158</td>\n",
              "      <td>agree</td>\n",
              "    </tr>\n",
              "    <tr>\n",
              "      <th>2</th>\n",
              "      <td>Christian Bale passes on role of Steve Jobs, a...</td>\n",
              "      <td>137</td>\n",
              "      <td>unrelated</td>\n",
              "    </tr>\n",
              "    <tr>\n",
              "      <th>3</th>\n",
              "      <td>HBO and Apple in Talks for $15/Month Apple TV ...</td>\n",
              "      <td>1034</td>\n",
              "      <td>unrelated</td>\n",
              "    </tr>\n",
              "    <tr>\n",
              "      <th>4</th>\n",
              "      <td>Spider burrowed through tourist's stomach and ...</td>\n",
              "      <td>1923</td>\n",
              "      <td>disagree</td>\n",
              "    </tr>\n",
              "  </tbody>\n",
              "</table>\n",
              "</div>"
            ],
            "text/plain": [
              "                                            Headline  Body ID     Stance\n",
              "0  Police find mass graves with at least '15 bodi...      712  unrelated\n",
              "1  Hundreds of Palestinians flee floods in Gaza a...      158      agree\n",
              "2  Christian Bale passes on role of Steve Jobs, a...      137  unrelated\n",
              "3  HBO and Apple in Talks for $15/Month Apple TV ...     1034  unrelated\n",
              "4  Spider burrowed through tourist's stomach and ...     1923   disagree"
            ]
          },
          "metadata": {
            "tags": []
          },
          "execution_count": 8
        }
      ]
    },
    {
      "cell_type": "code",
      "metadata": {
        "id": "x9Z0jdro18rM",
        "colab_type": "code",
        "colab": {}
      },
      "source": [
        "#Merging the train_bodies and train_stances\n",
        "dataset = pd.merge(train_bodies[['Body ID','articleBody']],train_stances[['Headline','Body ID','Stance']])"
      ],
      "execution_count": 0,
      "outputs": []
    },
    {
      "cell_type": "markdown",
      "metadata": {
        "id": "g4ycQbBCg20S",
        "colab_type": "text"
      },
      "source": [
        "\n",
        "<h2> Check1:</h2>\n",
        "  \n",
        "<h3> You should see the below output if you run `dataset.head()` command as given below </h3>"
      ]
    },
    {
      "cell_type": "code",
      "metadata": {
        "id": "IUtF7iOmj11k",
        "colab_type": "code",
        "outputId": "6991f3b9-95bd-4b87-de8f-bab71d40df68",
        "colab": {
          "base_uri": "https://localhost:8080/",
          "height": 199
        }
      },
      "source": [
        "dataset.head()"
      ],
      "execution_count": 10,
      "outputs": [
        {
          "output_type": "execute_result",
          "data": {
            "text/html": [
              "<div>\n",
              "<style scoped>\n",
              "    .dataframe tbody tr th:only-of-type {\n",
              "        vertical-align: middle;\n",
              "    }\n",
              "\n",
              "    .dataframe tbody tr th {\n",
              "        vertical-align: top;\n",
              "    }\n",
              "\n",
              "    .dataframe thead th {\n",
              "        text-align: right;\n",
              "    }\n",
              "</style>\n",
              "<table border=\"1\" class=\"dataframe\">\n",
              "  <thead>\n",
              "    <tr style=\"text-align: right;\">\n",
              "      <th></th>\n",
              "      <th>Body ID</th>\n",
              "      <th>articleBody</th>\n",
              "      <th>Headline</th>\n",
              "      <th>Stance</th>\n",
              "    </tr>\n",
              "  </thead>\n",
              "  <tbody>\n",
              "    <tr>\n",
              "      <th>0</th>\n",
              "      <td>0</td>\n",
              "      <td>A small meteorite crashed into a wooded area i...</td>\n",
              "      <td>Soldier shot, Parliament locked down after gun...</td>\n",
              "      <td>unrelated</td>\n",
              "    </tr>\n",
              "    <tr>\n",
              "      <th>1</th>\n",
              "      <td>0</td>\n",
              "      <td>A small meteorite crashed into a wooded area i...</td>\n",
              "      <td>Tourist dubbed ‘Spider Man’ after spider burro...</td>\n",
              "      <td>unrelated</td>\n",
              "    </tr>\n",
              "    <tr>\n",
              "      <th>2</th>\n",
              "      <td>0</td>\n",
              "      <td>A small meteorite crashed into a wooded area i...</td>\n",
              "      <td>Luke Somers 'killed in failed rescue attempt i...</td>\n",
              "      <td>unrelated</td>\n",
              "    </tr>\n",
              "    <tr>\n",
              "      <th>3</th>\n",
              "      <td>0</td>\n",
              "      <td>A small meteorite crashed into a wooded area i...</td>\n",
              "      <td>BREAKING: Soldier shot at War Memorial in Ottawa</td>\n",
              "      <td>unrelated</td>\n",
              "    </tr>\n",
              "    <tr>\n",
              "      <th>4</th>\n",
              "      <td>0</td>\n",
              "      <td>A small meteorite crashed into a wooded area i...</td>\n",
              "      <td>Giant 8ft 9in catfish weighing 19 stone caught...</td>\n",
              "      <td>unrelated</td>\n",
              "    </tr>\n",
              "  </tbody>\n",
              "</table>\n",
              "</div>"
            ],
            "text/plain": [
              "   Body ID  ...     Stance\n",
              "0        0  ...  unrelated\n",
              "1        0  ...  unrelated\n",
              "2        0  ...  unrelated\n",
              "3        0  ...  unrelated\n",
              "4        0  ...  unrelated\n",
              "\n",
              "[5 rows x 4 columns]"
            ]
          },
          "metadata": {
            "tags": []
          },
          "execution_count": 10
        }
      ]
    },
    {
      "cell_type": "markdown",
      "metadata": {
        "id": "tjzVz2ifijmj",
        "colab_type": "text"
      },
      "source": [
        "## Step2: Data Pre-processing and setting some hyper parameters needed for model\n",
        "\n",
        "\n",
        "#### Run the code given below to set the required parameters.\n",
        "\n",
        "1. `MAX_SENTS` = Maximum no.of sentences to consider in an article.\n",
        "\n",
        "2. `MAX_SENT_LENGTH` = Maximum no.of words to consider in a sentence.\n",
        "\n",
        "3. `MAX_NB_WORDS` = Maximum no.of words in the total vocabualry.\n",
        "\n",
        "4. `MAX_SENTS_HEADING` = Maximum no.of sentences to consider in a heading of an article."
      ]
    },
    {
      "cell_type": "code",
      "metadata": {
        "id": "KDXSdpvqjuqw",
        "colab_type": "code",
        "colab": {}
      },
      "source": [
        "MAX_NB_WORDS = 20000\n",
        "MAX_SENTS = 20\n",
        "MAX_SENTS_HEADING = 1\n",
        "MAX_SENT_LENGTH = 20\n",
        "VALIDATION_SPLIT = 0.2"
      ],
      "execution_count": 0,
      "outputs": []
    },
    {
      "cell_type": "markdown",
      "metadata": {
        "id": "zwE7CPHdiDT-",
        "colab_type": "text"
      },
      "source": [
        "### Download the `Punkt` from nltk using the commands given below. This is for sentence tokenization.\n",
        "\n",
        "For more info on how to use it, read [this](https://stackoverflow.com/questions/35275001/use-of-punktsentencetokenizer-in-nltk).\n",
        "\n"
      ]
    },
    {
      "cell_type": "code",
      "metadata": {
        "id": "lsiKmyJUZ-hU",
        "colab_type": "code",
        "outputId": "ad3a401f-733d-4a24-de00-145b05db09fb",
        "colab": {
          "base_uri": "https://localhost:8080/",
          "height": 70
        }
      },
      "source": [
        "import nltk\n",
        "nltk.download('punkt')"
      ],
      "execution_count": 12,
      "outputs": [
        {
          "output_type": "stream",
          "text": [
            "[nltk_data] Downloading package punkt to /root/nltk_data...\n",
            "[nltk_data]   Unzipping tokenizers/punkt.zip.\n"
          ],
          "name": "stdout"
        },
        {
          "output_type": "execute_result",
          "data": {
            "text/plain": [
              "True"
            ]
          },
          "metadata": {
            "tags": []
          },
          "execution_count": 12
        }
      ]
    },
    {
      "cell_type": "markdown",
      "metadata": {
        "id": "Gqwm_GbwwnhX",
        "colab_type": "text"
      },
      "source": [
        "# Tokenizing the text and loading the pre-trained Glove word embeddings for each token  [5 marks] "
      ]
    },
    {
      "cell_type": "markdown",
      "metadata": {
        "id": "WfZLR24mm32k",
        "colab_type": "text"
      },
      "source": [
        "\n",
        "Keras provides [Tokenizer API](https://keras.io/preprocessing/text/) for preparing text. Read it before going any further."
      ]
    },
    {
      "cell_type": "markdown",
      "metadata": {
        "id": "fLSn9S-5oG4Z",
        "colab_type": "text"
      },
      "source": [
        "#### Import the Tokenizer from keras preprocessing text"
      ]
    },
    {
      "cell_type": "code",
      "metadata": {
        "id": "S-VUgh2yoMlR",
        "colab_type": "code",
        "outputId": "4618f1b4-834a-467d-f36b-16eace97ae6b",
        "colab": {
          "base_uri": "https://localhost:8080/",
          "height": 81
        }
      },
      "source": [
        "from keras.preprocessing.text import Tokenizer"
      ],
      "execution_count": 13,
      "outputs": [
        {
          "output_type": "stream",
          "text": [
            "Using TensorFlow backend.\n"
          ],
          "name": "stderr"
        },
        {
          "output_type": "display_data",
          "data": {
            "text/html": [
              "<p style=\"color: red;\">\n",
              "The default version of TensorFlow in Colab will soon switch to TensorFlow 2.x.<br>\n",
              "We recommend you <a href=\"https://www.tensorflow.org/guide/migrate\" target=\"_blank\">upgrade</a> now \n",
              "or ensure your notebook will continue to use TensorFlow 1.x via the <code>%tensorflow_version 1.x</code> magic:\n",
              "<a href=\"https://colab.research.google.com/notebooks/tensorflow_version.ipynb\" target=\"_blank\">more info</a>.</p>\n"
            ],
            "text/plain": [
              "<IPython.core.display.HTML object>"
            ]
          },
          "metadata": {
            "tags": []
          }
        }
      ]
    },
    {
      "cell_type": "markdown",
      "metadata": {
        "id": "eml0Lge4oOuh",
        "colab_type": "text"
      },
      "source": [
        "#### Initialize the Tokenizer class with maximum vocabulary count as `MAX_NB_WORDS` initialized at the start of step2. "
      ]
    },
    {
      "cell_type": "code",
      "metadata": {
        "id": "Qm85qirPofc2",
        "colab_type": "code",
        "colab": {}
      },
      "source": [
        "tokenizer = Tokenizer(num_words=MAX_NB_WORDS)"
      ],
      "execution_count": 0,
      "outputs": []
    },
    {
      "cell_type": "markdown",
      "metadata": {
        "id": "HBe1KuXDosJ7",
        "colab_type": "text"
      },
      "source": [
        "#### Now, using fit_on_texts() from Tokenizer class, lets encode the data \n",
        "\n",
        "Note: We need to fit articleBody and Headline also to cover all the words."
      ]
    },
    {
      "cell_type": "code",
      "metadata": {
        "id": "Q5rk-UyBlmyA",
        "colab_type": "code",
        "colab": {}
      },
      "source": [
        "tokenizer.fit_on_texts(dataset['articleBody'])\n",
        "tokenizer.fit_on_texts(dataset['Headline'])"
      ],
      "execution_count": 0,
      "outputs": []
    },
    {
      "cell_type": "markdown",
      "metadata": {
        "id": "omptHX-JpBsN",
        "colab_type": "text"
      },
      "source": [
        "#### fit_on_texts() gives the following attributes in the output as given [here](https://faroit.github.io/keras-docs/1.2.2/preprocessing/text/).\n",
        "\n",
        "* **word_counts:** dictionary mapping words (str) to the number of times they appeared on during fit. Only set after fit_on_texts was called.\n",
        "\n",
        "* **word_docs:** dictionary mapping words (str) to the number of documents/texts they appeared on during fit. Only set after fit_on_texts was called.\n",
        "\n",
        "* **word_index:** dictionary mapping words (str) to their rank/index (int). Only set after fit_on_texts was called.\n",
        "\n",
        "* **document_count:** int. Number of documents (texts/sequences) the tokenizer was trained on. Only set after fit_on_texts or fit_on_sequences was called.\n",
        "\n"
      ]
    },
    {
      "cell_type": "markdown",
      "metadata": {
        "id": "SHnsT2sTtFAA",
        "colab_type": "text"
      },
      "source": [
        "### Now, tokenize the sentences using nltk sent_tokenize() and encode the senteces with the ids we got form the above `t.word_index`\n",
        "\n",
        "Initialise 2 lists with names `texts` and `articles`.\n",
        "\n",
        "```\n",
        "texts = [] to store text of article as it is.\n",
        "\n",
        "articles = [] split the above text into a list of sentences.\n",
        "```"
      ]
    },
    {
      "cell_type": "code",
      "metadata": {
        "id": "ctEu-d4c4EZs",
        "colab_type": "code",
        "colab": {}
      },
      "source": [
        "from nltk import tokenize"
      ],
      "execution_count": 0,
      "outputs": []
    },
    {
      "cell_type": "code",
      "metadata": {
        "id": "KPSUgwiX-8pD",
        "colab_type": "code",
        "outputId": "1d979abc-7cd7-4bfe-dfd7-9c1be9043fa4",
        "colab": {
          "base_uri": "https://localhost:8080/",
          "height": 34
        }
      },
      "source": [
        "#Vocabulary size \n",
        "vocab_size = len(tokenizer.word_index) + 1\n",
        "print(\"Voabulary Size: \",vocab_size )"
      ],
      "execution_count": 17,
      "outputs": [
        {
          "output_type": "stream",
          "text": [
            "Voabulary Size:  27874\n"
          ],
          "name": "stdout"
        }
      ]
    },
    {
      "cell_type": "code",
      "metadata": {
        "id": "yC0397i--9VC",
        "colab_type": "code",
        "colab": {}
      },
      "source": [
        "#To store the text of article as it is\n",
        "texts = []\n",
        "#split the above text into a list of sentences\n",
        "articles = []"
      ],
      "execution_count": 0,
      "outputs": []
    },
    {
      "cell_type": "code",
      "metadata": {
        "id": "nvcmGrMY_nG5",
        "colab_type": "code",
        "colab": {}
      },
      "source": [
        "#Splitting articleBody into sentences\n",
        "for i in range(dataset[\"articleBody\"].shape[0]):\n",
        "  t = dataset[\"articleBody\"][i]\n",
        "  texts.append(t)\n",
        "  s = tokenize.sent_tokenize(t)\n",
        "  articles.append(s)"
      ],
      "execution_count": 0,
      "outputs": []
    },
    {
      "cell_type": "markdown",
      "metadata": {
        "id": "koTVJjoO6P78",
        "colab_type": "text"
      },
      "source": [
        "## Check 2:\n",
        "\n",
        "first element of texts and articles should be as given below. "
      ]
    },
    {
      "cell_type": "code",
      "metadata": {
        "id": "3mWBW99p5UW9",
        "colab_type": "code",
        "outputId": "5012ffa3-57b2-4b48-f69a-cb2c449e240f",
        "colab": {
          "base_uri": "https://localhost:8080/",
          "height": 54
        }
      },
      "source": [
        "texts[0]"
      ],
      "execution_count": 20,
      "outputs": [
        {
          "output_type": "execute_result",
          "data": {
            "text/plain": [
              "'A small meteorite crashed into a wooded area in Nicaragua\\'s capital of Managua overnight, the government said Sunday. Residents reported hearing a mysterious boom that left a 16-foot deep crater near the city\\'s airport, the Associated Press reports. \\n\\nGovernment spokeswoman Rosario Murillo said a committee formed by the government to study the event determined it was a \"relatively small\" meteorite that \"appears to have come off an asteroid that was passing close to Earth.\" House-sized asteroid 2014 RC, which measured 60 feet in diameter, skimmed the Earth this weekend, ABC News reports. \\nMurillo said Nicaragua will ask international experts to help local scientists in understanding what happened.\\n\\nThe crater left by the meteorite had a radius of 39 feet and a depth of 16 feet,  said Humberto Saballos, a volcanologist with the Nicaraguan Institute of Territorial Studies who was on the committee. He said it is still not clear if the meteorite disintegrated or was buried.\\n\\nHumberto Garcia, of the Astronomy Center at the National Autonomous University of Nicaragua, said the meteorite could be related to an asteroid that was forecast to pass by the planet Saturday night.\\n\\n\"We have to study it more because it could be ice or rock,\" he said.\\n\\nWilfried Strauch, an adviser to the Institute of Territorial Studies, said it was \"very strange that no one reported a streak of light. We have to ask if anyone has a photo or something.\"\\n\\nLocal residents reported hearing a loud boom Saturday night, but said they didn\\'t see anything strange in the sky.\\n\\n\"I was sitting on my porch and I saw nothing, then all of a sudden I heard a large blast. We thought it was a bomb because we felt an expansive wave,\" Jorge Santamaria told The Associated Press.\\n\\nThe site of the crater is near Managua\\'s international airport and an air force base. Only journalists from state media were allowed to visit it.'"
            ]
          },
          "metadata": {
            "tags": []
          },
          "execution_count": 20
        }
      ]
    },
    {
      "cell_type": "code",
      "metadata": {
        "id": "WtIjO3ht5EKA",
        "colab_type": "code",
        "outputId": "a30563aa-9c8a-429e-aa1a-0fa9af3ba799",
        "colab": {
          "base_uri": "https://localhost:8080/",
          "height": 318
        }
      },
      "source": [
        "articles[0]"
      ],
      "execution_count": 21,
      "outputs": [
        {
          "output_type": "execute_result",
          "data": {
            "text/plain": [
              "[\"A small meteorite crashed into a wooded area in Nicaragua's capital of Managua overnight, the government said Sunday.\",\n",
              " \"Residents reported hearing a mysterious boom that left a 16-foot deep crater near the city's airport, the Associated Press reports.\",\n",
              " 'Government spokeswoman Rosario Murillo said a committee formed by the government to study the event determined it was a \"relatively small\" meteorite that \"appears to have come off an asteroid that was passing close to Earth.\"',\n",
              " 'House-sized asteroid 2014 RC, which measured 60 feet in diameter, skimmed the Earth this weekend, ABC News reports.',\n",
              " 'Murillo said Nicaragua will ask international experts to help local scientists in understanding what happened.',\n",
              " 'The crater left by the meteorite had a radius of 39 feet and a depth of 16 feet,  said Humberto Saballos, a volcanologist with the Nicaraguan Institute of Territorial Studies who was on the committee.',\n",
              " 'He said it is still not clear if the meteorite disintegrated or was buried.',\n",
              " 'Humberto Garcia, of the Astronomy Center at the National Autonomous University of Nicaragua, said the meteorite could be related to an asteroid that was forecast to pass by the planet Saturday night.',\n",
              " '\"We have to study it more because it could be ice or rock,\" he said.',\n",
              " 'Wilfried Strauch, an adviser to the Institute of Territorial Studies, said it was \"very strange that no one reported a streak of light.',\n",
              " 'We have to ask if anyone has a photo or something.\"',\n",
              " \"Local residents reported hearing a loud boom Saturday night, but said they didn't see anything strange in the sky.\",\n",
              " '\"I was sitting on my porch and I saw nothing, then all of a sudden I heard a large blast.',\n",
              " 'We thought it was a bomb because we felt an expansive wave,\" Jorge Santamaria told The Associated Press.',\n",
              " \"The site of the crater is near Managua's international airport and an air force base.\",\n",
              " 'Only journalists from state media were allowed to visit it.']"
            ]
          },
          "metadata": {
            "tags": []
          },
          "execution_count": 21
        }
      ]
    },
    {
      "cell_type": "markdown",
      "metadata": {
        "id": "fpuRIA7cCfcY",
        "colab_type": "text"
      },
      "source": [
        "# Now iterate through each article and each sentence to encode the words into ids using t.word_index  [5 marks] \n",
        "\n",
        "Here, to get words from sentence you can use `text_to_word_sequence` from keras preprocessing text.\n",
        "\n",
        "1. Import text_to_word_sequence\n",
        "\n",
        "2. Initialize a variable of shape (no.of articles, MAX_SENTS, MAX_SENT_LENGTH) with name `data` with zeros first (you can use numpy [np.zeros](https://docs.scipy.org/doc/numpy/reference/generated/numpy.zeros.html) to initialize with all zeros)and then update it while iterating through the words and sentences in each article."
      ]
    },
    {
      "cell_type": "code",
      "metadata": {
        "id": "YVyClBULCqWj",
        "colab_type": "code",
        "colab": {}
      },
      "source": [
        "#Importing libraries\n",
        "from keras.preprocessing.text import text_to_word_sequence"
      ],
      "execution_count": 0,
      "outputs": []
    },
    {
      "cell_type": "code",
      "metadata": {
        "id": "eZ4VG1_7dcdc",
        "colab_type": "code",
        "colab": {}
      },
      "source": [
        "#Encoding article\n",
        "data = np.zeros((len(texts), MAX_SENTS, MAX_SENT_LENGTH), dtype='int32')\n",
        "#Word index encoding\n",
        "for i, s in enumerate(articles):\n",
        "    for j, sentence in enumerate(s):\n",
        "        if j < MAX_SENTS:\n",
        "            Tokens = text_to_word_sequence(sentence)\n",
        "            k = 0\n",
        "            for _, token in enumerate(Tokens):\n",
        "                try:\n",
        "                    if k < MAX_SENT_LENGTH and tokenizer.word_index[token] < MAX_NB_WORDS:\n",
        "                      data[i, j, k] = tokenizer.word_index[token]\n",
        "                      k = k + 1\n",
        "                except:\n",
        "                      #print(token)\n",
        "                        pass"
      ],
      "execution_count": 0,
      "outputs": []
    },
    {
      "cell_type": "markdown",
      "metadata": {
        "id": "bFdmiDYcE144",
        "colab_type": "text"
      },
      "source": [
        "### Check 3:\n",
        "\n",
        "Accessing first element in data should give something like given below."
      ]
    },
    {
      "cell_type": "code",
      "metadata": {
        "id": "TsFWW5C2Djog",
        "colab_type": "code",
        "outputId": "c0745767-a49f-4057-8172-27c72c130325",
        "colab": {
          "base_uri": "https://localhost:8080/",
          "height": 1000
        }
      },
      "source": [
        "data[0, :, :]"
      ],
      "execution_count": 24,
      "outputs": [
        {
          "output_type": "execute_result",
          "data": {
            "text/plain": [
              "array([[    3,   481,   427,  7211,    81,     3,  3733,   331,     5,\n",
              "         3891,   350,     4,  1431,  2958,     1,    89,    12,   464,\n",
              "            0,     0],\n",
              "       [  758,    95,  1047,     3,  2679,  1752,     7,   189,     3,\n",
              "         1217,  1075,  2030,   700,   159,     1,  3032,   448,     1,\n",
              "          555,   235],\n",
              "       [   89,  1067,  4115,  2349,    12,     3,  1092,  3306,    19,\n",
              "            1,    89,     2,  1793,     1,   521,  2009,    15,     9,\n",
              "            3,  3111],\n",
              "       [  181,  3640,   972,   200,  2556,    44,  6775,  1722,  1252,\n",
              "            5, 13317, 17936,     1,   778,    31,   740,  3990,    67,\n",
              "           85,     0],\n",
              "       [ 2349,    12,  1557,    38,  1094,   351,   775,     2,   367,\n",
              "          260,  1770,     5,  4450,    70,   494,     0,     0,     0,\n",
              "            0,     0],\n",
              "       [    1,   700,   189,    19,     1,   427,    32,     3,  7417,\n",
              "            4,  2159,  1252,     6,     3,  5270,     4,  1217,  1252,\n",
              "           12,  3363],\n",
              "       [   13,    12,    15,     8,   149,    25,   543,    64,     1,\n",
              "          427,  3727,    41,     9,  1850,     0,     0,     0,     0,\n",
              "            0,     0],\n",
              "       [ 3363,  5733,     4,     1,  5875,   614,    21,     1,   311,\n",
              "         3438,   794,     4,  1557,    12,     1,   427,    69,    23,\n",
              "          787,     2],\n",
              "       [   37,    17,     2,  1793,    15,    52,   120,    15,    69,\n",
              "           23,  4921,    41,  1963,    13,    12,     0,     0,     0,\n",
              "            0,     0],\n",
              "       [ 4736,  3338,    24,  3969,     2,     1,  1316,     4,  3072,\n",
              "         1653,    12,    15,     9,   195,  1420,     7,    58,    40,\n",
              "           95,     3],\n",
              "       [   37,    17,     2,  1094,    64,   510,    20,     3,   250,\n",
              "           41,   264,     0,     0,     0,     0,     0,     0,     0,\n",
              "            0,     0],\n",
              "       [  260,   758,    95,  1047,     3,  1806,  1752,   531,   276,\n",
              "           29,    12,    33,   703,   163,   892,  1420,     5,     1,\n",
              "         2081,     0],\n",
              "       [   35,     9,  2057,    10,   116,  5825,     6,    35,   576,\n",
              "          656,   104,    59,     4,     3,  2410,    35,   241,     3,\n",
              "          512,  1911],\n",
              "       [   37,   341,    15,     9,     3,  2082,   120,    37,   881,\n",
              "           24,  4451,  2584,  4315,  4922,    55,     1,   555,   235,\n",
              "            0,     0],\n",
              "       [    1,   255,     4,     1,   700,     8,   159,  3961,   351,\n",
              "          448,     6,    24,   155,   465,  1929,     0,     0,     0,\n",
              "            0,     0],\n",
              "       [  126,   921,    22,    47,   100,    36,  1833,     2,  1212,\n",
              "           15,     0,     0,     0,     0,     0,     0,     0,     0,\n",
              "            0,     0],\n",
              "       [    0,     0,     0,     0,     0,     0,     0,     0,     0,\n",
              "            0,     0,     0,     0,     0,     0,     0,     0,     0,\n",
              "            0,     0],\n",
              "       [    0,     0,     0,     0,     0,     0,     0,     0,     0,\n",
              "            0,     0,     0,     0,     0,     0,     0,     0,     0,\n",
              "            0,     0],\n",
              "       [    0,     0,     0,     0,     0,     0,     0,     0,     0,\n",
              "            0,     0,     0,     0,     0,     0,     0,     0,     0,\n",
              "            0,     0],\n",
              "       [    0,     0,     0,     0,     0,     0,     0,     0,     0,\n",
              "            0,     0,     0,     0,     0,     0,     0,     0,     0,\n",
              "            0,     0]], dtype=int32)"
            ]
          },
          "metadata": {
            "tags": []
          },
          "execution_count": 24
        }
      ]
    },
    {
      "cell_type": "markdown",
      "metadata": {
        "id": "hTG6JySHehkT",
        "colab_type": "text"
      },
      "source": [
        "# Repeat the same process for the `Headings` as well. Use variables with names `texts_heading` and `articles_heading` accordingly. [5 marks] "
      ]
    },
    {
      "cell_type": "code",
      "metadata": {
        "id": "_CliiIhLemJV",
        "colab_type": "code",
        "colab": {}
      },
      "source": [
        "#To store text heading of article as it is\n",
        "texts_heading = []\n",
        "#split the above text heading into a list of sentences\n",
        "articles_heading = []"
      ],
      "execution_count": 0,
      "outputs": []
    },
    {
      "cell_type": "code",
      "metadata": {
        "id": "Rm2zdaIaiTmQ",
        "colab_type": "code",
        "colab": {}
      },
      "source": [
        "#Splitting Headine into sentences\n",
        "for i in range(dataset[\"Headline\"].shape[0]):\n",
        "  t = dataset[\"Headline\"][i]\n",
        "  texts_heading.append(t)\n",
        "  s = tokenize.sent_tokenize(t)\n",
        "  articles_heading.append(s)"
      ],
      "execution_count": 0,
      "outputs": []
    },
    {
      "cell_type": "code",
      "metadata": {
        "id": "myWhI-xPiTTH",
        "colab_type": "code",
        "outputId": "cda31324-3587-422c-b3e4-7a6b3cf514a5",
        "colab": {
          "base_uri": "https://localhost:8080/",
          "height": 34
        }
      },
      "source": [
        "texts_heading[0]"
      ],
      "execution_count": 27,
      "outputs": [
        {
          "output_type": "execute_result",
          "data": {
            "text/plain": [
              "'Soldier shot, Parliament locked down after gunfire erupts at war memorial'"
            ]
          },
          "metadata": {
            "tags": []
          },
          "execution_count": 27
        }
      ]
    },
    {
      "cell_type": "code",
      "metadata": {
        "id": "c-e5Rrifi2HR",
        "colab_type": "code",
        "outputId": "2e445fba-a6d9-4a2d-b8d0-3baab433fab8",
        "colab": {
          "base_uri": "https://localhost:8080/",
          "height": 34
        }
      },
      "source": [
        "articles_heading[0]"
      ],
      "execution_count": 28,
      "outputs": [
        {
          "output_type": "execute_result",
          "data": {
            "text/plain": [
              "['Soldier shot, Parliament locked down after gunfire erupts at war memorial']"
            ]
          },
          "metadata": {
            "tags": []
          },
          "execution_count": 28
        }
      ]
    },
    {
      "cell_type": "code",
      "metadata": {
        "id": "InKwgw6BjIaz",
        "colab_type": "code",
        "colab": {}
      },
      "source": [
        "#Encoding article\n",
        "data_heading = np.zeros((len(texts), MAX_SENTS_HEADING, MAX_SENT_LENGTH), dtype='int32')\n",
        "#Word index encoding\n",
        "for i, s in enumerate(articles_heading):\n",
        "    for j, sentence in enumerate(s):\n",
        "        if j < MAX_SENTS_HEADING:\n",
        "            Tokens = text_to_word_sequence(sentence)\n",
        "            k = 0\n",
        "            for _, token in enumerate(Tokens):\n",
        "                try:\n",
        "                    if k < MAX_SENT_LENGTH and tokenizer.word_index[token] < MAX_NB_WORDS:\n",
        "                      data_heading[i, j, k] = tokenizer.word_index[token]\n",
        "                      k = k + 1\n",
        "                except:\n",
        "                      #print(token)\n",
        "                        pass"
      ],
      "execution_count": 0,
      "outputs": []
    },
    {
      "cell_type": "code",
      "metadata": {
        "id": "gpZfk2qdjqxA",
        "colab_type": "code",
        "outputId": "a017382d-43f0-4943-8dc9-d97c086d4ad0",
        "colab": {
          "base_uri": "https://localhost:8080/",
          "height": 70
        }
      },
      "source": [
        "data_heading[0, :, :]"
      ],
      "execution_count": 30,
      "outputs": [
        {
          "output_type": "execute_result",
          "data": {
            "text/plain": [
              "array([[  718,   206,   343,  7134,   193,    34,  1338, 11554,    21,\n",
              "          233,   686,     0,     0,     0,     0,     0,     0,     0,\n",
              "            0,     0]], dtype=int32)"
            ]
          },
          "metadata": {
            "tags": []
          },
          "execution_count": 30
        }
      ]
    },
    {
      "cell_type": "markdown",
      "metadata": {
        "id": "iaH0Ey1qe_Co",
        "colab_type": "text"
      },
      "source": [
        "### Now the features are ready, lets make the labels ready for the model to process.\n",
        "\n",
        "### Convert labels into one-hot vectors\n",
        "\n",
        "You can use [get_dummies](https://pandas.pydata.org/pandas-docs/stable/generated/pandas.get_dummies.html) in pandas to create one-hot vectors."
      ]
    },
    {
      "cell_type": "code",
      "metadata": {
        "id": "Zq-VcgM8fat1",
        "colab_type": "code",
        "colab": {}
      },
      "source": [
        "#Converting labels into one-hot vectors\n",
        "labels = dataset['Stance']\n",
        "labels = pd.get_dummies(labels, sparse=True)\n",
        "labels = np.asarray(labels)"
      ],
      "execution_count": 0,
      "outputs": []
    },
    {
      "cell_type": "code",
      "metadata": {
        "id": "5ShGb2r-lBNq",
        "colab_type": "code",
        "outputId": "0c19fc2e-daa0-4b72-dae3-5599179591ee",
        "colab": {
          "base_uri": "https://localhost:8080/",
          "height": 140
        }
      },
      "source": [
        "labels"
      ],
      "execution_count": 32,
      "outputs": [
        {
          "output_type": "execute_result",
          "data": {
            "text/plain": [
              "array([[0, 0, 0, 1],\n",
              "       [0, 0, 0, 1],\n",
              "       [0, 0, 0, 1],\n",
              "       ...,\n",
              "       [1, 0, 0, 0],\n",
              "       [1, 0, 0, 0],\n",
              "       [1, 0, 0, 0]], dtype=uint8)"
            ]
          },
          "metadata": {
            "tags": []
          },
          "execution_count": 32
        }
      ]
    },
    {
      "cell_type": "markdown",
      "metadata": {
        "id": "40mA8FI2fcxZ",
        "colab_type": "text"
      },
      "source": [
        "### Check 4:\n",
        "\n",
        "The shape of data and labels shoould match the given below numbers."
      ]
    },
    {
      "cell_type": "code",
      "metadata": {
        "id": "vpEWEnjFfnFR",
        "colab_type": "code",
        "outputId": "3adb92e3-a8da-4c57-8eb8-398628e50173",
        "colab": {
          "base_uri": "https://localhost:8080/",
          "height": 52
        }
      },
      "source": [
        "print('Shape of data tensor:', data.shape)\n",
        "print('Shape of label tensor:', labels.shape)"
      ],
      "execution_count": 33,
      "outputs": [
        {
          "output_type": "stream",
          "text": [
            "Shape of data tensor: (49972, 20, 20)\n",
            "Shape of label tensor: (49972, 4)\n"
          ],
          "name": "stdout"
        }
      ]
    },
    {
      "cell_type": "code",
      "metadata": {
        "id": "Ip72IQZu00Bx",
        "colab_type": "code",
        "outputId": "2d58df41-41a7-404d-a4f2-abeeb0f2827f",
        "colab": {
          "base_uri": "https://localhost:8080/",
          "height": 34
        }
      },
      "source": [
        "print('Shape of Heading tensor:', data_heading.shape)"
      ],
      "execution_count": 34,
      "outputs": [
        {
          "output_type": "stream",
          "text": [
            "Shape of Heading tensor: (49972, 1, 20)\n"
          ],
          "name": "stdout"
        }
      ]
    },
    {
      "cell_type": "markdown",
      "metadata": {
        "id": "sDOxHdR3frDu",
        "colab_type": "text"
      },
      "source": [
        "### Shuffle the data"
      ]
    },
    {
      "cell_type": "code",
      "metadata": {
        "id": "-Ra-yYTvfzRt",
        "colab_type": "code",
        "colab": {}
      },
      "source": [
        "## get numbers upto no.of articles\n",
        "indices = np.arange(data.shape[0])\n",
        "## shuffle the numbers\n",
        "np.random.shuffle(indices)"
      ],
      "execution_count": 0,
      "outputs": []
    },
    {
      "cell_type": "code",
      "metadata": {
        "id": "LKnSqwIFf3Iy",
        "colab_type": "code",
        "colab": {}
      },
      "source": [
        "## shuffle the data\n",
        "data = data[indices]\n",
        "data_heading = data_heading[indices]\n",
        "## shuffle the labels according to data\n",
        "labels = labels[indices]"
      ],
      "execution_count": 0,
      "outputs": []
    },
    {
      "cell_type": "markdown",
      "metadata": {
        "id": "JcOFVfPBf9kA",
        "colab_type": "text"
      },
      "source": [
        "### Split into train and validation sets. Split the train set 80:20 ratio to get the train and validation sets.\n",
        "\n",
        "\n",
        "Use the variable names as given below:\n",
        "\n",
        "x_train, x_val - for body of articles.\n",
        "\n",
        "x-heading_train, x_heading_val - for heading of articles.\n",
        "\n",
        "y_train - for training labels.\n",
        "\n",
        "y_val - for validation labels.\n",
        "\n"
      ]
    },
    {
      "cell_type": "code",
      "metadata": {
        "id": "2neh9Wcof8iR",
        "colab_type": "code",
        "colab": {}
      },
      "source": [
        "#Dividing the 0.2 of dataset into validation sets\n",
        "validation_set = int(VALIDATION_SPLIT * data.shape[0])\n",
        "#Spliting the data into training and validation data\n",
        "x_train = data[:-validation_set]\n",
        "x_val = data[-validation_set:]\n",
        "x_heading_train = data_heading[:-validation_set]\n",
        "x_heading_val = data_heading[-validation_set:]\n",
        "y_train = labels[:-validation_set]\n",
        "y_val = labels[-validation_set:]"
      ],
      "execution_count": 0,
      "outputs": []
    },
    {
      "cell_type": "markdown",
      "metadata": {
        "id": "UTyvoHrsgMDw",
        "colab_type": "text"
      },
      "source": [
        "### Check 5:\n",
        "\n",
        "The shape of x_train, x_val, y_train and y_val should match the below numbers."
      ]
    },
    {
      "cell_type": "code",
      "metadata": {
        "id": "KLEbiw2Yghe2",
        "colab_type": "code",
        "outputId": "e2b7d62e-b035-4af0-e4d4-e075a06d25a2",
        "colab": {
          "base_uri": "https://localhost:8080/",
          "height": 87
        }
      },
      "source": [
        "print(x_train.shape)\n",
        "print(y_train.shape)\n",
        "\n",
        "print(x_val.shape)\n",
        "print(y_val.shape)"
      ],
      "execution_count": 38,
      "outputs": [
        {
          "output_type": "stream",
          "text": [
            "(39978, 20, 20)\n",
            "(39978, 4)\n",
            "(9994, 20, 20)\n",
            "(9994, 4)\n"
          ],
          "name": "stdout"
        }
      ]
    },
    {
      "cell_type": "code",
      "metadata": {
        "id": "rCGQtBmBFw8R",
        "colab_type": "code",
        "outputId": "955e96b2-c820-4d4a-9a9b-561b1c22c504",
        "colab": {
          "base_uri": "https://localhost:8080/",
          "height": 52
        }
      },
      "source": [
        "print(x_heading_train.shape)\n",
        "print(x_heading_val.shape)"
      ],
      "execution_count": 39,
      "outputs": [
        {
          "output_type": "stream",
          "text": [
            "(39978, 1, 20)\n",
            "(9994, 1, 20)\n"
          ],
          "name": "stdout"
        }
      ]
    },
    {
      "cell_type": "markdown",
      "metadata": {
        "id": "yNnoBtArhJ1E",
        "colab_type": "text"
      },
      "source": [
        "### Create embedding matrix with the glove embeddings\n",
        "\n",
        "\n",
        "Run the below code to create embedding_matrix which has all the words and their glove embedding if present in glove word list."
      ]
    },
    {
      "cell_type": "code",
      "metadata": {
        "id": "eKqn2IL2ZF8v",
        "colab_type": "code",
        "outputId": "f37ec137-2d75-43c5-89b3-df4b790afa44",
        "colab": {
          "base_uri": "https://localhost:8080/",
          "height": 34
        }
      },
      "source": [
        "# load the whole embedding into memory\n",
        "embeddings_index = dict()\n",
        "f = open('./glove.6B.100d.txt')\n",
        "for line in f:\n",
        "\tvalues = line.split()\n",
        "\tword = values[0]\n",
        "\tcoefs = np.asarray(values[1:], dtype='float32')\n",
        "\tembeddings_index[word] = coefs\n",
        "f.close()\n",
        "print('Loaded %s word vectors.' % len(embeddings_index))\n",
        "\n",
        "# create a weight matrix for words in training docs\n",
        "embedding_matrix = np.zeros((vocab_size, 100))\n",
        "\n",
        "\n",
        "for word, i in tokenizer.word_index.items():\n",
        "\tembedding_vector = embeddings_index.get(word)\n",
        "\tif embedding_vector is not None:\n",
        "\t\tembedding_matrix[i] = embedding_vector"
      ],
      "execution_count": 40,
      "outputs": [
        {
          "output_type": "stream",
          "text": [
            "Loaded 400000 word vectors.\n"
          ],
          "name": "stdout"
        }
      ]
    },
    {
      "cell_type": "markdown",
      "metadata": {
        "id": "LRi4o3ZspDFU",
        "colab_type": "text"
      },
      "source": [
        "# Try the sequential model approach and report the accuracy score. [10 marks]  "
      ]
    },
    {
      "cell_type": "markdown",
      "metadata": {
        "id": "zSZDnPWkw2ZZ",
        "colab_type": "text"
      },
      "source": [
        "### Import layers from Keras to build the model"
      ]
    },
    {
      "cell_type": "code",
      "metadata": {
        "id": "5AgwQsfMrzAQ",
        "colab_type": "code",
        "colab": {}
      },
      "source": [
        "from keras.models import Model,Sequential\n",
        "from keras.layers import Embedding,Dense, LSTM, GRU, Dropout, TimeDistributed, Bidirectional\n",
        "from keras.layers import Flatten, Input, concatenate\n",
        "from keras import backend as K\n",
        "from keras.engine.topology import Layer, InputSpec\n",
        "from keras import initializers"
      ],
      "execution_count": 0,
      "outputs": []
    },
    {
      "cell_type": "code",
      "metadata": {
        "id": "R1R-GlynYVGc",
        "colab_type": "code",
        "colab": {}
      },
      "source": [
        "Embed_dim = 100"
      ],
      "execution_count": 0,
      "outputs": []
    },
    {
      "cell_type": "markdown",
      "metadata": {
        "id": "bZh99vSrbGka",
        "colab_type": "text"
      },
      "source": [
        "### Model 1- LSTM Model"
      ]
    },
    {
      "cell_type": "code",
      "metadata": {
        "id": "eLWOqjqHR7Yw",
        "colab_type": "code",
        "colab": {
          "base_uri": "https://localhost:8080/",
          "height": 441
        },
        "outputId": "a86f65f6-1d43-44f1-907b-c01981a22b41"
      },
      "source": [
        "#Adding the input Layer for article\n",
        "a_Input_layer_1 = Input(shape=(MAX_SENT_LENGTH,), dtype='int32')\n",
        "#Adding Embedding Layer\n",
        "a_embedding_layer_1 = Embedding(output_dim=Embed_dim, input_dim=vocab_size, input_length=(MAX_SENT_LENGTH,), weights=[embedding_matrix])(a_Input_layer_1)\n",
        "#Adding LSTM Layer\n",
        "a_LSTM_layer_1 = (LSTM(256, return_sequences=True))(a_embedding_layer_1)\n",
        "#Adding Flatten Layer\n",
        "a_flatten_layer_1 = Flatten()(a_LSTM_layer_1)\n",
        "#Encoding \n",
        "Encoder_1 = Model(a_Input_layer_1,a_flatten_layer_1)\n",
        "\n",
        "#Adding input Layer\n",
        "a_Input_layer_11 = Input(shape=(MAX_SENTS,MAX_SENT_LENGTH), dtype='int32')\n",
        "#Adding TimeDistributed Layer\n",
        "article_encoder_1 = TimeDistributed(Encoder_1)(a_Input_layer_11)\n",
        "#Adding LSTM layer\n",
        "a_LSTM_layer_11 = LSTM(256,return_sequences=True,dropout = 0.2, recurrent_dropout = 0.2)(article_encoder_1)\n",
        "#Adding Flatten Layer\n",
        "a_flatten_layer_11 = Flatten()(a_LSTM_layer_11)\n",
        "\n",
        "#Adding input Layer for heading\n",
        "h_input_layer_1 = Input(shape=(MAX_SENTS_HEADING, MAX_SENT_LENGTH,), dtype='int32')\n",
        "#Adding Embedding Layer\n",
        "h_embedded_layer_1 = Embedding(output_dim=Embed_dim, input_dim=vocab_size,  input_length=(MAX_SENTS_HEADING, MAX_SENT_LENGTH,), weights=[embedding_matrix])(h_input_layer_1)\n",
        "#Adding Flatten Layer\n",
        "h_flatten_layer_1 = Flatten()(h_embedded_layer_1)\n",
        "\n",
        "#Concatenating the two model\n",
        "output_1 = concatenate([a_flatten_layer_11, h_flatten_layer_1], name='concatenate_heading')\n",
        "\n",
        "#Adding the Dense Layer\n",
        "f_dense_layer_1 = Dense(100, activation='relu')(output_1)\n",
        "#Adding the Dense Layer\n",
        "final_output_1 = Dense(4, activation='softmax')(f_dense_layer_1)\n",
        "\n",
        "#Model Building\n",
        "model_1 = Model([a_Input_layer_11, h_input_layer_1], [final_output_1])"
      ],
      "execution_count": 43,
      "outputs": [
        {
          "output_type": "stream",
          "text": [
            "WARNING:tensorflow:From /usr/local/lib/python3.6/dist-packages/keras/backend/tensorflow_backend.py:66: The name tf.get_default_graph is deprecated. Please use tf.compat.v1.get_default_graph instead.\n",
            "\n",
            "WARNING:tensorflow:From /usr/local/lib/python3.6/dist-packages/keras/backend/tensorflow_backend.py:541: The name tf.placeholder is deprecated. Please use tf.compat.v1.placeholder instead.\n",
            "\n",
            "WARNING:tensorflow:From /usr/local/lib/python3.6/dist-packages/keras/backend/tensorflow_backend.py:4432: The name tf.random_uniform is deprecated. Please use tf.random.uniform instead.\n",
            "\n",
            "WARNING:tensorflow:From /usr/local/lib/python3.6/dist-packages/keras/backend/tensorflow_backend.py:190: The name tf.get_default_session is deprecated. Please use tf.compat.v1.get_default_session instead.\n",
            "\n",
            "WARNING:tensorflow:From /usr/local/lib/python3.6/dist-packages/keras/backend/tensorflow_backend.py:197: The name tf.ConfigProto is deprecated. Please use tf.compat.v1.ConfigProto instead.\n",
            "\n",
            "WARNING:tensorflow:From /usr/local/lib/python3.6/dist-packages/keras/backend/tensorflow_backend.py:203: The name tf.Session is deprecated. Please use tf.compat.v1.Session instead.\n",
            "\n",
            "WARNING:tensorflow:From /usr/local/lib/python3.6/dist-packages/keras/backend/tensorflow_backend.py:207: The name tf.global_variables is deprecated. Please use tf.compat.v1.global_variables instead.\n",
            "\n",
            "WARNING:tensorflow:From /usr/local/lib/python3.6/dist-packages/keras/backend/tensorflow_backend.py:216: The name tf.is_variable_initialized is deprecated. Please use tf.compat.v1.is_variable_initialized instead.\n",
            "\n",
            "WARNING:tensorflow:From /usr/local/lib/python3.6/dist-packages/keras/backend/tensorflow_backend.py:223: The name tf.variables_initializer is deprecated. Please use tf.compat.v1.variables_initializer instead.\n",
            "\n",
            "WARNING:tensorflow:From /usr/local/lib/python3.6/dist-packages/keras/backend/tensorflow_backend.py:148: The name tf.placeholder_with_default is deprecated. Please use tf.compat.v1.placeholder_with_default instead.\n",
            "\n",
            "WARNING:tensorflow:From /usr/local/lib/python3.6/dist-packages/keras/backend/tensorflow_backend.py:3733: calling dropout (from tensorflow.python.ops.nn_ops) with keep_prob is deprecated and will be removed in a future version.\n",
            "Instructions for updating:\n",
            "Please use `rate` instead of `keep_prob`. Rate should be set to `rate = 1 - keep_prob`.\n"
          ],
          "name": "stdout"
        }
      ]
    },
    {
      "cell_type": "code",
      "metadata": {
        "id": "h9wuHi_dR7oB",
        "colab_type": "code",
        "outputId": "05836f05-5c9d-467e-81ec-8191746e4502",
        "colab": {
          "base_uri": "https://localhost:8080/",
          "height": 526
        }
      },
      "source": [
        "model_1.summary()"
      ],
      "execution_count": 44,
      "outputs": [
        {
          "output_type": "stream",
          "text": [
            "Model: \"model_2\"\n",
            "__________________________________________________________________________________________________\n",
            "Layer (type)                    Output Shape         Param #     Connected to                     \n",
            "==================================================================================================\n",
            "input_2 (InputLayer)            (None, 20, 20)       0                                            \n",
            "__________________________________________________________________________________________________\n",
            "time_distributed_1 (TimeDistrib (None, 20, 5120)     3152968     input_2[0][0]                    \n",
            "__________________________________________________________________________________________________\n",
            "input_3 (InputLayer)            (None, 1, 20)        0                                            \n",
            "__________________________________________________________________________________________________\n",
            "lstm_2 (LSTM)                   (None, 20, 256)      5506048     time_distributed_1[0][0]         \n",
            "__________________________________________________________________________________________________\n",
            "embedding_2 (Embedding)         (None, 1, 20, 100)   2787400     input_3[0][0]                    \n",
            "__________________________________________________________________________________________________\n",
            "flatten_2 (Flatten)             (None, 5120)         0           lstm_2[0][0]                     \n",
            "__________________________________________________________________________________________________\n",
            "flatten_3 (Flatten)             (None, 2000)         0           embedding_2[0][0]                \n",
            "__________________________________________________________________________________________________\n",
            "concatenate_heading (Concatenat (None, 7120)         0           flatten_2[0][0]                  \n",
            "                                                                 flatten_3[0][0]                  \n",
            "__________________________________________________________________________________________________\n",
            "dense_1 (Dense)                 (None, 100)          712100      concatenate_heading[0][0]        \n",
            "__________________________________________________________________________________________________\n",
            "dense_2 (Dense)                 (None, 4)            404         dense_1[0][0]                    \n",
            "==================================================================================================\n",
            "Total params: 12,158,920\n",
            "Trainable params: 12,158,920\n",
            "Non-trainable params: 0\n",
            "__________________________________________________________________________________________________\n"
          ],
          "name": "stdout"
        }
      ]
    },
    {
      "cell_type": "code",
      "metadata": {
        "id": "VFtTDijKR7y5",
        "colab_type": "code",
        "outputId": "a565a3b6-6acd-4f65-d112-6cc1e4bb9984",
        "colab": {
          "base_uri": "https://localhost:8080/",
          "height": 335
        }
      },
      "source": [
        "from keras.utils import plot_model\n",
        "import matplotlib.pyplot as plt\n",
        "plot_model(model_1,to_file='/content/drive/My Drive/Fake News Challenge/model_1.png',  show_shapes=True,   show_layer_names=False,rankdir='LR')\n",
        "from IPython.display import SVG\n",
        "from keras.utils import model_to_dot\n",
        "SVG(model_to_dot(model_1,rankdir='LR', show_shapes=True, show_layer_names=False,).create(prog='dot', format='svg'))"
      ],
      "execution_count": 45,
      "outputs": [
        {
          "output_type": "execute_result",
          "data": {
            "text/plain": [
              "<IPython.core.display.SVG object>"
            ],
            "image/svg+xml": "<svg height=\"221pt\" viewBox=\"0.00 0.00 1719.00 166.00\" width=\"2292pt\" xmlns=\"http://www.w3.org/2000/svg\" xmlns:xlink=\"http://www.w3.org/1999/xlink\">\n<g class=\"graph\" id=\"graph0\" transform=\"scale(1.3333 1.3333) rotate(0) translate(4 162)\">\n<title>G</title>\n<polygon fill=\"#ffffff\" points=\"-4,4 -4,-162 1715,-162 1715,4 -4,4\" stroke=\"transparent\"/>\n<!-- 140267987456800 -->\n<g class=\"node\" id=\"node1\">\n<title>140267987456800</title>\n<polygon fill=\"none\" points=\"0,-88.5 0,-157.5 204,-157.5 204,-88.5 0,-88.5\" stroke=\"#000000\"/>\n<text fill=\"#000000\" font-family=\"Times,serif\" font-size=\"14.00\" text-anchor=\"middle\" x=\"102\" y=\"-142.3\">InputLayer</text>\n<polyline fill=\"none\" points=\"0,-134.5 204,-134.5 \" stroke=\"#000000\"/>\n<text fill=\"#000000\" font-family=\"Times,serif\" font-size=\"14.00\" text-anchor=\"middle\" x=\"49\" y=\"-119.3\">input:</text>\n<polyline fill=\"none\" points=\"98,-111.5 98,-134.5 \" stroke=\"#000000\"/>\n<text fill=\"#000000\" font-family=\"Times,serif\" font-size=\"14.00\" text-anchor=\"middle\" x=\"151\" y=\"-119.3\">output:</text>\n<polyline fill=\"none\" points=\"0,-111.5 204,-111.5 \" stroke=\"#000000\"/>\n<text fill=\"#000000\" font-family=\"Times,serif\" font-size=\"14.00\" text-anchor=\"middle\" x=\"51\" y=\"-96.3\">(None, 20, 20)</text>\n<polyline fill=\"none\" points=\"102,-88.5 102,-111.5 \" stroke=\"#000000\"/>\n<text fill=\"#000000\" font-family=\"Times,serif\" font-size=\"14.00\" text-anchor=\"middle\" x=\"153\" y=\"-96.3\">(None, 20, 20)</text>\n</g>\n<!-- 140267727616992 -->\n<g class=\"node\" id=\"node2\">\n<title>140267727616992</title>\n<polygon fill=\"none\" points=\"240,-88.5 240,-157.5 459,-157.5 459,-88.5 240,-88.5\" stroke=\"#000000\"/>\n<text fill=\"#000000\" font-family=\"Times,serif\" font-size=\"14.00\" text-anchor=\"middle\" x=\"349.5\" y=\"-142.3\">TimeDistributed(Model)</text>\n<polyline fill=\"none\" points=\"240,-134.5 459,-134.5 \" stroke=\"#000000\"/>\n<text fill=\"#000000\" font-family=\"Times,serif\" font-size=\"14.00\" text-anchor=\"middle\" x=\"292.5\" y=\"-119.3\">input:</text>\n<polyline fill=\"none\" points=\"345,-111.5 345,-134.5 \" stroke=\"#000000\"/>\n<text fill=\"#000000\" font-family=\"Times,serif\" font-size=\"14.00\" text-anchor=\"middle\" x=\"402\" y=\"-119.3\">output:</text>\n<polyline fill=\"none\" points=\"240,-111.5 459,-111.5 \" stroke=\"#000000\"/>\n<text fill=\"#000000\" font-family=\"Times,serif\" font-size=\"14.00\" text-anchor=\"middle\" x=\"291\" y=\"-96.3\">(None, 20, 20)</text>\n<polyline fill=\"none\" points=\"342,-88.5 342,-111.5 \" stroke=\"#000000\"/>\n<text fill=\"#000000\" font-family=\"Times,serif\" font-size=\"14.00\" text-anchor=\"middle\" x=\"400.5\" y=\"-96.3\">(None, 20, 5120)</text>\n</g>\n<!-- 140267987456800&#45;&gt;140267727616992 -->\n<g class=\"edge\" id=\"edge1\">\n<title>140267987456800-&gt;140267727616992</title>\n<path d=\"M204.0966,-123C212.4273,-123 220.8931,-123 229.3366,-123\" fill=\"none\" stroke=\"#000000\"/>\n<polygon fill=\"#000000\" points=\"229.6143,-126.5001 239.6142,-123 229.6142,-119.5001 229.6143,-126.5001\" stroke=\"#000000\"/>\n</g>\n<!-- 140267727643424 -->\n<g class=\"node\" id=\"node4\">\n<title>140267727643424</title>\n<polygon fill=\"none\" points=\"495,-88.5 495,-157.5 722,-157.5 722,-88.5 495,-88.5\" stroke=\"#000000\"/>\n<text fill=\"#000000\" font-family=\"Times,serif\" font-size=\"14.00\" text-anchor=\"middle\" x=\"608.5\" y=\"-142.3\">LSTM</text>\n<polyline fill=\"none\" points=\"495,-134.5 722,-134.5 \" stroke=\"#000000\"/>\n<text fill=\"#000000\" font-family=\"Times,serif\" font-size=\"14.00\" text-anchor=\"middle\" x=\"549.5\" y=\"-119.3\">input:</text>\n<polyline fill=\"none\" points=\"604,-111.5 604,-134.5 \" stroke=\"#000000\"/>\n<text fill=\"#000000\" font-family=\"Times,serif\" font-size=\"14.00\" text-anchor=\"middle\" x=\"663\" y=\"-119.3\">output:</text>\n<polyline fill=\"none\" points=\"495,-111.5 722,-111.5 \" stroke=\"#000000\"/>\n<text fill=\"#000000\" font-family=\"Times,serif\" font-size=\"14.00\" text-anchor=\"middle\" x=\"553.5\" y=\"-96.3\">(None, 20, 5120)</text>\n<polyline fill=\"none\" points=\"612,-88.5 612,-111.5 \" stroke=\"#000000\"/>\n<text fill=\"#000000\" font-family=\"Times,serif\" font-size=\"14.00\" text-anchor=\"middle\" x=\"667\" y=\"-96.3\">(None, 20, 256)</text>\n</g>\n<!-- 140267727616992&#45;&gt;140267727643424 -->\n<g class=\"edge\" id=\"edge2\">\n<title>140267727616992-&gt;140267727643424</title>\n<path d=\"M459.3393,-123C467.6709,-123 476.1136,-123 484.5252,-123\" fill=\"none\" stroke=\"#000000\"/>\n<polygon fill=\"#000000\" points=\"484.7605,-126.5001 494.7604,-123 484.7604,-119.5001 484.7605,-126.5001\" stroke=\"#000000\"/>\n</g>\n<!-- 140267727108584 -->\n<g class=\"node\" id=\"node3\">\n<title>140267727108584</title>\n<polygon fill=\"none\" points=\"254.5,-.5 254.5,-69.5 444.5,-69.5 444.5,-.5 254.5,-.5\" stroke=\"#000000\"/>\n<text fill=\"#000000\" font-family=\"Times,serif\" font-size=\"14.00\" text-anchor=\"middle\" x=\"349.5\" y=\"-54.3\">InputLayer</text>\n<polyline fill=\"none\" points=\"254.5,-46.5 444.5,-46.5 \" stroke=\"#000000\"/>\n<text fill=\"#000000\" font-family=\"Times,serif\" font-size=\"14.00\" text-anchor=\"middle\" x=\"300\" y=\"-31.3\">input:</text>\n<polyline fill=\"none\" points=\"345.5,-23.5 345.5,-46.5 \" stroke=\"#000000\"/>\n<text fill=\"#000000\" font-family=\"Times,serif\" font-size=\"14.00\" text-anchor=\"middle\" x=\"395\" y=\"-31.3\">output:</text>\n<polyline fill=\"none\" points=\"254.5,-23.5 444.5,-23.5 \" stroke=\"#000000\"/>\n<text fill=\"#000000\" font-family=\"Times,serif\" font-size=\"14.00\" text-anchor=\"middle\" x=\"302\" y=\"-8.3\">(None, 1, 20)</text>\n<polyline fill=\"none\" points=\"349.5,-.5 349.5,-23.5 \" stroke=\"#000000\"/>\n<text fill=\"#000000\" font-family=\"Times,serif\" font-size=\"14.00\" text-anchor=\"middle\" x=\"397\" y=\"-8.3\">(None, 1, 20)</text>\n</g>\n<!-- 140266285904224 -->\n<g class=\"node\" id=\"node5\">\n<title>140266285904224</title>\n<polygon fill=\"none\" points=\"498.5,-.5 498.5,-69.5 718.5,-69.5 718.5,-.5 498.5,-.5\" stroke=\"#000000\"/>\n<text fill=\"#000000\" font-family=\"Times,serif\" font-size=\"14.00\" text-anchor=\"middle\" x=\"608.5\" y=\"-54.3\">Embedding</text>\n<polyline fill=\"none\" points=\"498.5,-46.5 718.5,-46.5 \" stroke=\"#000000\"/>\n<text fill=\"#000000\" font-family=\"Times,serif\" font-size=\"14.00\" text-anchor=\"middle\" x=\"551.5\" y=\"-31.3\">input:</text>\n<polyline fill=\"none\" points=\"604.5,-23.5 604.5,-46.5 \" stroke=\"#000000\"/>\n<text fill=\"#000000\" font-family=\"Times,serif\" font-size=\"14.00\" text-anchor=\"middle\" x=\"661.5\" y=\"-31.3\">output:</text>\n<polyline fill=\"none\" points=\"498.5,-23.5 718.5,-23.5 \" stroke=\"#000000\"/>\n<text fill=\"#000000\" font-family=\"Times,serif\" font-size=\"14.00\" text-anchor=\"middle\" x=\"546\" y=\"-8.3\">(None, 1, 20)</text>\n<polyline fill=\"none\" points=\"593.5,-.5 593.5,-23.5 \" stroke=\"#000000\"/>\n<text fill=\"#000000\" font-family=\"Times,serif\" font-size=\"14.00\" text-anchor=\"middle\" x=\"656\" y=\"-8.3\">(None, 1, 20, 100)</text>\n</g>\n<!-- 140267727108584&#45;&gt;140266285904224 -->\n<g class=\"edge\" id=\"edge3\">\n<title>140267727108584-&gt;140266285904224</title>\n<path d=\"M444.8386,-35C459.0189,-35 473.7878,-35 488.3963,-35\" fill=\"none\" stroke=\"#000000\"/>\n<polygon fill=\"#000000\" points=\"488.4752,-38.5001 498.4751,-35 488.4751,-31.5001 488.4752,-38.5001\" stroke=\"#000000\"/>\n</g>\n<!-- 140267727616936 -->\n<g class=\"node\" id=\"node6\">\n<title>140267727616936</title>\n<polygon fill=\"none\" points=\"765.5,-88.5 765.5,-157.5 970.5,-157.5 970.5,-88.5 765.5,-88.5\" stroke=\"#000000\"/>\n<text fill=\"#000000\" font-family=\"Times,serif\" font-size=\"14.00\" text-anchor=\"middle\" x=\"868\" y=\"-142.3\">Flatten</text>\n<polyline fill=\"none\" points=\"765.5,-134.5 970.5,-134.5 \" stroke=\"#000000\"/>\n<text fill=\"#000000\" font-family=\"Times,serif\" font-size=\"14.00\" text-anchor=\"middle\" x=\"814.5\" y=\"-119.3\">input:</text>\n<polyline fill=\"none\" points=\"863.5,-111.5 863.5,-134.5 \" stroke=\"#000000\"/>\n<text fill=\"#000000\" font-family=\"Times,serif\" font-size=\"14.00\" text-anchor=\"middle\" x=\"917\" y=\"-119.3\">output:</text>\n<polyline fill=\"none\" points=\"765.5,-111.5 970.5,-111.5 \" stroke=\"#000000\"/>\n<text fill=\"#000000\" font-family=\"Times,serif\" font-size=\"14.00\" text-anchor=\"middle\" x=\"820.5\" y=\"-96.3\">(None, 20, 256)</text>\n<polyline fill=\"none\" points=\"875.5,-88.5 875.5,-111.5 \" stroke=\"#000000\"/>\n<text fill=\"#000000\" font-family=\"Times,serif\" font-size=\"14.00\" text-anchor=\"middle\" x=\"923\" y=\"-96.3\">(None, 5120)</text>\n</g>\n<!-- 140267727643424&#45;&gt;140267727616936 -->\n<g class=\"edge\" id=\"edge4\">\n<title>140267727643424-&gt;140267727616936</title>\n<path d=\"M722.3205,-123C733.1564,-123 744.1428,-123 754.9712,-123\" fill=\"none\" stroke=\"#000000\"/>\n<polygon fill=\"#000000\" points=\"755.2947,-126.5001 765.2946,-123 755.2946,-119.5001 755.2947,-126.5001\" stroke=\"#000000\"/>\n</g>\n<!-- 140266285733480 -->\n<g class=\"node\" id=\"node7\">\n<title>140266285733480</title>\n<polygon fill=\"none\" points=\"758,-.5 758,-69.5 978,-69.5 978,-.5 758,-.5\" stroke=\"#000000\"/>\n<text fill=\"#000000\" font-family=\"Times,serif\" font-size=\"14.00\" text-anchor=\"middle\" x=\"868\" y=\"-54.3\">Flatten</text>\n<polyline fill=\"none\" points=\"758,-46.5 978,-46.5 \" stroke=\"#000000\"/>\n<text fill=\"#000000\" font-family=\"Times,serif\" font-size=\"14.00\" text-anchor=\"middle\" x=\"811\" y=\"-31.3\">input:</text>\n<polyline fill=\"none\" points=\"864,-23.5 864,-46.5 \" stroke=\"#000000\"/>\n<text fill=\"#000000\" font-family=\"Times,serif\" font-size=\"14.00\" text-anchor=\"middle\" x=\"921\" y=\"-31.3\">output:</text>\n<polyline fill=\"none\" points=\"758,-23.5 978,-23.5 \" stroke=\"#000000\"/>\n<text fill=\"#000000\" font-family=\"Times,serif\" font-size=\"14.00\" text-anchor=\"middle\" x=\"820.5\" y=\"-8.3\">(None, 1, 20, 100)</text>\n<polyline fill=\"none\" points=\"883,-.5 883,-23.5 \" stroke=\"#000000\"/>\n<text fill=\"#000000\" font-family=\"Times,serif\" font-size=\"14.00\" text-anchor=\"middle\" x=\"930.5\" y=\"-8.3\">(None, 2000)</text>\n</g>\n<!-- 140266285904224&#45;&gt;140266285733480 -->\n<g class=\"edge\" id=\"edge5\">\n<title>140266285904224-&gt;140266285733480</title>\n<path d=\"M718.5514,-35C728.1887,-35 737.9744,-35 747.6892,-35\" fill=\"none\" stroke=\"#000000\"/>\n<polygon fill=\"#000000\" points=\"747.7782,-38.5001 757.7782,-35 747.7781,-31.5001 747.7782,-38.5001\" stroke=\"#000000\"/>\n</g>\n<!-- 140266285906240 -->\n<g class=\"node\" id=\"node8\">\n<title>140266285906240</title>\n<polygon fill=\"none\" points=\"1014,-44.5 1014,-113.5 1298,-113.5 1298,-44.5 1014,-44.5\" stroke=\"#000000\"/>\n<text fill=\"#000000\" font-family=\"Times,serif\" font-size=\"14.00\" text-anchor=\"middle\" x=\"1156\" y=\"-98.3\">Concatenate</text>\n<polyline fill=\"none\" points=\"1014,-90.5 1298,-90.5 \" stroke=\"#000000\"/>\n<text fill=\"#000000\" font-family=\"Times,serif\" font-size=\"14.00\" text-anchor=\"middle\" x=\"1083\" y=\"-75.3\">input:</text>\n<polyline fill=\"none\" points=\"1152,-67.5 1152,-90.5 \" stroke=\"#000000\"/>\n<text fill=\"#000000\" font-family=\"Times,serif\" font-size=\"14.00\" text-anchor=\"middle\" x=\"1225\" y=\"-75.3\">output:</text>\n<polyline fill=\"none\" points=\"1014,-67.5 1298,-67.5 \" stroke=\"#000000\"/>\n<text fill=\"#000000\" font-family=\"Times,serif\" font-size=\"14.00\" text-anchor=\"middle\" x=\"1108.5\" y=\"-52.3\">[(None, 5120), (None, 2000)]</text>\n<polyline fill=\"none\" points=\"1203,-44.5 1203,-67.5 \" stroke=\"#000000\"/>\n<text fill=\"#000000\" font-family=\"Times,serif\" font-size=\"14.00\" text-anchor=\"middle\" x=\"1250.5\" y=\"-52.3\">(None, 7120)</text>\n</g>\n<!-- 140267727616936&#45;&gt;140266285906240 -->\n<g class=\"edge\" id=\"edge6\">\n<title>140267727616936-&gt;140266285906240</title>\n<path d=\"M970.7549,-107.3013C981.4532,-105.6669 992.4833,-103.9817 1003.5803,-102.2863\" fill=\"none\" stroke=\"#000000\"/>\n<polygon fill=\"#000000\" points=\"1004.4259,-105.6978 1013.7826,-100.7277 1003.3687,-98.7781 1004.4259,-105.6978\" stroke=\"#000000\"/>\n</g>\n<!-- 140266285733480&#45;&gt;140266285906240 -->\n<g class=\"edge\" id=\"edge7\">\n<title>140266285733480-&gt;140266285906240</title>\n<path d=\"M978.1132,-51.8229C986.5592,-53.1132 995.17,-54.4288 1003.8204,-55.7503\" fill=\"none\" stroke=\"#000000\"/>\n<polygon fill=\"#000000\" points=\"1003.5718,-59.2529 1013.9857,-57.3034 1004.629,-52.3332 1003.5718,-59.2529\" stroke=\"#000000\"/>\n</g>\n<!-- 140266285765128 -->\n<g class=\"node\" id=\"node9\">\n<title>140266285765128</title>\n<polygon fill=\"none\" points=\"1334,-44.5 1334,-113.5 1516,-113.5 1516,-44.5 1334,-44.5\" stroke=\"#000000\"/>\n<text fill=\"#000000\" font-family=\"Times,serif\" font-size=\"14.00\" text-anchor=\"middle\" x=\"1425\" y=\"-98.3\">Dense</text>\n<polyline fill=\"none\" points=\"1334,-90.5 1516,-90.5 \" stroke=\"#000000\"/>\n<text fill=\"#000000\" font-family=\"Times,serif\" font-size=\"14.00\" text-anchor=\"middle\" x=\"1377.5\" y=\"-75.3\">input:</text>\n<polyline fill=\"none\" points=\"1421,-67.5 1421,-90.5 \" stroke=\"#000000\"/>\n<text fill=\"#000000\" font-family=\"Times,serif\" font-size=\"14.00\" text-anchor=\"middle\" x=\"1468.5\" y=\"-75.3\">output:</text>\n<polyline fill=\"none\" points=\"1334,-67.5 1516,-67.5 \" stroke=\"#000000\"/>\n<text fill=\"#000000\" font-family=\"Times,serif\" font-size=\"14.00\" text-anchor=\"middle\" x=\"1381.5\" y=\"-52.3\">(None, 7120)</text>\n<polyline fill=\"none\" points=\"1429,-44.5 1429,-67.5 \" stroke=\"#000000\"/>\n<text fill=\"#000000\" font-family=\"Times,serif\" font-size=\"14.00\" text-anchor=\"middle\" x=\"1472.5\" y=\"-52.3\">(None, 100)</text>\n</g>\n<!-- 140266285906240&#45;&gt;140266285765128 -->\n<g class=\"edge\" id=\"edge8\">\n<title>140266285906240-&gt;140266285765128</title>\n<path d=\"M1298.3769,-79C1306.8884,-79 1315.3578,-79 1323.6479,-79\" fill=\"none\" stroke=\"#000000\"/>\n<polygon fill=\"#000000\" points=\"1323.6621,-82.5001 1333.6621,-79 1323.662,-75.5001 1323.6621,-82.5001\" stroke=\"#000000\"/>\n</g>\n<!-- 140266285829648 -->\n<g class=\"node\" id=\"node10\">\n<title>140266285829648</title>\n<polygon fill=\"none\" points=\"1552,-44.5 1552,-113.5 1711,-113.5 1711,-44.5 1552,-44.5\" stroke=\"#000000\"/>\n<text fill=\"#000000\" font-family=\"Times,serif\" font-size=\"14.00\" text-anchor=\"middle\" x=\"1631.5\" y=\"-98.3\">Dense</text>\n<polyline fill=\"none\" points=\"1552,-90.5 1711,-90.5 \" stroke=\"#000000\"/>\n<text fill=\"#000000\" font-family=\"Times,serif\" font-size=\"14.00\" text-anchor=\"middle\" x=\"1589.5\" y=\"-75.3\">input:</text>\n<polyline fill=\"none\" points=\"1627,-67.5 1627,-90.5 \" stroke=\"#000000\"/>\n<text fill=\"#000000\" font-family=\"Times,serif\" font-size=\"14.00\" text-anchor=\"middle\" x=\"1669\" y=\"-75.3\">output:</text>\n<polyline fill=\"none\" points=\"1552,-67.5 1711,-67.5 \" stroke=\"#000000\"/>\n<text fill=\"#000000\" font-family=\"Times,serif\" font-size=\"14.00\" text-anchor=\"middle\" x=\"1595.5\" y=\"-52.3\">(None, 100)</text>\n<polyline fill=\"none\" points=\"1639,-44.5 1639,-67.5 \" stroke=\"#000000\"/>\n<text fill=\"#000000\" font-family=\"Times,serif\" font-size=\"14.00\" text-anchor=\"middle\" x=\"1675\" y=\"-52.3\">(None, 4)</text>\n</g>\n<!-- 140266285765128&#45;&gt;140266285829648 -->\n<g class=\"edge\" id=\"edge9\">\n<title>140266285765128-&gt;140266285829648</title>\n<path d=\"M1516.175,-79C1524.6244,-79 1533.1831,-79 1541.6207,-79\" fill=\"none\" stroke=\"#000000\"/>\n<polygon fill=\"#000000\" points=\"1541.8371,-82.5001 1551.8371,-79 1541.8371,-75.5001 1541.8371,-82.5001\" stroke=\"#000000\"/>\n</g>\n</g>\n</svg>"
          },
          "metadata": {
            "tags": []
          },
          "execution_count": 45
        }
      ]
    },
    {
      "cell_type": "code",
      "metadata": {
        "id": "IykBFscHR7_f",
        "colab_type": "code",
        "outputId": "abc38461-bc0a-4fc9-96a2-103e4817bd15",
        "colab": {
          "base_uri": "https://localhost:8080/",
          "height": 687
        }
      },
      "source": [
        "#Compiling the model\n",
        "model_1.compile(loss='categorical_crossentropy', optimizer='rmsprop', metrics=['acc'])\n",
        "#Fitting the model\n",
        "model_1.fit([x_train, x_heading_train], [y_train], validation_data=([x_val, x_heading_val], [y_val]), epochs=12, batch_size=100)"
      ],
      "execution_count": 46,
      "outputs": [
        {
          "output_type": "stream",
          "text": [
            "WARNING:tensorflow:From /usr/local/lib/python3.6/dist-packages/keras/optimizers.py:793: The name tf.train.Optimizer is deprecated. Please use tf.compat.v1.train.Optimizer instead.\n",
            "\n",
            "WARNING:tensorflow:From /usr/local/lib/python3.6/dist-packages/keras/backend/tensorflow_backend.py:3576: The name tf.log is deprecated. Please use tf.math.log instead.\n",
            "\n",
            "WARNING:tensorflow:From /usr/local/lib/python3.6/dist-packages/tensorflow_core/python/ops/math_grad.py:1424: where (from tensorflow.python.ops.array_ops) is deprecated and will be removed in a future version.\n",
            "Instructions for updating:\n",
            "Use tf.where in 2.0, which has the same broadcast rule as np.where\n",
            "WARNING:tensorflow:From /usr/local/lib/python3.6/dist-packages/keras/backend/tensorflow_backend.py:1033: The name tf.assign_add is deprecated. Please use tf.compat.v1.assign_add instead.\n",
            "\n",
            "WARNING:tensorflow:From /usr/local/lib/python3.6/dist-packages/keras/backend/tensorflow_backend.py:1020: The name tf.assign is deprecated. Please use tf.compat.v1.assign instead.\n",
            "\n",
            "Train on 39978 samples, validate on 9994 samples\n",
            "Epoch 1/12\n",
            "39978/39978 [==============================] - 55s 1ms/step - loss: 0.6845 - acc: 0.7744 - val_loss: 0.3981 - val_acc: 0.8477\n",
            "Epoch 2/12\n",
            "39978/39978 [==============================] - 53s 1ms/step - loss: 0.2863 - acc: 0.8912 - val_loss: 0.2501 - val_acc: 0.9037\n",
            "Epoch 3/12\n",
            "39978/39978 [==============================] - 54s 1ms/step - loss: 0.1650 - acc: 0.9379 - val_loss: 0.2097 - val_acc: 0.9272\n",
            "Epoch 4/12\n",
            "39978/39978 [==============================] - 54s 1ms/step - loss: 0.1002 - acc: 0.9633 - val_loss: 0.1688 - val_acc: 0.9467\n",
            "Epoch 5/12\n",
            "39978/39978 [==============================] - 54s 1ms/step - loss: 0.0669 - acc: 0.9761 - val_loss: 0.1733 - val_acc: 0.9449\n",
            "Epoch 6/12\n",
            "39978/39978 [==============================] - 54s 1ms/step - loss: 0.0450 - acc: 0.9843 - val_loss: 0.1398 - val_acc: 0.9583\n",
            "Epoch 7/12\n",
            "39978/39978 [==============================] - 54s 1ms/step - loss: 0.0320 - acc: 0.9892 - val_loss: 0.1413 - val_acc: 0.9588\n",
            "Epoch 8/12\n",
            "39978/39978 [==============================] - 54s 1ms/step - loss: 0.0228 - acc: 0.9922 - val_loss: 0.1473 - val_acc: 0.9627\n",
            "Epoch 9/12\n",
            "39978/39978 [==============================] - 54s 1ms/step - loss: 0.0168 - acc: 0.9943 - val_loss: 0.1494 - val_acc: 0.9637\n",
            "Epoch 10/12\n",
            "39978/39978 [==============================] - 54s 1ms/step - loss: 0.0133 - acc: 0.9957 - val_loss: 0.1541 - val_acc: 0.9637\n",
            "Epoch 11/12\n",
            "39978/39978 [==============================] - 53s 1ms/step - loss: 0.0118 - acc: 0.9963 - val_loss: 0.1626 - val_acc: 0.9657\n",
            "Epoch 12/12\n",
            "39978/39978 [==============================] - 53s 1ms/step - loss: 0.0101 - acc: 0.9969 - val_loss: 0.1621 - val_acc: 0.9660\n"
          ],
          "name": "stdout"
        },
        {
          "output_type": "execute_result",
          "data": {
            "text/plain": [
              "<keras.callbacks.History at 0x7f92b015def0>"
            ]
          },
          "metadata": {
            "tags": []
          },
          "execution_count": 46
        }
      ]
    },
    {
      "cell_type": "code",
      "metadata": {
        "id": "Vki7yAX0WWlc",
        "colab_type": "code",
        "outputId": "96d57f1d-23fb-4639-ff2b-5a0ee93067e9",
        "colab": {
          "base_uri": "https://localhost:8080/",
          "height": 70
        }
      },
      "source": [
        "#Validating the model on val set\n",
        "score_1 = model_1.evaluate([x_val,x_heading_val], [y_val])\n",
        "print('Test loss:', score_1[0])\n",
        "print('Test accuracy:', score_1[1])"
      ],
      "execution_count": 47,
      "outputs": [
        {
          "output_type": "stream",
          "text": [
            "9994/9994 [==============================] - 8s 816us/step\n",
            "Test loss: 0.16210393071512452\n",
            "Test accuracy: 0.9659795877287954\n"
          ],
          "name": "stdout"
        }
      ]
    },
    {
      "cell_type": "code",
      "metadata": {
        "id": "kAhb82zFWW0M",
        "colab_type": "code",
        "outputId": "289d6a77-ad3e-4b65-d827-d7dc4b95aed5",
        "colab": {
          "base_uri": "https://localhost:8080/",
          "height": 78
        }
      },
      "source": [
        "#Storing the accuracy results for each model in a dataframe for final comparison\n",
        "results = pd.DataFrame({'Method':['LSTM'], 'accuracy': score_1[1]},index={'1'})\n",
        "results = results[['Method', 'accuracy']]\n",
        "results"
      ],
      "execution_count": 48,
      "outputs": [
        {
          "output_type": "execute_result",
          "data": {
            "text/html": [
              "<div>\n",
              "<style scoped>\n",
              "    .dataframe tbody tr th:only-of-type {\n",
              "        vertical-align: middle;\n",
              "    }\n",
              "\n",
              "    .dataframe tbody tr th {\n",
              "        vertical-align: top;\n",
              "    }\n",
              "\n",
              "    .dataframe thead th {\n",
              "        text-align: right;\n",
              "    }\n",
              "</style>\n",
              "<table border=\"1\" class=\"dataframe\">\n",
              "  <thead>\n",
              "    <tr style=\"text-align: right;\">\n",
              "      <th></th>\n",
              "      <th>Method</th>\n",
              "      <th>accuracy</th>\n",
              "    </tr>\n",
              "  </thead>\n",
              "  <tbody>\n",
              "    <tr>\n",
              "      <th>1</th>\n",
              "      <td>LSTM</td>\n",
              "      <td>0.96598</td>\n",
              "    </tr>\n",
              "  </tbody>\n",
              "</table>\n",
              "</div>"
            ],
            "text/plain": [
              "  Method  accuracy\n",
              "1   LSTM   0.96598"
            ]
          },
          "metadata": {
            "tags": []
          },
          "execution_count": 48
        }
      ]
    },
    {
      "cell_type": "markdown",
      "metadata": {
        "id": "Vhoab5KTODtr",
        "colab_type": "text"
      },
      "source": [
        "### Model 2- GRU Model"
      ]
    },
    {
      "cell_type": "code",
      "metadata": {
        "id": "ENempQRWIRJW",
        "colab_type": "code",
        "colab": {}
      },
      "source": [
        "#Adding the input Layer for article\n",
        "a_Input_layer_2 = Input(shape=(MAX_SENT_LENGTH,), dtype='int32')\n",
        "#Adding Embedding Layer\n",
        "a_embedding_layer_2 = Embedding(output_dim=Embed_dim, input_dim=vocab_size, input_length=(MAX_SENT_LENGTH,), weights=[embedding_matrix])(a_Input_layer_2)\n",
        "#Adding LSTM Layer\n",
        "a_GRU_layer_2 = (GRU(256, return_sequences=True))(a_embedding_layer_2)\n",
        "#Adding Dropout Layer\n",
        "a_dropout_layer_2 = (Dropout(0.2))(a_GRU_layer_2)\n",
        "#Adding Dense Layer\n",
        "a_dense_layer_2 = (Dense(units = 256, activation = 'relu'))(a_dropout_layer_2)\n",
        "#Adding Dropout Layer\n",
        "a_dropout_layer_22 = (Dropout(0.2))(a_dense_layer_2)\n",
        "#Adding Flatten Layer\n",
        "a_flatten_layer_2 = Flatten()(a_dropout_layer_22)\n",
        "#Encoding the Model 1\n",
        "Encoder_2 = Model(a_Input_layer_2,a_flatten_layer_2)\n",
        "\n",
        "#Adding input Layer\n",
        "a_Input_layer_22 = Input(shape=(MAX_SENTS,MAX_SENT_LENGTH), dtype='int32')\n",
        "#Adding TimeDistributed Layer\n",
        "article_encoder_2 = TimeDistributed(Encoder_2)(a_Input_layer_22)\n",
        "#Adding LSTM layer\n",
        "a_GRU_layer_22 = GRU(256,return_sequences=True)(article_encoder_2)\n",
        "#Adding Dropout Layer\n",
        "a_dropout_layer_222 = (Dropout(0.2))(a_GRU_layer_22)\n",
        "#Adding Flatten Layer\n",
        "a_flatten_layer_22 = Flatten()(a_dropout_layer_222)\n",
        "\n",
        "#Adding input Layer for heading\n",
        "h_input_layer_2 = Input(shape=(MAX_SENTS_HEADING, MAX_SENT_LENGTH,), dtype='int32')\n",
        "#Adding Embedding Layer\n",
        "h_embedded_layer_2 = Embedding(output_dim=Embed_dim, input_dim=vocab_size,  input_length=(MAX_SENTS_HEADING, MAX_SENT_LENGTH,), weights=[embedding_matrix])(h_input_layer_2)\n",
        "#Adding Dense Layer\n",
        "h_dense_layer_2 = Dense(100, activation='relu')(h_embedded_layer_2)\n",
        "#Adding Flatten Layer\n",
        "h_flatten_layer_2 = Flatten()(h_dense_layer_2)\n",
        "\n",
        "#Concatenating the two layer\n",
        "output_2 = concatenate([a_flatten_layer_22, h_flatten_layer_2], name='concatenate_heading')\n",
        "#Adding the Dense Layer\n",
        "f_dense_layer_2 = Dense(100, activation='relu')(output_2)\n",
        "#Adding the Dense Layer\n",
        "final_output_2 = Dense(4, activation='softmax')(f_dense_layer_2)\n",
        "\n",
        "#Model Building\n",
        "model_2 = Model([a_Input_layer_22, h_input_layer_2],[final_output_2])"
      ],
      "execution_count": 0,
      "outputs": []
    },
    {
      "cell_type": "code",
      "metadata": {
        "id": "gr14Dz7aM3la",
        "colab_type": "code",
        "outputId": "a0ea4948-2dac-4f12-9d52-c746ba036450",
        "colab": {
          "base_uri": "https://localhost:8080/",
          "height": 597
        }
      },
      "source": [
        "model_2.summary()"
      ],
      "execution_count": 50,
      "outputs": [
        {
          "output_type": "stream",
          "text": [
            "Model: \"model_4\"\n",
            "__________________________________________________________________________________________________\n",
            "Layer (type)                    Output Shape         Param #     Connected to                     \n",
            "==================================================================================================\n",
            "input_5 (InputLayer)            (None, 20, 20)       0                                            \n",
            "__________________________________________________________________________________________________\n",
            "time_distributed_2 (TimeDistrib (None, 20, 5120)     3127368     input_5[0][0]                    \n",
            "__________________________________________________________________________________________________\n",
            "input_6 (InputLayer)            (None, 1, 20)        0                                            \n",
            "__________________________________________________________________________________________________\n",
            "gru_2 (GRU)                     (None, 20, 256)      4129536     time_distributed_2[0][0]         \n",
            "__________________________________________________________________________________________________\n",
            "embedding_4 (Embedding)         (None, 1, 20, 100)   2787400     input_6[0][0]                    \n",
            "__________________________________________________________________________________________________\n",
            "dropout_3 (Dropout)             (None, 20, 256)      0           gru_2[0][0]                      \n",
            "__________________________________________________________________________________________________\n",
            "dense_4 (Dense)                 (None, 1, 20, 100)   10100       embedding_4[0][0]                \n",
            "__________________________________________________________________________________________________\n",
            "flatten_5 (Flatten)             (None, 5120)         0           dropout_3[0][0]                  \n",
            "__________________________________________________________________________________________________\n",
            "flatten_6 (Flatten)             (None, 2000)         0           dense_4[0][0]                    \n",
            "__________________________________________________________________________________________________\n",
            "concatenate_heading (Concatenat (None, 7120)         0           flatten_5[0][0]                  \n",
            "                                                                 flatten_6[0][0]                  \n",
            "__________________________________________________________________________________________________\n",
            "dense_5 (Dense)                 (None, 100)          712100      concatenate_heading[0][0]        \n",
            "__________________________________________________________________________________________________\n",
            "dense_6 (Dense)                 (None, 4)            404         dense_5[0][0]                    \n",
            "==================================================================================================\n",
            "Total params: 10,766,908\n",
            "Trainable params: 10,766,908\n",
            "Non-trainable params: 0\n",
            "__________________________________________________________________________________________________\n"
          ],
          "name": "stdout"
        }
      ]
    },
    {
      "cell_type": "code",
      "metadata": {
        "id": "3Vvc6Zk_NA6S",
        "colab_type": "code",
        "outputId": "e9dd9ff4-d321-4360-ce99-d3f474cef4be",
        "colab": {
          "base_uri": "https://localhost:8080/",
          "height": 335
        }
      },
      "source": [
        "from keras.utils import plot_model\n",
        "import matplotlib.pyplot as plt\n",
        "plot_model(model_2,to_file='/content/drive/My Drive/Fake News Challenge/model_2.png',  show_shapes=True,   show_layer_names=False,rankdir='LR')\n",
        "from IPython.display import SVG\n",
        "from keras.utils import model_to_dot\n",
        "SVG(model_to_dot(model_2,rankdir='LR', show_shapes=True, show_layer_names=False,).create(prog='dot', format='svg'))"
      ],
      "execution_count": 51,
      "outputs": [
        {
          "output_type": "execute_result",
          "data": {
            "text/plain": [
              "<IPython.core.display.SVG object>"
            ],
            "image/svg+xml": "<svg height=\"221pt\" viewBox=\"0.00 0.00 2005.00 166.00\" width=\"2673pt\" xmlns=\"http://www.w3.org/2000/svg\" xmlns:xlink=\"http://www.w3.org/1999/xlink\">\n<g class=\"graph\" id=\"graph0\" transform=\"scale(1.3333 1.3333) rotate(0) translate(4 162)\">\n<title>G</title>\n<polygon fill=\"#ffffff\" points=\"-4,4 -4,-162 2001,-162 2001,4 -4,4\" stroke=\"transparent\"/>\n<!-- 140265975282936 -->\n<g class=\"node\" id=\"node1\">\n<title>140265975282936</title>\n<polygon fill=\"none\" points=\"0,-88.5 0,-157.5 204,-157.5 204,-88.5 0,-88.5\" stroke=\"#000000\"/>\n<text fill=\"#000000\" font-family=\"Times,serif\" font-size=\"14.00\" text-anchor=\"middle\" x=\"102\" y=\"-142.3\">InputLayer</text>\n<polyline fill=\"none\" points=\"0,-134.5 204,-134.5 \" stroke=\"#000000\"/>\n<text fill=\"#000000\" font-family=\"Times,serif\" font-size=\"14.00\" text-anchor=\"middle\" x=\"49\" y=\"-119.3\">input:</text>\n<polyline fill=\"none\" points=\"98,-111.5 98,-134.5 \" stroke=\"#000000\"/>\n<text fill=\"#000000\" font-family=\"Times,serif\" font-size=\"14.00\" text-anchor=\"middle\" x=\"151\" y=\"-119.3\">output:</text>\n<polyline fill=\"none\" points=\"0,-111.5 204,-111.5 \" stroke=\"#000000\"/>\n<text fill=\"#000000\" font-family=\"Times,serif\" font-size=\"14.00\" text-anchor=\"middle\" x=\"51\" y=\"-96.3\">(None, 20, 20)</text>\n<polyline fill=\"none\" points=\"102,-88.5 102,-111.5 \" stroke=\"#000000\"/>\n<text fill=\"#000000\" font-family=\"Times,serif\" font-size=\"14.00\" text-anchor=\"middle\" x=\"153\" y=\"-96.3\">(None, 20, 20)</text>\n</g>\n<!-- 140265975367048 -->\n<g class=\"node\" id=\"node2\">\n<title>140265975367048</title>\n<polygon fill=\"none\" points=\"240,-88.5 240,-157.5 459,-157.5 459,-88.5 240,-88.5\" stroke=\"#000000\"/>\n<text fill=\"#000000\" font-family=\"Times,serif\" font-size=\"14.00\" text-anchor=\"middle\" x=\"349.5\" y=\"-142.3\">TimeDistributed(Model)</text>\n<polyline fill=\"none\" points=\"240,-134.5 459,-134.5 \" stroke=\"#000000\"/>\n<text fill=\"#000000\" font-family=\"Times,serif\" font-size=\"14.00\" text-anchor=\"middle\" x=\"292.5\" y=\"-119.3\">input:</text>\n<polyline fill=\"none\" points=\"345,-111.5 345,-134.5 \" stroke=\"#000000\"/>\n<text fill=\"#000000\" font-family=\"Times,serif\" font-size=\"14.00\" text-anchor=\"middle\" x=\"402\" y=\"-119.3\">output:</text>\n<polyline fill=\"none\" points=\"240,-111.5 459,-111.5 \" stroke=\"#000000\"/>\n<text fill=\"#000000\" font-family=\"Times,serif\" font-size=\"14.00\" text-anchor=\"middle\" x=\"291\" y=\"-96.3\">(None, 20, 20)</text>\n<polyline fill=\"none\" points=\"342,-88.5 342,-111.5 \" stroke=\"#000000\"/>\n<text fill=\"#000000\" font-family=\"Times,serif\" font-size=\"14.00\" text-anchor=\"middle\" x=\"400.5\" y=\"-96.3\">(None, 20, 5120)</text>\n</g>\n<!-- 140265975282936&#45;&gt;140265975367048 -->\n<g class=\"edge\" id=\"edge1\">\n<title>140265975282936-&gt;140265975367048</title>\n<path d=\"M204.0966,-123C212.4273,-123 220.8931,-123 229.3366,-123\" fill=\"none\" stroke=\"#000000\"/>\n<polygon fill=\"#000000\" points=\"229.6143,-126.5001 239.6142,-123 229.6142,-119.5001 229.6143,-126.5001\" stroke=\"#000000\"/>\n</g>\n<!-- 140265975367720 -->\n<g class=\"node\" id=\"node4\">\n<title>140265975367720</title>\n<polygon fill=\"none\" points=\"495,-88.5 495,-157.5 722,-157.5 722,-88.5 495,-88.5\" stroke=\"#000000\"/>\n<text fill=\"#000000\" font-family=\"Times,serif\" font-size=\"14.00\" text-anchor=\"middle\" x=\"608.5\" y=\"-142.3\">GRU</text>\n<polyline fill=\"none\" points=\"495,-134.5 722,-134.5 \" stroke=\"#000000\"/>\n<text fill=\"#000000\" font-family=\"Times,serif\" font-size=\"14.00\" text-anchor=\"middle\" x=\"549.5\" y=\"-119.3\">input:</text>\n<polyline fill=\"none\" points=\"604,-111.5 604,-134.5 \" stroke=\"#000000\"/>\n<text fill=\"#000000\" font-family=\"Times,serif\" font-size=\"14.00\" text-anchor=\"middle\" x=\"663\" y=\"-119.3\">output:</text>\n<polyline fill=\"none\" points=\"495,-111.5 722,-111.5 \" stroke=\"#000000\"/>\n<text fill=\"#000000\" font-family=\"Times,serif\" font-size=\"14.00\" text-anchor=\"middle\" x=\"553.5\" y=\"-96.3\">(None, 20, 5120)</text>\n<polyline fill=\"none\" points=\"612,-88.5 612,-111.5 \" stroke=\"#000000\"/>\n<text fill=\"#000000\" font-family=\"Times,serif\" font-size=\"14.00\" text-anchor=\"middle\" x=\"667\" y=\"-96.3\">(None, 20, 256)</text>\n</g>\n<!-- 140265975367048&#45;&gt;140265975367720 -->\n<g class=\"edge\" id=\"edge2\">\n<title>140265975367048-&gt;140265975367720</title>\n<path d=\"M459.3393,-123C467.6709,-123 476.1136,-123 484.5252,-123\" fill=\"none\" stroke=\"#000000\"/>\n<polygon fill=\"#000000\" points=\"484.7605,-126.5001 494.7604,-123 484.7604,-119.5001 484.7605,-126.5001\" stroke=\"#000000\"/>\n</g>\n<!-- 140265975368448 -->\n<g class=\"node\" id=\"node3\">\n<title>140265975368448</title>\n<polygon fill=\"none\" points=\"254.5,-.5 254.5,-69.5 444.5,-69.5 444.5,-.5 254.5,-.5\" stroke=\"#000000\"/>\n<text fill=\"#000000\" font-family=\"Times,serif\" font-size=\"14.00\" text-anchor=\"middle\" x=\"349.5\" y=\"-54.3\">InputLayer</text>\n<polyline fill=\"none\" points=\"254.5,-46.5 444.5,-46.5 \" stroke=\"#000000\"/>\n<text fill=\"#000000\" font-family=\"Times,serif\" font-size=\"14.00\" text-anchor=\"middle\" x=\"300\" y=\"-31.3\">input:</text>\n<polyline fill=\"none\" points=\"345.5,-23.5 345.5,-46.5 \" stroke=\"#000000\"/>\n<text fill=\"#000000\" font-family=\"Times,serif\" font-size=\"14.00\" text-anchor=\"middle\" x=\"395\" y=\"-31.3\">output:</text>\n<polyline fill=\"none\" points=\"254.5,-23.5 444.5,-23.5 \" stroke=\"#000000\"/>\n<text fill=\"#000000\" font-family=\"Times,serif\" font-size=\"14.00\" text-anchor=\"middle\" x=\"302\" y=\"-8.3\">(None, 1, 20)</text>\n<polyline fill=\"none\" points=\"349.5,-.5 349.5,-23.5 \" stroke=\"#000000\"/>\n<text fill=\"#000000\" font-family=\"Times,serif\" font-size=\"14.00\" text-anchor=\"middle\" x=\"397\" y=\"-8.3\">(None, 1, 20)</text>\n</g>\n<!-- 140265974656864 -->\n<g class=\"node\" id=\"node5\">\n<title>140265974656864</title>\n<polygon fill=\"none\" points=\"498.5,-.5 498.5,-69.5 718.5,-69.5 718.5,-.5 498.5,-.5\" stroke=\"#000000\"/>\n<text fill=\"#000000\" font-family=\"Times,serif\" font-size=\"14.00\" text-anchor=\"middle\" x=\"608.5\" y=\"-54.3\">Embedding</text>\n<polyline fill=\"none\" points=\"498.5,-46.5 718.5,-46.5 \" stroke=\"#000000\"/>\n<text fill=\"#000000\" font-family=\"Times,serif\" font-size=\"14.00\" text-anchor=\"middle\" x=\"551.5\" y=\"-31.3\">input:</text>\n<polyline fill=\"none\" points=\"604.5,-23.5 604.5,-46.5 \" stroke=\"#000000\"/>\n<text fill=\"#000000\" font-family=\"Times,serif\" font-size=\"14.00\" text-anchor=\"middle\" x=\"661.5\" y=\"-31.3\">output:</text>\n<polyline fill=\"none\" points=\"498.5,-23.5 718.5,-23.5 \" stroke=\"#000000\"/>\n<text fill=\"#000000\" font-family=\"Times,serif\" font-size=\"14.00\" text-anchor=\"middle\" x=\"546\" y=\"-8.3\">(None, 1, 20)</text>\n<polyline fill=\"none\" points=\"593.5,-.5 593.5,-23.5 \" stroke=\"#000000\"/>\n<text fill=\"#000000\" font-family=\"Times,serif\" font-size=\"14.00\" text-anchor=\"middle\" x=\"656\" y=\"-8.3\">(None, 1, 20, 100)</text>\n</g>\n<!-- 140265975368448&#45;&gt;140265974656864 -->\n<g class=\"edge\" id=\"edge3\">\n<title>140265975368448-&gt;140265974656864</title>\n<path d=\"M444.8386,-35C459.0189,-35 473.7878,-35 488.3963,-35\" fill=\"none\" stroke=\"#000000\"/>\n<polygon fill=\"#000000\" points=\"488.4752,-38.5001 498.4751,-35 488.4751,-31.5001 488.4752,-38.5001\" stroke=\"#000000\"/>\n</g>\n<!-- 140265975368280 -->\n<g class=\"node\" id=\"node6\">\n<title>140265975368280</title>\n<polygon fill=\"none\" points=\"773,-88.5 773,-157.5 993,-157.5 993,-88.5 773,-88.5\" stroke=\"#000000\"/>\n<text fill=\"#000000\" font-family=\"Times,serif\" font-size=\"14.00\" text-anchor=\"middle\" x=\"883\" y=\"-142.3\">Dropout</text>\n<polyline fill=\"none\" points=\"773,-134.5 993,-134.5 \" stroke=\"#000000\"/>\n<text fill=\"#000000\" font-family=\"Times,serif\" font-size=\"14.00\" text-anchor=\"middle\" x=\"826\" y=\"-119.3\">input:</text>\n<polyline fill=\"none\" points=\"879,-111.5 879,-134.5 \" stroke=\"#000000\"/>\n<text fill=\"#000000\" font-family=\"Times,serif\" font-size=\"14.00\" text-anchor=\"middle\" x=\"936\" y=\"-119.3\">output:</text>\n<polyline fill=\"none\" points=\"773,-111.5 993,-111.5 \" stroke=\"#000000\"/>\n<text fill=\"#000000\" font-family=\"Times,serif\" font-size=\"14.00\" text-anchor=\"middle\" x=\"828\" y=\"-96.3\">(None, 20, 256)</text>\n<polyline fill=\"none\" points=\"883,-88.5 883,-111.5 \" stroke=\"#000000\"/>\n<text fill=\"#000000\" font-family=\"Times,serif\" font-size=\"14.00\" text-anchor=\"middle\" x=\"938\" y=\"-96.3\">(None, 20, 256)</text>\n</g>\n<!-- 140265975367720&#45;&gt;140265975368280 -->\n<g class=\"edge\" id=\"edge4\">\n<title>140265975367720-&gt;140265975368280</title>\n<path d=\"M722.1311,-123C735.53,-123 749.2385,-123 762.7249,-123\" fill=\"none\" stroke=\"#000000\"/>\n<polygon fill=\"#000000\" points=\"762.986,-126.5001 772.986,-123 762.986,-119.5001 762.986,-126.5001\" stroke=\"#000000\"/>\n</g>\n<!-- 140265973996568 -->\n<g class=\"node\" id=\"node7\">\n<title>140265973996568</title>\n<polygon fill=\"none\" points=\"758,-.5 758,-69.5 1008,-69.5 1008,-.5 758,-.5\" stroke=\"#000000\"/>\n<text fill=\"#000000\" font-family=\"Times,serif\" font-size=\"14.00\" text-anchor=\"middle\" x=\"883\" y=\"-54.3\">Dense</text>\n<polyline fill=\"none\" points=\"758,-46.5 1008,-46.5 \" stroke=\"#000000\"/>\n<text fill=\"#000000\" font-family=\"Times,serif\" font-size=\"14.00\" text-anchor=\"middle\" x=\"818.5\" y=\"-31.3\">input:</text>\n<polyline fill=\"none\" points=\"879,-23.5 879,-46.5 \" stroke=\"#000000\"/>\n<text fill=\"#000000\" font-family=\"Times,serif\" font-size=\"14.00\" text-anchor=\"middle\" x=\"943.5\" y=\"-31.3\">output:</text>\n<polyline fill=\"none\" points=\"758,-23.5 1008,-23.5 \" stroke=\"#000000\"/>\n<text fill=\"#000000\" font-family=\"Times,serif\" font-size=\"14.00\" text-anchor=\"middle\" x=\"820.5\" y=\"-8.3\">(None, 1, 20, 100)</text>\n<polyline fill=\"none\" points=\"883,-.5 883,-23.5 \" stroke=\"#000000\"/>\n<text fill=\"#000000\" font-family=\"Times,serif\" font-size=\"14.00\" text-anchor=\"middle\" x=\"945.5\" y=\"-8.3\">(None, 1, 20, 100)</text>\n</g>\n<!-- 140265974656864&#45;&gt;140265973996568 -->\n<g class=\"edge\" id=\"edge5\">\n<title>140265974656864-&gt;140265973996568</title>\n<path d=\"M718.568,-35C728.0884,-35 737.7905,-35 747.4811,-35\" fill=\"none\" stroke=\"#000000\"/>\n<polygon fill=\"#000000\" points=\"747.5675,-38.5001 757.5675,-35 747.5675,-31.5001 747.5675,-38.5001\" stroke=\"#000000\"/>\n</g>\n<!-- 140265974402016 -->\n<g class=\"node\" id=\"node8\">\n<title>140265974402016</title>\n<polygon fill=\"none\" points=\"1051.5,-88.5 1051.5,-157.5 1256.5,-157.5 1256.5,-88.5 1051.5,-88.5\" stroke=\"#000000\"/>\n<text fill=\"#000000\" font-family=\"Times,serif\" font-size=\"14.00\" text-anchor=\"middle\" x=\"1154\" y=\"-142.3\">Flatten</text>\n<polyline fill=\"none\" points=\"1051.5,-134.5 1256.5,-134.5 \" stroke=\"#000000\"/>\n<text fill=\"#000000\" font-family=\"Times,serif\" font-size=\"14.00\" text-anchor=\"middle\" x=\"1100.5\" y=\"-119.3\">input:</text>\n<polyline fill=\"none\" points=\"1149.5,-111.5 1149.5,-134.5 \" stroke=\"#000000\"/>\n<text fill=\"#000000\" font-family=\"Times,serif\" font-size=\"14.00\" text-anchor=\"middle\" x=\"1203\" y=\"-119.3\">output:</text>\n<polyline fill=\"none\" points=\"1051.5,-111.5 1256.5,-111.5 \" stroke=\"#000000\"/>\n<text fill=\"#000000\" font-family=\"Times,serif\" font-size=\"14.00\" text-anchor=\"middle\" x=\"1106.5\" y=\"-96.3\">(None, 20, 256)</text>\n<polyline fill=\"none\" points=\"1161.5,-88.5 1161.5,-111.5 \" stroke=\"#000000\"/>\n<text fill=\"#000000\" font-family=\"Times,serif\" font-size=\"14.00\" text-anchor=\"middle\" x=\"1209\" y=\"-96.3\">(None, 5120)</text>\n</g>\n<!-- 140265975368280&#45;&gt;140265974402016 -->\n<g class=\"edge\" id=\"edge6\">\n<title>140265975368280-&gt;140265974402016</title>\n<path d=\"M993.2261,-123C1008.9733,-123 1025.1926,-123 1040.9922,-123\" fill=\"none\" stroke=\"#000000\"/>\n<polygon fill=\"#000000\" points=\"1041.3051,-126.5001 1051.305,-123 1041.305,-119.5001 1041.3051,-126.5001\" stroke=\"#000000\"/>\n</g>\n<!-- 140265973994664 -->\n<g class=\"node\" id=\"node9\">\n<title>140265973994664</title>\n<polygon fill=\"none\" points=\"1044,-.5 1044,-69.5 1264,-69.5 1264,-.5 1044,-.5\" stroke=\"#000000\"/>\n<text fill=\"#000000\" font-family=\"Times,serif\" font-size=\"14.00\" text-anchor=\"middle\" x=\"1154\" y=\"-54.3\">Flatten</text>\n<polyline fill=\"none\" points=\"1044,-46.5 1264,-46.5 \" stroke=\"#000000\"/>\n<text fill=\"#000000\" font-family=\"Times,serif\" font-size=\"14.00\" text-anchor=\"middle\" x=\"1097\" y=\"-31.3\">input:</text>\n<polyline fill=\"none\" points=\"1150,-23.5 1150,-46.5 \" stroke=\"#000000\"/>\n<text fill=\"#000000\" font-family=\"Times,serif\" font-size=\"14.00\" text-anchor=\"middle\" x=\"1207\" y=\"-31.3\">output:</text>\n<polyline fill=\"none\" points=\"1044,-23.5 1264,-23.5 \" stroke=\"#000000\"/>\n<text fill=\"#000000\" font-family=\"Times,serif\" font-size=\"14.00\" text-anchor=\"middle\" x=\"1106.5\" y=\"-8.3\">(None, 1, 20, 100)</text>\n<polyline fill=\"none\" points=\"1169,-.5 1169,-23.5 \" stroke=\"#000000\"/>\n<text fill=\"#000000\" font-family=\"Times,serif\" font-size=\"14.00\" text-anchor=\"middle\" x=\"1216.5\" y=\"-8.3\">(None, 2000)</text>\n</g>\n<!-- 140265973996568&#45;&gt;140265973994664 -->\n<g class=\"edge\" id=\"edge7\">\n<title>140265973996568-&gt;140265973994664</title>\n<path d=\"M1008.1876,-35C1016.6669,-35 1025.2004,-35 1033.6541,-35\" fill=\"none\" stroke=\"#000000\"/>\n<polygon fill=\"#000000\" points=\"1033.9174,-38.5001 1043.9174,-35 1033.9174,-31.5001 1033.9174,-38.5001\" stroke=\"#000000\"/>\n</g>\n<!-- 140265973960944 -->\n<g class=\"node\" id=\"node10\">\n<title>140265973960944</title>\n<polygon fill=\"none\" points=\"1300,-44.5 1300,-113.5 1584,-113.5 1584,-44.5 1300,-44.5\" stroke=\"#000000\"/>\n<text fill=\"#000000\" font-family=\"Times,serif\" font-size=\"14.00\" text-anchor=\"middle\" x=\"1442\" y=\"-98.3\">Concatenate</text>\n<polyline fill=\"none\" points=\"1300,-90.5 1584,-90.5 \" stroke=\"#000000\"/>\n<text fill=\"#000000\" font-family=\"Times,serif\" font-size=\"14.00\" text-anchor=\"middle\" x=\"1369\" y=\"-75.3\">input:</text>\n<polyline fill=\"none\" points=\"1438,-67.5 1438,-90.5 \" stroke=\"#000000\"/>\n<text fill=\"#000000\" font-family=\"Times,serif\" font-size=\"14.00\" text-anchor=\"middle\" x=\"1511\" y=\"-75.3\">output:</text>\n<polyline fill=\"none\" points=\"1300,-67.5 1584,-67.5 \" stroke=\"#000000\"/>\n<text fill=\"#000000\" font-family=\"Times,serif\" font-size=\"14.00\" text-anchor=\"middle\" x=\"1394.5\" y=\"-52.3\">[(None, 5120), (None, 2000)]</text>\n<polyline fill=\"none\" points=\"1489,-44.5 1489,-67.5 \" stroke=\"#000000\"/>\n<text fill=\"#000000\" font-family=\"Times,serif\" font-size=\"14.00\" text-anchor=\"middle\" x=\"1536.5\" y=\"-52.3\">(None, 7120)</text>\n</g>\n<!-- 140265974402016&#45;&gt;140265973960944 -->\n<g class=\"edge\" id=\"edge8\">\n<title>140265974402016-&gt;140265973960944</title>\n<path d=\"M1256.7549,-107.3013C1267.4532,-105.6669 1278.4833,-103.9817 1289.5803,-102.2863\" fill=\"none\" stroke=\"#000000\"/>\n<polygon fill=\"#000000\" points=\"1290.4259,-105.6978 1299.7826,-100.7277 1289.3687,-98.7781 1290.4259,-105.6978\" stroke=\"#000000\"/>\n</g>\n<!-- 140265973994664&#45;&gt;140265973960944 -->\n<g class=\"edge\" id=\"edge9\">\n<title>140265973994664-&gt;140265973960944</title>\n<path d=\"M1264.1132,-51.8229C1272.5592,-53.1132 1281.17,-54.4288 1289.8204,-55.7503\" fill=\"none\" stroke=\"#000000\"/>\n<polygon fill=\"#000000\" points=\"1289.5718,-59.2529 1299.9857,-57.3034 1290.629,-52.3332 1289.5718,-59.2529\" stroke=\"#000000\"/>\n</g>\n<!-- 140265974100544 -->\n<g class=\"node\" id=\"node11\">\n<title>140265974100544</title>\n<polygon fill=\"none\" points=\"1620,-44.5 1620,-113.5 1802,-113.5 1802,-44.5 1620,-44.5\" stroke=\"#000000\"/>\n<text fill=\"#000000\" font-family=\"Times,serif\" font-size=\"14.00\" text-anchor=\"middle\" x=\"1711\" y=\"-98.3\">Dense</text>\n<polyline fill=\"none\" points=\"1620,-90.5 1802,-90.5 \" stroke=\"#000000\"/>\n<text fill=\"#000000\" font-family=\"Times,serif\" font-size=\"14.00\" text-anchor=\"middle\" x=\"1663.5\" y=\"-75.3\">input:</text>\n<polyline fill=\"none\" points=\"1707,-67.5 1707,-90.5 \" stroke=\"#000000\"/>\n<text fill=\"#000000\" font-family=\"Times,serif\" font-size=\"14.00\" text-anchor=\"middle\" x=\"1754.5\" y=\"-75.3\">output:</text>\n<polyline fill=\"none\" points=\"1620,-67.5 1802,-67.5 \" stroke=\"#000000\"/>\n<text fill=\"#000000\" font-family=\"Times,serif\" font-size=\"14.00\" text-anchor=\"middle\" x=\"1667.5\" y=\"-52.3\">(None, 7120)</text>\n<polyline fill=\"none\" points=\"1715,-44.5 1715,-67.5 \" stroke=\"#000000\"/>\n<text fill=\"#000000\" font-family=\"Times,serif\" font-size=\"14.00\" text-anchor=\"middle\" x=\"1758.5\" y=\"-52.3\">(None, 100)</text>\n</g>\n<!-- 140265973960944&#45;&gt;140265974100544 -->\n<g class=\"edge\" id=\"edge10\">\n<title>140265973960944-&gt;140265974100544</title>\n<path d=\"M1584.3769,-79C1592.8884,-79 1601.3578,-79 1609.6479,-79\" fill=\"none\" stroke=\"#000000\"/>\n<polygon fill=\"#000000\" points=\"1609.6621,-82.5001 1619.6621,-79 1609.662,-75.5001 1609.6621,-82.5001\" stroke=\"#000000\"/>\n</g>\n<!-- 140265974135888 -->\n<g class=\"node\" id=\"node12\">\n<title>140265974135888</title>\n<polygon fill=\"none\" points=\"1838,-44.5 1838,-113.5 1997,-113.5 1997,-44.5 1838,-44.5\" stroke=\"#000000\"/>\n<text fill=\"#000000\" font-family=\"Times,serif\" font-size=\"14.00\" text-anchor=\"middle\" x=\"1917.5\" y=\"-98.3\">Dense</text>\n<polyline fill=\"none\" points=\"1838,-90.5 1997,-90.5 \" stroke=\"#000000\"/>\n<text fill=\"#000000\" font-family=\"Times,serif\" font-size=\"14.00\" text-anchor=\"middle\" x=\"1875.5\" y=\"-75.3\">input:</text>\n<polyline fill=\"none\" points=\"1913,-67.5 1913,-90.5 \" stroke=\"#000000\"/>\n<text fill=\"#000000\" font-family=\"Times,serif\" font-size=\"14.00\" text-anchor=\"middle\" x=\"1955\" y=\"-75.3\">output:</text>\n<polyline fill=\"none\" points=\"1838,-67.5 1997,-67.5 \" stroke=\"#000000\"/>\n<text fill=\"#000000\" font-family=\"Times,serif\" font-size=\"14.00\" text-anchor=\"middle\" x=\"1881.5\" y=\"-52.3\">(None, 100)</text>\n<polyline fill=\"none\" points=\"1925,-44.5 1925,-67.5 \" stroke=\"#000000\"/>\n<text fill=\"#000000\" font-family=\"Times,serif\" font-size=\"14.00\" text-anchor=\"middle\" x=\"1961\" y=\"-52.3\">(None, 4)</text>\n</g>\n<!-- 140265974100544&#45;&gt;140265974135888 -->\n<g class=\"edge\" id=\"edge11\">\n<title>140265974100544-&gt;140265974135888</title>\n<path d=\"M1802.175,-79C1810.6244,-79 1819.1831,-79 1827.6207,-79\" fill=\"none\" stroke=\"#000000\"/>\n<polygon fill=\"#000000\" points=\"1827.8371,-82.5001 1837.8371,-79 1827.8371,-75.5001 1827.8371,-82.5001\" stroke=\"#000000\"/>\n</g>\n</g>\n</svg>"
          },
          "metadata": {
            "tags": []
          },
          "execution_count": 51
        }
      ]
    },
    {
      "cell_type": "code",
      "metadata": {
        "id": "bEoC-oh0Nhdy",
        "colab_type": "code",
        "outputId": "0f9348c6-0705-404e-9f73-aadf34e93f0d",
        "colab": {
          "base_uri": "https://localhost:8080/",
          "height": 474
        }
      },
      "source": [
        "#Compiling the model\n",
        "model_2.compile(loss='categorical_crossentropy', optimizer='rmsprop', metrics=['acc'])\n",
        "#Fitting the model\n",
        "model_2.fit([x_train, x_heading_train], [y_train], validation_data=([x_val, x_heading_val], [y_val]), epochs=12, batch_size=100)"
      ],
      "execution_count": 52,
      "outputs": [
        {
          "output_type": "stream",
          "text": [
            "Train on 39978 samples, validate on 9994 samples\n",
            "Epoch 1/12\n",
            "39978/39978 [==============================] - 48s 1ms/step - loss: 0.7115 - acc: 0.7639 - val_loss: 0.4447 - val_acc: 0.8307\n",
            "Epoch 2/12\n",
            "39978/39978 [==============================] - 46s 1ms/step - loss: 0.3605 - acc: 0.8633 - val_loss: 0.3047 - val_acc: 0.8841\n",
            "Epoch 3/12\n",
            "39978/39978 [==============================] - 46s 1ms/step - loss: 0.2412 - acc: 0.9066 - val_loss: 0.2557 - val_acc: 0.9049\n",
            "Epoch 4/12\n",
            "39978/39978 [==============================] - 46s 1ms/step - loss: 0.1718 - acc: 0.9363 - val_loss: 0.2242 - val_acc: 0.9225\n",
            "Epoch 5/12\n",
            "39978/39978 [==============================] - 46s 1ms/step - loss: 0.1301 - acc: 0.9501 - val_loss: 0.1988 - val_acc: 0.9312\n",
            "Epoch 6/12\n",
            "39978/39978 [==============================] - 46s 1ms/step - loss: 0.0992 - acc: 0.9637 - val_loss: 0.1946 - val_acc: 0.9363\n",
            "Epoch 7/12\n",
            "39978/39978 [==============================] - 45s 1ms/step - loss: 0.0792 - acc: 0.9714 - val_loss: 0.3018 - val_acc: 0.9142\n",
            "Epoch 8/12\n",
            "39978/39978 [==============================] - 45s 1ms/step - loss: 0.0648 - acc: 0.9772 - val_loss: 0.1775 - val_acc: 0.9493\n",
            "Epoch 9/12\n",
            "39978/39978 [==============================] - 45s 1ms/step - loss: 0.0510 - acc: 0.9817 - val_loss: 0.1912 - val_acc: 0.9480\n",
            "Epoch 10/12\n",
            "39978/39978 [==============================] - 45s 1ms/step - loss: 0.0442 - acc: 0.9841 - val_loss: 0.2381 - val_acc: 0.9474\n",
            "Epoch 11/12\n",
            "39978/39978 [==============================] - 45s 1ms/step - loss: 0.0357 - acc: 0.9875 - val_loss: 0.1932 - val_acc: 0.9521\n",
            "Epoch 12/12\n",
            "39978/39978 [==============================] - 45s 1ms/step - loss: 0.0311 - acc: 0.9895 - val_loss: 0.2172 - val_acc: 0.9518\n"
          ],
          "name": "stdout"
        },
        {
          "output_type": "execute_result",
          "data": {
            "text/plain": [
              "<keras.callbacks.History at 0x7f92377aa978>"
            ]
          },
          "metadata": {
            "tags": []
          },
          "execution_count": 52
        }
      ]
    },
    {
      "cell_type": "code",
      "metadata": {
        "id": "HkfZR3uzNmiA",
        "colab_type": "code",
        "outputId": "95aa5959-b926-418a-f385-b2f8cc2a9f6b",
        "colab": {
          "base_uri": "https://localhost:8080/",
          "height": 70
        }
      },
      "source": [
        "#Validating the model on val set\n",
        "score_2 = model_2.evaluate([x_val,x_heading_val], [y_val])\n",
        "print('Test loss:', score_2[0])\n",
        "print('Test accuracy:', score_2[1])"
      ],
      "execution_count": 53,
      "outputs": [
        {
          "output_type": "stream",
          "text": [
            "9994/9994 [==============================] - 7s 750us/step\n",
            "Test loss: 0.21716445239962687\n",
            "Test accuracy: 0.9517710626137263\n"
          ],
          "name": "stdout"
        }
      ]
    },
    {
      "cell_type": "code",
      "metadata": {
        "id": "rXOG8ZcKNqb6",
        "colab_type": "code",
        "outputId": "735d5636-d405-400d-833d-022af8d12b9d",
        "colab": {
          "base_uri": "https://localhost:8080/",
          "height": 108
        }
      },
      "source": [
        "#Store the accuracy results for each model in a dataframe for final comparison\n",
        "tempResultsDf = pd.DataFrame({'Method':['GRU'], 'accuracy': [score_2[1]]},index={'2'})\n",
        "results = pd.concat([results, tempResultsDf])\n",
        "results = results[['Method', 'accuracy']]\n",
        "results"
      ],
      "execution_count": 54,
      "outputs": [
        {
          "output_type": "execute_result",
          "data": {
            "text/html": [
              "<div>\n",
              "<style scoped>\n",
              "    .dataframe tbody tr th:only-of-type {\n",
              "        vertical-align: middle;\n",
              "    }\n",
              "\n",
              "    .dataframe tbody tr th {\n",
              "        vertical-align: top;\n",
              "    }\n",
              "\n",
              "    .dataframe thead th {\n",
              "        text-align: right;\n",
              "    }\n",
              "</style>\n",
              "<table border=\"1\" class=\"dataframe\">\n",
              "  <thead>\n",
              "    <tr style=\"text-align: right;\">\n",
              "      <th></th>\n",
              "      <th>Method</th>\n",
              "      <th>accuracy</th>\n",
              "    </tr>\n",
              "  </thead>\n",
              "  <tbody>\n",
              "    <tr>\n",
              "      <th>1</th>\n",
              "      <td>LSTM</td>\n",
              "      <td>0.965980</td>\n",
              "    </tr>\n",
              "    <tr>\n",
              "      <th>2</th>\n",
              "      <td>GRU</td>\n",
              "      <td>0.951771</td>\n",
              "    </tr>\n",
              "  </tbody>\n",
              "</table>\n",
              "</div>"
            ],
            "text/plain": [
              "  Method  accuracy\n",
              "1   LSTM  0.965980\n",
              "2    GRU  0.951771"
            ]
          },
          "metadata": {
            "tags": []
          },
          "execution_count": 54
        }
      ]
    },
    {
      "cell_type": "markdown",
      "metadata": {
        "id": "CiHoiu6alSjt",
        "colab_type": "text"
      },
      "source": [
        "### Model 3- Bidirectional LSTM Model"
      ]
    },
    {
      "cell_type": "code",
      "metadata": {
        "id": "uBbz4j0AmAtT",
        "colab_type": "code",
        "colab": {}
      },
      "source": [
        "#Adding the input Layer for article\n",
        "a_Input_layer_3 = Input(shape=(MAX_SENT_LENGTH,), dtype='int32')\n",
        "#Adding Embedding Layer\n",
        "a_embedding_layer_3 = Embedding(output_dim=Embed_dim, input_dim=vocab_size, input_length=(MAX_SENT_LENGTH,), weights=[embedding_matrix])(a_Input_layer_3)\n",
        "#Adding Bidirectional LSTM Layer\n",
        "a_BLSTM_layer_3 = Bidirectional(LSTM(256, return_sequences=True))(a_embedding_layer_3)\n",
        "#Adding Flatten Layer\n",
        "a_flatten_layer_3 = Flatten()(a_BLSTM_layer_3)\n",
        "#Encoding \n",
        "Encoder_3 = Model(a_Input_layer_3,a_flatten_layer_3)\n",
        "\n",
        "#Adding input Layer\n",
        "a_Input_layer_33 = Input(shape=(MAX_SENTS,MAX_SENT_LENGTH), dtype='int32')\n",
        "#Adding TimeDistributed Layer\n",
        "article_encoder_3 = TimeDistributed(Encoder_3)(a_Input_layer_33)\n",
        "#Adding Bidirectional LSTM Layer\n",
        "a_BLSTM_layer_33 = Bidirectional(LSTM(256, return_sequences=True))(article_encoder_3)\n",
        "#Adding Flatten Layer\n",
        "a_flatten_layer_33 = Flatten()(a_BLSTM_layer_33)\n",
        "\n",
        "#Adding input Layer for heading\n",
        "h_input_layer_3 = Input(shape=(MAX_SENTS_HEADING, MAX_SENT_LENGTH,), dtype='int32')\n",
        "#Adding Embedding Layer\n",
        "h_embedded_layer_3 = Embedding(output_dim=Embed_dim, input_dim=vocab_size,  input_length=(MAX_SENTS_HEADING, MAX_SENT_LENGTH,), weights=[embedding_matrix])(h_input_layer_3)\n",
        "#Adding Flatten Layer\n",
        "h_flatten_layer_3 = Flatten()(h_embedded_layer_3)\n",
        "\n",
        "#Concatenating the two model\n",
        "output_3 = concatenate([a_flatten_layer_33, h_flatten_layer_3], name='concatenate_heading')\n",
        "\n",
        "#Adding the Dense Layer\n",
        "f_dense_layer_3 = Dense(100, activation='relu')(output_3)\n",
        "#Adding the Dense Layer\n",
        "final_output_3 = Dense(4, activation='softmax')(f_dense_layer_3)\n",
        "\n",
        "#Model Building\n",
        "model_3 = Model([a_Input_layer_33, h_input_layer_3], [final_output_3])"
      ],
      "execution_count": 0,
      "outputs": []
    },
    {
      "cell_type": "code",
      "metadata": {
        "id": "j1gTCuJqFJEj",
        "colab_type": "code",
        "outputId": "957c2400-172e-499b-cd84-ee6404b93b3d",
        "colab": {
          "base_uri": "https://localhost:8080/",
          "height": 526
        }
      },
      "source": [
        "model_3.summary()"
      ],
      "execution_count": 56,
      "outputs": [
        {
          "output_type": "stream",
          "text": [
            "Model: \"model_6\"\n",
            "__________________________________________________________________________________________________\n",
            "Layer (type)                    Output Shape         Param #     Connected to                     \n",
            "==================================================================================================\n",
            "input_8 (InputLayer)            (None, 20, 20)       0                                            \n",
            "__________________________________________________________________________________________________\n",
            "time_distributed_3 (TimeDistrib (None, 20, 10240)    3518536     input_8[0][0]                    \n",
            "__________________________________________________________________________________________________\n",
            "input_9 (InputLayer)            (None, 1, 20)        0                                            \n",
            "__________________________________________________________________________________________________\n",
            "bidirectional_2 (Bidirectional) (None, 20, 512)      21497856    time_distributed_3[0][0]         \n",
            "__________________________________________________________________________________________________\n",
            "embedding_6 (Embedding)         (None, 1, 20, 100)   2787400     input_9[0][0]                    \n",
            "__________________________________________________________________________________________________\n",
            "flatten_8 (Flatten)             (None, 10240)        0           bidirectional_2[0][0]            \n",
            "__________________________________________________________________________________________________\n",
            "flatten_9 (Flatten)             (None, 2000)         0           embedding_6[0][0]                \n",
            "__________________________________________________________________________________________________\n",
            "concatenate_heading (Concatenat (None, 12240)        0           flatten_8[0][0]                  \n",
            "                                                                 flatten_9[0][0]                  \n",
            "__________________________________________________________________________________________________\n",
            "dense_7 (Dense)                 (None, 100)          1224100     concatenate_heading[0][0]        \n",
            "__________________________________________________________________________________________________\n",
            "dense_8 (Dense)                 (None, 4)            404         dense_7[0][0]                    \n",
            "==================================================================================================\n",
            "Total params: 29,028,296\n",
            "Trainable params: 29,028,296\n",
            "Non-trainable params: 0\n",
            "__________________________________________________________________________________________________\n"
          ],
          "name": "stdout"
        }
      ]
    },
    {
      "cell_type": "code",
      "metadata": {
        "id": "2t4RX9-yIWdi",
        "colab_type": "code",
        "outputId": "f8402264-4003-4c8f-ca7a-73e09293a64b",
        "colab": {
          "base_uri": "https://localhost:8080/",
          "height": 335
        }
      },
      "source": [
        "from keras.utils import plot_model\n",
        "import matplotlib.pyplot as plt\n",
        "plot_model(model_3,to_file='/content/drive/My Drive/Fake News Challenge/model_3.png',  show_shapes=True,   show_layer_names=False,rankdir='LR')\n",
        "from IPython.display import SVG\n",
        "from keras.utils import model_to_dot\n",
        "SVG(model_to_dot(model_3,rankdir='LR', show_shapes=True, show_layer_names=False,).create(prog='dot', format='svg'))"
      ],
      "execution_count": 57,
      "outputs": [
        {
          "output_type": "execute_result",
          "data": {
            "text/plain": [
              "<IPython.core.display.SVG object>"
            ],
            "image/svg+xml": "<svg height=\"221pt\" viewBox=\"0.00 0.00 1757.00 166.00\" width=\"2343pt\" xmlns=\"http://www.w3.org/2000/svg\" xmlns:xlink=\"http://www.w3.org/1999/xlink\">\n<g class=\"graph\" id=\"graph0\" transform=\"scale(1.3333 1.3333) rotate(0) translate(4 162)\">\n<title>G</title>\n<polygon fill=\"#ffffff\" points=\"-4,4 -4,-162 1753,-162 1753,4 -4,4\" stroke=\"transparent\"/>\n<!-- 140265966553800 -->\n<g class=\"node\" id=\"node1\">\n<title>140265966553800</title>\n<polygon fill=\"none\" points=\"0,-88.5 0,-157.5 204,-157.5 204,-88.5 0,-88.5\" stroke=\"#000000\"/>\n<text fill=\"#000000\" font-family=\"Times,serif\" font-size=\"14.00\" text-anchor=\"middle\" x=\"102\" y=\"-142.3\">InputLayer</text>\n<polyline fill=\"none\" points=\"0,-134.5 204,-134.5 \" stroke=\"#000000\"/>\n<text fill=\"#000000\" font-family=\"Times,serif\" font-size=\"14.00\" text-anchor=\"middle\" x=\"49\" y=\"-119.3\">input:</text>\n<polyline fill=\"none\" points=\"98,-111.5 98,-134.5 \" stroke=\"#000000\"/>\n<text fill=\"#000000\" font-family=\"Times,serif\" font-size=\"14.00\" text-anchor=\"middle\" x=\"151\" y=\"-119.3\">output:</text>\n<polyline fill=\"none\" points=\"0,-111.5 204,-111.5 \" stroke=\"#000000\"/>\n<text fill=\"#000000\" font-family=\"Times,serif\" font-size=\"14.00\" text-anchor=\"middle\" x=\"51\" y=\"-96.3\">(None, 20, 20)</text>\n<polyline fill=\"none\" points=\"102,-88.5 102,-111.5 \" stroke=\"#000000\"/>\n<text fill=\"#000000\" font-family=\"Times,serif\" font-size=\"14.00\" text-anchor=\"middle\" x=\"153\" y=\"-96.3\">(None, 20, 20)</text>\n</g>\n<!-- 140265966368360 -->\n<g class=\"node\" id=\"node2\">\n<title>140265966368360</title>\n<polygon fill=\"none\" points=\"240,-88.5 240,-157.5 467,-157.5 467,-88.5 240,-88.5\" stroke=\"#000000\"/>\n<text fill=\"#000000\" font-family=\"Times,serif\" font-size=\"14.00\" text-anchor=\"middle\" x=\"353.5\" y=\"-142.3\">TimeDistributed(Model)</text>\n<polyline fill=\"none\" points=\"240,-134.5 467,-134.5 \" stroke=\"#000000\"/>\n<text fill=\"#000000\" font-family=\"Times,serif\" font-size=\"14.00\" text-anchor=\"middle\" x=\"294.5\" y=\"-119.3\">input:</text>\n<polyline fill=\"none\" points=\"349,-111.5 349,-134.5 \" stroke=\"#000000\"/>\n<text fill=\"#000000\" font-family=\"Times,serif\" font-size=\"14.00\" text-anchor=\"middle\" x=\"408\" y=\"-119.3\">output:</text>\n<polyline fill=\"none\" points=\"240,-111.5 467,-111.5 \" stroke=\"#000000\"/>\n<text fill=\"#000000\" font-family=\"Times,serif\" font-size=\"14.00\" text-anchor=\"middle\" x=\"291\" y=\"-96.3\">(None, 20, 20)</text>\n<polyline fill=\"none\" points=\"342,-88.5 342,-111.5 \" stroke=\"#000000\"/>\n<text fill=\"#000000\" font-family=\"Times,serif\" font-size=\"14.00\" text-anchor=\"middle\" x=\"404.5\" y=\"-96.3\">(None, 20, 10240)</text>\n</g>\n<!-- 140265966553800&#45;&gt;140265966368360 -->\n<g class=\"edge\" id=\"edge1\">\n<title>140265966553800-&gt;140265966368360</title>\n<path d=\"M204.2947,-123C212.7008,-123 221.252,-123 229.7906,-123\" fill=\"none\" stroke=\"#000000\"/>\n<polygon fill=\"#000000\" points=\"229.7989,-126.5001 239.7989,-123 229.7989,-119.5001 229.7989,-126.5001\" stroke=\"#000000\"/>\n</g>\n<!-- 140265965299192 -->\n<g class=\"node\" id=\"node4\">\n<title>140265965299192</title>\n<polygon fill=\"none\" points=\"503,-88.5 503,-157.5 738,-157.5 738,-88.5 503,-88.5\" stroke=\"#000000\"/>\n<text fill=\"#000000\" font-family=\"Times,serif\" font-size=\"14.00\" text-anchor=\"middle\" x=\"620.5\" y=\"-142.3\">Bidirectional(LSTM)</text>\n<polyline fill=\"none\" points=\"503,-134.5 738,-134.5 \" stroke=\"#000000\"/>\n<text fill=\"#000000\" font-family=\"Times,serif\" font-size=\"14.00\" text-anchor=\"middle\" x=\"559.5\" y=\"-119.3\">input:</text>\n<polyline fill=\"none\" points=\"616,-111.5 616,-134.5 \" stroke=\"#000000\"/>\n<text fill=\"#000000\" font-family=\"Times,serif\" font-size=\"14.00\" text-anchor=\"middle\" x=\"677\" y=\"-119.3\">output:</text>\n<polyline fill=\"none\" points=\"503,-111.5 738,-111.5 \" stroke=\"#000000\"/>\n<text fill=\"#000000\" font-family=\"Times,serif\" font-size=\"14.00\" text-anchor=\"middle\" x=\"565.5\" y=\"-96.3\">(None, 20, 10240)</text>\n<polyline fill=\"none\" points=\"628,-88.5 628,-111.5 \" stroke=\"#000000\"/>\n<text fill=\"#000000\" font-family=\"Times,serif\" font-size=\"14.00\" text-anchor=\"middle\" x=\"683\" y=\"-96.3\">(None, 20, 512)</text>\n</g>\n<!-- 140265966368360&#45;&gt;140265965299192 -->\n<g class=\"edge\" id=\"edge2\">\n<title>140265966368360-&gt;140265965299192</title>\n<path d=\"M467.1192,-123C475.5865,-123 484.1629,-123 492.7081,-123\" fill=\"none\" stroke=\"#000000\"/>\n<polygon fill=\"#000000\" points=\"492.7167,-126.5001 502.7167,-123 492.7167,-119.5001 492.7167,-126.5001\" stroke=\"#000000\"/>\n</g>\n<!-- 140265965300424 -->\n<g class=\"node\" id=\"node3\">\n<title>140265965300424</title>\n<polygon fill=\"none\" points=\"258.5,-.5 258.5,-69.5 448.5,-69.5 448.5,-.5 258.5,-.5\" stroke=\"#000000\"/>\n<text fill=\"#000000\" font-family=\"Times,serif\" font-size=\"14.00\" text-anchor=\"middle\" x=\"353.5\" y=\"-54.3\">InputLayer</text>\n<polyline fill=\"none\" points=\"258.5,-46.5 448.5,-46.5 \" stroke=\"#000000\"/>\n<text fill=\"#000000\" font-family=\"Times,serif\" font-size=\"14.00\" text-anchor=\"middle\" x=\"304\" y=\"-31.3\">input:</text>\n<polyline fill=\"none\" points=\"349.5,-23.5 349.5,-46.5 \" stroke=\"#000000\"/>\n<text fill=\"#000000\" font-family=\"Times,serif\" font-size=\"14.00\" text-anchor=\"middle\" x=\"399\" y=\"-31.3\">output:</text>\n<polyline fill=\"none\" points=\"258.5,-23.5 448.5,-23.5 \" stroke=\"#000000\"/>\n<text fill=\"#000000\" font-family=\"Times,serif\" font-size=\"14.00\" text-anchor=\"middle\" x=\"306\" y=\"-8.3\">(None, 1, 20)</text>\n<polyline fill=\"none\" points=\"353.5,-.5 353.5,-23.5 \" stroke=\"#000000\"/>\n<text fill=\"#000000\" font-family=\"Times,serif\" font-size=\"14.00\" text-anchor=\"middle\" x=\"401\" y=\"-8.3\">(None, 1, 20)</text>\n</g>\n<!-- 140266285064768 -->\n<g class=\"node\" id=\"node5\">\n<title>140266285064768</title>\n<polygon fill=\"none\" points=\"510.5,-.5 510.5,-69.5 730.5,-69.5 730.5,-.5 510.5,-.5\" stroke=\"#000000\"/>\n<text fill=\"#000000\" font-family=\"Times,serif\" font-size=\"14.00\" text-anchor=\"middle\" x=\"620.5\" y=\"-54.3\">Embedding</text>\n<polyline fill=\"none\" points=\"510.5,-46.5 730.5,-46.5 \" stroke=\"#000000\"/>\n<text fill=\"#000000\" font-family=\"Times,serif\" font-size=\"14.00\" text-anchor=\"middle\" x=\"563.5\" y=\"-31.3\">input:</text>\n<polyline fill=\"none\" points=\"616.5,-23.5 616.5,-46.5 \" stroke=\"#000000\"/>\n<text fill=\"#000000\" font-family=\"Times,serif\" font-size=\"14.00\" text-anchor=\"middle\" x=\"673.5\" y=\"-31.3\">output:</text>\n<polyline fill=\"none\" points=\"510.5,-23.5 730.5,-23.5 \" stroke=\"#000000\"/>\n<text fill=\"#000000\" font-family=\"Times,serif\" font-size=\"14.00\" text-anchor=\"middle\" x=\"558\" y=\"-8.3\">(None, 1, 20)</text>\n<polyline fill=\"none\" points=\"605.5,-.5 605.5,-23.5 \" stroke=\"#000000\"/>\n<text fill=\"#000000\" font-family=\"Times,serif\" font-size=\"14.00\" text-anchor=\"middle\" x=\"668\" y=\"-8.3\">(None, 1, 20, 100)</text>\n</g>\n<!-- 140265965300424&#45;&gt;140266285064768 -->\n<g class=\"edge\" id=\"edge3\">\n<title>140265965300424-&gt;140266285064768</title>\n<path d=\"M448.7623,-35C465.4129,-35 482.9302,-35 500.1527,-35\" fill=\"none\" stroke=\"#000000\"/>\n<polygon fill=\"#000000\" points=\"500.2502,-38.5001 510.2501,-35 500.2501,-31.5001 500.2502,-38.5001\" stroke=\"#000000\"/>\n</g>\n<!-- 140265966369760 -->\n<g class=\"node\" id=\"node6\">\n<title>140265966369760</title>\n<polygon fill=\"none\" points=\"778,-88.5 778,-157.5 990,-157.5 990,-88.5 778,-88.5\" stroke=\"#000000\"/>\n<text fill=\"#000000\" font-family=\"Times,serif\" font-size=\"14.00\" text-anchor=\"middle\" x=\"884\" y=\"-142.3\">Flatten</text>\n<polyline fill=\"none\" points=\"778,-134.5 990,-134.5 \" stroke=\"#000000\"/>\n<text fill=\"#000000\" font-family=\"Times,serif\" font-size=\"14.00\" text-anchor=\"middle\" x=\"829\" y=\"-119.3\">input:</text>\n<polyline fill=\"none\" points=\"880,-111.5 880,-134.5 \" stroke=\"#000000\"/>\n<text fill=\"#000000\" font-family=\"Times,serif\" font-size=\"14.00\" text-anchor=\"middle\" x=\"935\" y=\"-119.3\">output:</text>\n<polyline fill=\"none\" points=\"778,-111.5 990,-111.5 \" stroke=\"#000000\"/>\n<text fill=\"#000000\" font-family=\"Times,serif\" font-size=\"14.00\" text-anchor=\"middle\" x=\"833\" y=\"-96.3\">(None, 20, 512)</text>\n<polyline fill=\"none\" points=\"888,-88.5 888,-111.5 \" stroke=\"#000000\"/>\n<text fill=\"#000000\" font-family=\"Times,serif\" font-size=\"14.00\" text-anchor=\"middle\" x=\"939\" y=\"-96.3\">(None, 10240)</text>\n</g>\n<!-- 140265965299192&#45;&gt;140265966369760 -->\n<g class=\"edge\" id=\"edge4\">\n<title>140265965299192-&gt;140265966369760</title>\n<path d=\"M738.3774,-123C748.1406,-123 758.0066,-123 767.7577,-123\" fill=\"none\" stroke=\"#000000\"/>\n<polygon fill=\"#000000\" points=\"767.8687,-126.5001 777.8686,-123 767.8686,-119.5001 767.8687,-126.5001\" stroke=\"#000000\"/>\n</g>\n<!-- 140266284809128 -->\n<g class=\"node\" id=\"node7\">\n<title>140266284809128</title>\n<polygon fill=\"none\" points=\"774,-.5 774,-69.5 994,-69.5 994,-.5 774,-.5\" stroke=\"#000000\"/>\n<text fill=\"#000000\" font-family=\"Times,serif\" font-size=\"14.00\" text-anchor=\"middle\" x=\"884\" y=\"-54.3\">Flatten</text>\n<polyline fill=\"none\" points=\"774,-46.5 994,-46.5 \" stroke=\"#000000\"/>\n<text fill=\"#000000\" font-family=\"Times,serif\" font-size=\"14.00\" text-anchor=\"middle\" x=\"827\" y=\"-31.3\">input:</text>\n<polyline fill=\"none\" points=\"880,-23.5 880,-46.5 \" stroke=\"#000000\"/>\n<text fill=\"#000000\" font-family=\"Times,serif\" font-size=\"14.00\" text-anchor=\"middle\" x=\"937\" y=\"-31.3\">output:</text>\n<polyline fill=\"none\" points=\"774,-23.5 994,-23.5 \" stroke=\"#000000\"/>\n<text fill=\"#000000\" font-family=\"Times,serif\" font-size=\"14.00\" text-anchor=\"middle\" x=\"836.5\" y=\"-8.3\">(None, 1, 20, 100)</text>\n<polyline fill=\"none\" points=\"899,-.5 899,-23.5 \" stroke=\"#000000\"/>\n<text fill=\"#000000\" font-family=\"Times,serif\" font-size=\"14.00\" text-anchor=\"middle\" x=\"946.5\" y=\"-8.3\">(None, 2000)</text>\n</g>\n<!-- 140266285064768&#45;&gt;140266284809128 -->\n<g class=\"edge\" id=\"edge5\">\n<title>140266285064768-&gt;140266284809128</title>\n<path d=\"M730.721,-35C741.6263,-35 752.7339,-35 763.734,-35\" fill=\"none\" stroke=\"#000000\"/>\n<polygon fill=\"#000000\" points=\"763.797,-38.5001 773.7969,-35 763.7969,-31.5001 763.797,-38.5001\" stroke=\"#000000\"/>\n</g>\n<!-- 140266284809072 -->\n<g class=\"node\" id=\"node8\">\n<title>140266284809072</title>\n<polygon fill=\"none\" points=\"1030,-44.5 1030,-113.5 1329,-113.5 1329,-44.5 1030,-44.5\" stroke=\"#000000\"/>\n<text fill=\"#000000\" font-family=\"Times,serif\" font-size=\"14.00\" text-anchor=\"middle\" x=\"1179.5\" y=\"-98.3\">Concatenate</text>\n<polyline fill=\"none\" points=\"1030,-90.5 1329,-90.5 \" stroke=\"#000000\"/>\n<text fill=\"#000000\" font-family=\"Times,serif\" font-size=\"14.00\" text-anchor=\"middle\" x=\"1102.5\" y=\"-75.3\">input:</text>\n<polyline fill=\"none\" points=\"1175,-67.5 1175,-90.5 \" stroke=\"#000000\"/>\n<text fill=\"#000000\" font-family=\"Times,serif\" font-size=\"14.00\" text-anchor=\"middle\" x=\"1252\" y=\"-75.3\">output:</text>\n<polyline fill=\"none\" points=\"1030,-67.5 1329,-67.5 \" stroke=\"#000000\"/>\n<text fill=\"#000000\" font-family=\"Times,serif\" font-size=\"14.00\" text-anchor=\"middle\" x=\"1128.5\" y=\"-52.3\">[(None, 10240), (None, 2000)]</text>\n<polyline fill=\"none\" points=\"1227,-44.5 1227,-67.5 \" stroke=\"#000000\"/>\n<text fill=\"#000000\" font-family=\"Times,serif\" font-size=\"14.00\" text-anchor=\"middle\" x=\"1278\" y=\"-52.3\">(None, 12240)</text>\n</g>\n<!-- 140265966369760&#45;&gt;140266284809072 -->\n<g class=\"edge\" id=\"edge6\">\n<title>140265966369760-&gt;140266284809072</title>\n<path d=\"M990.2648,-107.1772C999.9444,-105.7359 1009.8824,-104.2561 1019.8936,-102.7654\" fill=\"none\" stroke=\"#000000\"/>\n<polygon fill=\"#000000\" points=\"1020.5468,-106.2068 1029.9222,-101.2722 1019.5158,-99.2832 1020.5468,-106.2068\" stroke=\"#000000\"/>\n</g>\n<!-- 140266284809128&#45;&gt;140266284809072 -->\n<g class=\"edge\" id=\"edge7\">\n<title>140266284809128-&gt;140266284809072</title>\n<path d=\"M994.0333,-51.384C1002.5577,-52.6533 1011.2617,-53.9493 1020.0209,-55.2535\" fill=\"none\" stroke=\"#000000\"/>\n<polygon fill=\"#000000\" points=\"1019.5208,-58.7176 1029.9273,-56.7286 1020.5518,-51.7939 1019.5208,-58.7176\" stroke=\"#000000\"/>\n</g>\n<!-- 140266284847680 -->\n<g class=\"node\" id=\"node9\">\n<title>140266284847680</title>\n<polygon fill=\"none\" points=\"1365,-44.5 1365,-113.5 1554,-113.5 1554,-44.5 1365,-44.5\" stroke=\"#000000\"/>\n<text fill=\"#000000\" font-family=\"Times,serif\" font-size=\"14.00\" text-anchor=\"middle\" x=\"1459.5\" y=\"-98.3\">Dense</text>\n<polyline fill=\"none\" points=\"1365,-90.5 1554,-90.5 \" stroke=\"#000000\"/>\n<text fill=\"#000000\" font-family=\"Times,serif\" font-size=\"14.00\" text-anchor=\"middle\" x=\"1410\" y=\"-75.3\">input:</text>\n<polyline fill=\"none\" points=\"1455,-67.5 1455,-90.5 \" stroke=\"#000000\"/>\n<text fill=\"#000000\" font-family=\"Times,serif\" font-size=\"14.00\" text-anchor=\"middle\" x=\"1504.5\" y=\"-75.3\">output:</text>\n<polyline fill=\"none\" points=\"1365,-67.5 1554,-67.5 \" stroke=\"#000000\"/>\n<text fill=\"#000000\" font-family=\"Times,serif\" font-size=\"14.00\" text-anchor=\"middle\" x=\"1416\" y=\"-52.3\">(None, 12240)</text>\n<polyline fill=\"none\" points=\"1467,-44.5 1467,-67.5 \" stroke=\"#000000\"/>\n<text fill=\"#000000\" font-family=\"Times,serif\" font-size=\"14.00\" text-anchor=\"middle\" x=\"1510.5\" y=\"-52.3\">(None, 100)</text>\n</g>\n<!-- 140266284809072&#45;&gt;140266284847680 -->\n<g class=\"edge\" id=\"edge8\">\n<title>140266284809072-&gt;140266284847680</title>\n<path d=\"M1329.3365,-79C1337.9333,-79 1346.4804,-79 1354.8473,-79\" fill=\"none\" stroke=\"#000000\"/>\n<polygon fill=\"#000000\" points=\"1354.9549,-82.5001 1364.9549,-79 1354.9548,-75.5001 1354.9549,-82.5001\" stroke=\"#000000\"/>\n</g>\n<!-- 140266284966072 -->\n<g class=\"node\" id=\"node10\">\n<title>140266284966072</title>\n<polygon fill=\"none\" points=\"1590,-44.5 1590,-113.5 1749,-113.5 1749,-44.5 1590,-44.5\" stroke=\"#000000\"/>\n<text fill=\"#000000\" font-family=\"Times,serif\" font-size=\"14.00\" text-anchor=\"middle\" x=\"1669.5\" y=\"-98.3\">Dense</text>\n<polyline fill=\"none\" points=\"1590,-90.5 1749,-90.5 \" stroke=\"#000000\"/>\n<text fill=\"#000000\" font-family=\"Times,serif\" font-size=\"14.00\" text-anchor=\"middle\" x=\"1627.5\" y=\"-75.3\">input:</text>\n<polyline fill=\"none\" points=\"1665,-67.5 1665,-90.5 \" stroke=\"#000000\"/>\n<text fill=\"#000000\" font-family=\"Times,serif\" font-size=\"14.00\" text-anchor=\"middle\" x=\"1707\" y=\"-75.3\">output:</text>\n<polyline fill=\"none\" points=\"1590,-67.5 1749,-67.5 \" stroke=\"#000000\"/>\n<text fill=\"#000000\" font-family=\"Times,serif\" font-size=\"14.00\" text-anchor=\"middle\" x=\"1633.5\" y=\"-52.3\">(None, 100)</text>\n<polyline fill=\"none\" points=\"1677,-44.5 1677,-67.5 \" stroke=\"#000000\"/>\n<text fill=\"#000000\" font-family=\"Times,serif\" font-size=\"14.00\" text-anchor=\"middle\" x=\"1713\" y=\"-52.3\">(None, 4)</text>\n</g>\n<!-- 140266284847680&#45;&gt;140266284966072 -->\n<g class=\"edge\" id=\"edge9\">\n<title>140266284847680-&gt;140266284966072</title>\n<path d=\"M1554.0564,-79C1562.5701,-79 1571.1762,-79 1579.648,-79\" fill=\"none\" stroke=\"#000000\"/>\n<polygon fill=\"#000000\" points=\"1579.8999,-82.5001 1589.8998,-79 1579.8998,-75.5001 1579.8999,-82.5001\" stroke=\"#000000\"/>\n</g>\n</g>\n</svg>"
          },
          "metadata": {
            "tags": []
          },
          "execution_count": 57
        }
      ]
    },
    {
      "cell_type": "code",
      "metadata": {
        "id": "GBhcfT5U6fzw",
        "colab_type": "code",
        "outputId": "5f736d8d-fe84-4726-99c8-3675801fc0ce",
        "colab": {
          "base_uri": "https://localhost:8080/",
          "height": 474
        }
      },
      "source": [
        "#Compiling the model\n",
        "model_3.compile(loss='categorical_crossentropy', optimizer='rmsprop', metrics=['acc'])\n",
        "#Fitting the model\n",
        "model_3.fit([x_train, x_heading_train], [y_train], validation_data=([x_val, x_heading_val], [y_val]), epochs=12, batch_size=100)"
      ],
      "execution_count": 58,
      "outputs": [
        {
          "output_type": "stream",
          "text": [
            "Train on 39978 samples, validate on 9994 samples\n",
            "Epoch 1/12\n",
            "39978/39978 [==============================] - 132s 3ms/step - loss: 0.7939 - acc: 0.7498 - val_loss: 0.5245 - val_acc: 0.8027\n",
            "Epoch 2/12\n",
            "39978/39978 [==============================] - 129s 3ms/step - loss: 0.3996 - acc: 0.8499 - val_loss: 0.3455 - val_acc: 0.8661\n",
            "Epoch 3/12\n",
            "39978/39978 [==============================] - 130s 3ms/step - loss: 0.2506 - acc: 0.9055 - val_loss: 0.2761 - val_acc: 0.8958\n",
            "Epoch 4/12\n",
            "39978/39978 [==============================] - 129s 3ms/step - loss: 0.1611 - acc: 0.9384 - val_loss: 0.2090 - val_acc: 0.9261\n",
            "Epoch 5/12\n",
            "39978/39978 [==============================] - 129s 3ms/step - loss: 0.1066 - acc: 0.9606 - val_loss: 0.1759 - val_acc: 0.9424\n",
            "Epoch 6/12\n",
            "39978/39978 [==============================] - 129s 3ms/step - loss: 0.0734 - acc: 0.9744 - val_loss: 0.1643 - val_acc: 0.9468\n",
            "Epoch 7/12\n",
            "39978/39978 [==============================] - 128s 3ms/step - loss: 0.0498 - acc: 0.9820 - val_loss: 0.1716 - val_acc: 0.9504\n",
            "Epoch 8/12\n",
            "39978/39978 [==============================] - 128s 3ms/step - loss: 0.0382 - acc: 0.9866 - val_loss: 0.1616 - val_acc: 0.9543\n",
            "Epoch 9/12\n",
            "39978/39978 [==============================] - 128s 3ms/step - loss: 0.0261 - acc: 0.9909 - val_loss: 0.1683 - val_acc: 0.9593\n",
            "Epoch 10/12\n",
            "39978/39978 [==============================] - 128s 3ms/step - loss: 0.0204 - acc: 0.9930 - val_loss: 0.1743 - val_acc: 0.9607\n",
            "Epoch 11/12\n",
            "39978/39978 [==============================] - 128s 3ms/step - loss: 0.0163 - acc: 0.9950 - val_loss: 0.1860 - val_acc: 0.9579\n",
            "Epoch 12/12\n",
            "39978/39978 [==============================] - 127s 3ms/step - loss: 0.0115 - acc: 0.9965 - val_loss: 0.1794 - val_acc: 0.9613\n"
          ],
          "name": "stdout"
        },
        {
          "output_type": "execute_result",
          "data": {
            "text/plain": [
              "<keras.callbacks.History at 0x7f9236632c50>"
            ]
          },
          "metadata": {
            "tags": []
          },
          "execution_count": 58
        }
      ]
    },
    {
      "cell_type": "code",
      "metadata": {
        "id": "4Na-4Z2NPYQ9",
        "colab_type": "code",
        "outputId": "564c3368-db03-417c-d7bb-e9863dad355e",
        "colab": {
          "base_uri": "https://localhost:8080/",
          "height": 70
        }
      },
      "source": [
        "#Validating the model on val set\n",
        "score_3 = model_3.evaluate([x_val,x_heading_val], [y_val])\n",
        "print('Test loss:', score_3[0])\n",
        "print('Test accuracy:', score_3[1])"
      ],
      "execution_count": 59,
      "outputs": [
        {
          "output_type": "stream",
          "text": [
            "9994/9994 [==============================] - 17s 2ms/step\n",
            "Test loss: 0.1794105945880145\n",
            "Test accuracy: 0.9612767660357796\n"
          ],
          "name": "stdout"
        }
      ]
    },
    {
      "cell_type": "code",
      "metadata": {
        "id": "imrrosLELk3i",
        "colab_type": "code",
        "outputId": "96c05f03-4f82-4708-9be4-2b246e3f5fcc",
        "colab": {
          "base_uri": "https://localhost:8080/",
          "height": 139
        }
      },
      "source": [
        "#Store the accuracy results for each model in a dataframe for final comparison\n",
        "tempResultsDf = pd.DataFrame({'Method':['Bidirectional LSTM'], 'accuracy': [score_3[1]]},index={'3'})\n",
        "results = pd.concat([results, tempResultsDf])\n",
        "results = results[['Method', 'accuracy']]\n",
        "results"
      ],
      "execution_count": 60,
      "outputs": [
        {
          "output_type": "execute_result",
          "data": {
            "text/html": [
              "<div>\n",
              "<style scoped>\n",
              "    .dataframe tbody tr th:only-of-type {\n",
              "        vertical-align: middle;\n",
              "    }\n",
              "\n",
              "    .dataframe tbody tr th {\n",
              "        vertical-align: top;\n",
              "    }\n",
              "\n",
              "    .dataframe thead th {\n",
              "        text-align: right;\n",
              "    }\n",
              "</style>\n",
              "<table border=\"1\" class=\"dataframe\">\n",
              "  <thead>\n",
              "    <tr style=\"text-align: right;\">\n",
              "      <th></th>\n",
              "      <th>Method</th>\n",
              "      <th>accuracy</th>\n",
              "    </tr>\n",
              "  </thead>\n",
              "  <tbody>\n",
              "    <tr>\n",
              "      <th>1</th>\n",
              "      <td>LSTM</td>\n",
              "      <td>0.965980</td>\n",
              "    </tr>\n",
              "    <tr>\n",
              "      <th>2</th>\n",
              "      <td>GRU</td>\n",
              "      <td>0.951771</td>\n",
              "    </tr>\n",
              "    <tr>\n",
              "      <th>3</th>\n",
              "      <td>Bidirectional LSTM</td>\n",
              "      <td>0.961277</td>\n",
              "    </tr>\n",
              "  </tbody>\n",
              "</table>\n",
              "</div>"
            ],
            "text/plain": [
              "               Method  accuracy\n",
              "1                LSTM  0.965980\n",
              "2                 GRU  0.951771\n",
              "3  Bidirectional LSTM  0.961277"
            ]
          },
          "metadata": {
            "tags": []
          },
          "execution_count": 60
        }
      ]
    },
    {
      "cell_type": "markdown",
      "metadata": {
        "id": "R47A6Ysfev3l",
        "colab_type": "text"
      },
      "source": [
        "### Model 4- Bidirectional LSTM Attention Model"
      ]
    },
    {
      "cell_type": "code",
      "metadata": {
        "id": "ZQ3TWuiAe1Uu",
        "colab_type": "code",
        "colab": {}
      },
      "source": [
        "class AttLayer(Layer):\n",
        "    def __init__(self, attention_dim):\n",
        "        self.init = initializers.get('normal')\n",
        "        self.supports_masking = True\n",
        "        self.attention_dim = attention_dim\n",
        "        super(AttLayer, self).__init__()\n",
        "\n",
        "    def build(self, input_shape):\n",
        "        assert len(input_shape) == 3\n",
        "        self.W = K.variable(self.init((input_shape[-1], self.attention_dim)))\n",
        "        self.b = K.variable(self.init((self.attention_dim, )))\n",
        "        self.u = K.variable(self.init((self.attention_dim, 1)))\n",
        "        self.trainable_weights = [self.W, self.b, self.u]\n",
        "        super(AttLayer, self).build(input_shape)\n",
        "\n",
        "    def compute_mask(self, inputs, mask=None):\n",
        "        return mask\n",
        "\n",
        "    def call(self, x, mask=None):     \n",
        "        uit = K.tanh(K.bias_add(K.dot(x, self.W), self.b))\n",
        "        ait = K.dot(uit, self.u)\n",
        "        ait = K.squeeze(ait, -1)\n",
        "        ait = K.exp(ait)\n",
        "        if mask is not None:\n",
        "            ait *= K.cast(mask, K.floatx())\n",
        "        ait /= K.cast(K.sum(ait, axis=1, keepdims=True) + K.epsilon(), K.floatx())\n",
        "        ait = K.expand_dims(ait)\n",
        "        weighted_input = x * ait\n",
        "        output = K.sum(weighted_input, axis=1)\n",
        "        return output\n",
        "\n",
        "    def compute_output_shape(self, input_shape):\n",
        "        return (input_shape[0], input_shape[-1])"
      ],
      "execution_count": 0,
      "outputs": []
    },
    {
      "cell_type": "code",
      "metadata": {
        "id": "wivJ-eVkfEOm",
        "colab_type": "code",
        "colab": {
          "base_uri": "https://localhost:8080/",
          "height": 72
        },
        "outputId": "8479f708-e438-4caf-d58c-3a73868ba594"
      },
      "source": [
        "#Adding the input Layer for article\n",
        "a_Input_layer_4 = Input(shape=(MAX_SENT_LENGTH,), dtype='int32')\n",
        "#Adding Embedding Layer\n",
        "a_embedding_layer_4 = Embedding(output_dim=Embed_dim, input_dim=vocab_size, input_length=(MAX_SENT_LENGTH,), weights=[embedding_matrix])(a_Input_layer_4)\n",
        "#Adding Bidirectional LSTM Layer\n",
        "a_BLSTM_layer_4 = Bidirectional(LSTM(256, return_sequences=True))(a_embedding_layer_4)\n",
        "#Adding Attention layer\n",
        "a_attention_layer_4 = AttLayer(100)(a_BLSTM_layer_4)\n",
        "#Encoding \n",
        "Encoder_4 = Model(a_Input_layer_4,a_attention_layer_4)\n",
        "\n",
        "#Adding input Layer\n",
        "a_Input_layer_44 = Input(shape=(MAX_SENTS,MAX_SENT_LENGTH), dtype='int32')\n",
        "#Adding TimeDistributed Layer\n",
        "article_encoder_4 = TimeDistributed(Encoder_4)(a_Input_layer_44)\n",
        "#Adding Bidirectional LSTM Layer\n",
        "a_BLSTM_layer_44 = Bidirectional(LSTM(256, return_sequences=True))(article_encoder_4)\n",
        "#Adding Attention layer\n",
        "a_attention_layer_44 = AttLayer(100)(a_BLSTM_layer_44)\n",
        "\n",
        "\n",
        "#Adding input Layer for heading\n",
        "h_input_layer_4 = Input(shape=(MAX_SENTS_HEADING, MAX_SENT_LENGTH,), dtype='int32')\n",
        "#Adding Embedding Layer\n",
        "h_embedded_layer_4 = Embedding(output_dim=Embed_dim, input_dim=vocab_size,  input_length=(MAX_SENTS_HEADING, MAX_SENT_LENGTH,), weights=[embedding_matrix])(h_input_layer_4)\n",
        "#Adding Flatten Layer\n",
        "h_flatten_layer_4 = Flatten()(h_embedded_layer_4)\n",
        "\n",
        "#Concatenating the two model\n",
        "output_4 = concatenate([a_attention_layer_44, h_flatten_layer_4], name='concatenate_heading')\n",
        "\n",
        "#Adding the Dense Layer\n",
        "f_dense_layer_4 = Dense(100, activation='relu')(output_4)\n",
        "#Adding the Dense Layer\n",
        "final_output_4 = Dense(4, activation='softmax')(f_dense_layer_4)\n",
        "\n",
        "#Model Building\n",
        "model_4 = Model([a_Input_layer_44, h_input_layer_4], [final_output_4])"
      ],
      "execution_count": 62,
      "outputs": [
        {
          "output_type": "stream",
          "text": [
            "WARNING:tensorflow:From /usr/local/lib/python3.6/dist-packages/keras/backend/tensorflow_backend.py:4409: The name tf.random_normal is deprecated. Please use tf.random.normal instead.\n",
            "\n"
          ],
          "name": "stdout"
        }
      ]
    },
    {
      "cell_type": "code",
      "metadata": {
        "id": "PhPluSDxvCiz",
        "colab_type": "code",
        "outputId": "44e896a9-6c7d-4730-a573-904c0461d073",
        "colab": {
          "base_uri": "https://localhost:8080/",
          "height": 335
        }
      },
      "source": [
        "from keras.utils import plot_model\n",
        "import matplotlib.pyplot as plt\n",
        "plot_model(model_4,to_file='/content/drive/My Drive/Fake News Challenge/model_4.png',  show_shapes=True,   show_layer_names=False,rankdir='LR')\n",
        "from IPython.display import SVG\n",
        "from keras.utils import model_to_dot\n",
        "SVG(model_to_dot(model_4,rankdir='LR', show_shapes=True, show_layer_names=False,).create(prog='dot', format='svg'))"
      ],
      "execution_count": 63,
      "outputs": [
        {
          "output_type": "execute_result",
          "data": {
            "text/plain": [
              "<IPython.core.display.SVG object>"
            ],
            "image/svg+xml": "<svg height=\"221pt\" viewBox=\"0.00 0.00 1698.00 166.00\" width=\"2264pt\" xmlns=\"http://www.w3.org/2000/svg\" xmlns:xlink=\"http://www.w3.org/1999/xlink\">\n<g class=\"graph\" id=\"graph0\" transform=\"scale(1.3333 1.3333) rotate(0) translate(4 162)\">\n<title>G</title>\n<polygon fill=\"#ffffff\" points=\"-4,4 -4,-162 1694,-162 1694,4 -4,4\" stroke=\"transparent\"/>\n<!-- 140265951680104 -->\n<g class=\"node\" id=\"node1\">\n<title>140265951680104</title>\n<polygon fill=\"none\" points=\"0,-88.5 0,-157.5 204,-157.5 204,-88.5 0,-88.5\" stroke=\"#000000\"/>\n<text fill=\"#000000\" font-family=\"Times,serif\" font-size=\"14.00\" text-anchor=\"middle\" x=\"102\" y=\"-142.3\">InputLayer</text>\n<polyline fill=\"none\" points=\"0,-134.5 204,-134.5 \" stroke=\"#000000\"/>\n<text fill=\"#000000\" font-family=\"Times,serif\" font-size=\"14.00\" text-anchor=\"middle\" x=\"49\" y=\"-119.3\">input:</text>\n<polyline fill=\"none\" points=\"98,-111.5 98,-134.5 \" stroke=\"#000000\"/>\n<text fill=\"#000000\" font-family=\"Times,serif\" font-size=\"14.00\" text-anchor=\"middle\" x=\"151\" y=\"-119.3\">output:</text>\n<polyline fill=\"none\" points=\"0,-111.5 204,-111.5 \" stroke=\"#000000\"/>\n<text fill=\"#000000\" font-family=\"Times,serif\" font-size=\"14.00\" text-anchor=\"middle\" x=\"51\" y=\"-96.3\">(None, 20, 20)</text>\n<polyline fill=\"none\" points=\"102,-88.5 102,-111.5 \" stroke=\"#000000\"/>\n<text fill=\"#000000\" font-family=\"Times,serif\" font-size=\"14.00\" text-anchor=\"middle\" x=\"153\" y=\"-96.3\">(None, 20, 20)</text>\n</g>\n<!-- 140265951879408 -->\n<g class=\"node\" id=\"node2\">\n<title>140265951879408</title>\n<polygon fill=\"none\" points=\"240,-88.5 240,-157.5 452,-157.5 452,-88.5 240,-88.5\" stroke=\"#000000\"/>\n<text fill=\"#000000\" font-family=\"Times,serif\" font-size=\"14.00\" text-anchor=\"middle\" x=\"346\" y=\"-142.3\">TimeDistributed(Model)</text>\n<polyline fill=\"none\" points=\"240,-134.5 452,-134.5 \" stroke=\"#000000\"/>\n<text fill=\"#000000\" font-family=\"Times,serif\" font-size=\"14.00\" text-anchor=\"middle\" x=\"291\" y=\"-119.3\">input:</text>\n<polyline fill=\"none\" points=\"342,-111.5 342,-134.5 \" stroke=\"#000000\"/>\n<text fill=\"#000000\" font-family=\"Times,serif\" font-size=\"14.00\" text-anchor=\"middle\" x=\"397\" y=\"-119.3\">output:</text>\n<polyline fill=\"none\" points=\"240,-111.5 452,-111.5 \" stroke=\"#000000\"/>\n<text fill=\"#000000\" font-family=\"Times,serif\" font-size=\"14.00\" text-anchor=\"middle\" x=\"291\" y=\"-96.3\">(None, 20, 20)</text>\n<polyline fill=\"none\" points=\"342,-88.5 342,-111.5 \" stroke=\"#000000\"/>\n<text fill=\"#000000\" font-family=\"Times,serif\" font-size=\"14.00\" text-anchor=\"middle\" x=\"397\" y=\"-96.3\">(None, 20, 512)</text>\n</g>\n<!-- 140265951680104&#45;&gt;140265951879408 -->\n<g class=\"edge\" id=\"edge1\">\n<title>140265951680104-&gt;140265951879408</title>\n<path d=\"M204.0642,-123C212.5118,-123 221.0904,-123 229.6322,-123\" fill=\"none\" stroke=\"#000000\"/>\n<polygon fill=\"#000000\" points=\"229.6324,-126.5001 239.6324,-123 229.6324,-119.5001 229.6324,-126.5001\" stroke=\"#000000\"/>\n</g>\n<!-- 140265950313216 -->\n<g class=\"node\" id=\"node4\">\n<title>140265950313216</title>\n<polygon fill=\"none\" points=\"488,-88.5 488,-157.5 708,-157.5 708,-88.5 488,-88.5\" stroke=\"#000000\"/>\n<text fill=\"#000000\" font-family=\"Times,serif\" font-size=\"14.00\" text-anchor=\"middle\" x=\"598\" y=\"-142.3\">Bidirectional(LSTM)</text>\n<polyline fill=\"none\" points=\"488,-134.5 708,-134.5 \" stroke=\"#000000\"/>\n<text fill=\"#000000\" font-family=\"Times,serif\" font-size=\"14.00\" text-anchor=\"middle\" x=\"541\" y=\"-119.3\">input:</text>\n<polyline fill=\"none\" points=\"594,-111.5 594,-134.5 \" stroke=\"#000000\"/>\n<text fill=\"#000000\" font-family=\"Times,serif\" font-size=\"14.00\" text-anchor=\"middle\" x=\"651\" y=\"-119.3\">output:</text>\n<polyline fill=\"none\" points=\"488,-111.5 708,-111.5 \" stroke=\"#000000\"/>\n<text fill=\"#000000\" font-family=\"Times,serif\" font-size=\"14.00\" text-anchor=\"middle\" x=\"543\" y=\"-96.3\">(None, 20, 512)</text>\n<polyline fill=\"none\" points=\"598,-88.5 598,-111.5 \" stroke=\"#000000\"/>\n<text fill=\"#000000\" font-family=\"Times,serif\" font-size=\"14.00\" text-anchor=\"middle\" x=\"653\" y=\"-96.3\">(None, 20, 512)</text>\n</g>\n<!-- 140265951879408&#45;&gt;140265950313216 -->\n<g class=\"edge\" id=\"edge2\">\n<title>140265951879408-&gt;140265950313216</title>\n<path d=\"M452.1403,-123C460.6482,-123 469.2799,-123 477.8752,-123\" fill=\"none\" stroke=\"#000000\"/>\n<polygon fill=\"#000000\" points=\"477.9388,-126.5001 487.9388,-123 477.9388,-119.5001 477.9388,-126.5001\" stroke=\"#000000\"/>\n</g>\n<!-- 140265950344976 -->\n<g class=\"node\" id=\"node3\">\n<title>140265950344976</title>\n<polygon fill=\"none\" points=\"251,-.5 251,-69.5 441,-69.5 441,-.5 251,-.5\" stroke=\"#000000\"/>\n<text fill=\"#000000\" font-family=\"Times,serif\" font-size=\"14.00\" text-anchor=\"middle\" x=\"346\" y=\"-54.3\">InputLayer</text>\n<polyline fill=\"none\" points=\"251,-46.5 441,-46.5 \" stroke=\"#000000\"/>\n<text fill=\"#000000\" font-family=\"Times,serif\" font-size=\"14.00\" text-anchor=\"middle\" x=\"296.5\" y=\"-31.3\">input:</text>\n<polyline fill=\"none\" points=\"342,-23.5 342,-46.5 \" stroke=\"#000000\"/>\n<text fill=\"#000000\" font-family=\"Times,serif\" font-size=\"14.00\" text-anchor=\"middle\" x=\"391.5\" y=\"-31.3\">output:</text>\n<polyline fill=\"none\" points=\"251,-23.5 441,-23.5 \" stroke=\"#000000\"/>\n<text fill=\"#000000\" font-family=\"Times,serif\" font-size=\"14.00\" text-anchor=\"middle\" x=\"298.5\" y=\"-8.3\">(None, 1, 20)</text>\n<polyline fill=\"none\" points=\"346,-.5 346,-23.5 \" stroke=\"#000000\"/>\n<text fill=\"#000000\" font-family=\"Times,serif\" font-size=\"14.00\" text-anchor=\"middle\" x=\"393.5\" y=\"-8.3\">(None, 1, 20)</text>\n</g>\n<!-- 140265949736408 -->\n<g class=\"node\" id=\"node5\">\n<title>140265949736408</title>\n<polygon fill=\"none\" points=\"488,-.5 488,-69.5 708,-69.5 708,-.5 488,-.5\" stroke=\"#000000\"/>\n<text fill=\"#000000\" font-family=\"Times,serif\" font-size=\"14.00\" text-anchor=\"middle\" x=\"598\" y=\"-54.3\">Embedding</text>\n<polyline fill=\"none\" points=\"488,-46.5 708,-46.5 \" stroke=\"#000000\"/>\n<text fill=\"#000000\" font-family=\"Times,serif\" font-size=\"14.00\" text-anchor=\"middle\" x=\"541\" y=\"-31.3\">input:</text>\n<polyline fill=\"none\" points=\"594,-23.5 594,-46.5 \" stroke=\"#000000\"/>\n<text fill=\"#000000\" font-family=\"Times,serif\" font-size=\"14.00\" text-anchor=\"middle\" x=\"651\" y=\"-31.3\">output:</text>\n<polyline fill=\"none\" points=\"488,-23.5 708,-23.5 \" stroke=\"#000000\"/>\n<text fill=\"#000000\" font-family=\"Times,serif\" font-size=\"14.00\" text-anchor=\"middle\" x=\"535.5\" y=\"-8.3\">(None, 1, 20)</text>\n<polyline fill=\"none\" points=\"583,-.5 583,-23.5 \" stroke=\"#000000\"/>\n<text fill=\"#000000\" font-family=\"Times,serif\" font-size=\"14.00\" text-anchor=\"middle\" x=\"645.5\" y=\"-8.3\">(None, 1, 20, 100)</text>\n</g>\n<!-- 140265950344976&#45;&gt;140265949736408 -->\n<g class=\"edge\" id=\"edge3\">\n<title>140265950344976-&gt;140265949736408</title>\n<path d=\"M441.2704,-35C453.1394,-35 465.3958,-35 477.5824,-35\" fill=\"none\" stroke=\"#000000\"/>\n<polygon fill=\"#000000\" points=\"477.7928,-38.5001 487.7928,-35 477.7927,-31.5001 477.7928,-38.5001\" stroke=\"#000000\"/>\n</g>\n<!-- 140265951848880 -->\n<g class=\"node\" id=\"node6\">\n<title>140265951848880</title>\n<polygon fill=\"none\" points=\"755.5,-88.5 755.5,-157.5 952.5,-157.5 952.5,-88.5 755.5,-88.5\" stroke=\"#000000\"/>\n<text fill=\"#000000\" font-family=\"Times,serif\" font-size=\"14.00\" text-anchor=\"middle\" x=\"854\" y=\"-142.3\">AttLayer</text>\n<polyline fill=\"none\" points=\"755.5,-134.5 952.5,-134.5 \" stroke=\"#000000\"/>\n<text fill=\"#000000\" font-family=\"Times,serif\" font-size=\"14.00\" text-anchor=\"middle\" x=\"802.5\" y=\"-119.3\">input:</text>\n<polyline fill=\"none\" points=\"849.5,-111.5 849.5,-134.5 \" stroke=\"#000000\"/>\n<text fill=\"#000000\" font-family=\"Times,serif\" font-size=\"14.00\" text-anchor=\"middle\" x=\"901\" y=\"-119.3\">output:</text>\n<polyline fill=\"none\" points=\"755.5,-111.5 952.5,-111.5 \" stroke=\"#000000\"/>\n<text fill=\"#000000\" font-family=\"Times,serif\" font-size=\"14.00\" text-anchor=\"middle\" x=\"810.5\" y=\"-96.3\">(None, 20, 512)</text>\n<polyline fill=\"none\" points=\"865.5,-88.5 865.5,-111.5 \" stroke=\"#000000\"/>\n<text fill=\"#000000\" font-family=\"Times,serif\" font-size=\"14.00\" text-anchor=\"middle\" x=\"909\" y=\"-96.3\">(None, 512)</text>\n</g>\n<!-- 140265950313216&#45;&gt;140265951848880 -->\n<g class=\"edge\" id=\"edge4\">\n<title>140265950313216-&gt;140265951848880</title>\n<path d=\"M708.0527,-123C720.334,-123 732.8401,-123 745.1067,-123\" fill=\"none\" stroke=\"#000000\"/>\n<polygon fill=\"#000000\" points=\"745.3442,-126.5001 755.3441,-123 745.3441,-119.5001 745.3442,-126.5001\" stroke=\"#000000\"/>\n</g>\n<!-- 140265949168976 -->\n<g class=\"node\" id=\"node7\">\n<title>140265949168976</title>\n<polygon fill=\"none\" points=\"744,-.5 744,-69.5 964,-69.5 964,-.5 744,-.5\" stroke=\"#000000\"/>\n<text fill=\"#000000\" font-family=\"Times,serif\" font-size=\"14.00\" text-anchor=\"middle\" x=\"854\" y=\"-54.3\">Flatten</text>\n<polyline fill=\"none\" points=\"744,-46.5 964,-46.5 \" stroke=\"#000000\"/>\n<text fill=\"#000000\" font-family=\"Times,serif\" font-size=\"14.00\" text-anchor=\"middle\" x=\"797\" y=\"-31.3\">input:</text>\n<polyline fill=\"none\" points=\"850,-23.5 850,-46.5 \" stroke=\"#000000\"/>\n<text fill=\"#000000\" font-family=\"Times,serif\" font-size=\"14.00\" text-anchor=\"middle\" x=\"907\" y=\"-31.3\">output:</text>\n<polyline fill=\"none\" points=\"744,-23.5 964,-23.5 \" stroke=\"#000000\"/>\n<text fill=\"#000000\" font-family=\"Times,serif\" font-size=\"14.00\" text-anchor=\"middle\" x=\"806.5\" y=\"-8.3\">(None, 1, 20, 100)</text>\n<polyline fill=\"none\" points=\"869,-.5 869,-23.5 \" stroke=\"#000000\"/>\n<text fill=\"#000000\" font-family=\"Times,serif\" font-size=\"14.00\" text-anchor=\"middle\" x=\"916.5\" y=\"-8.3\">(None, 2000)</text>\n</g>\n<!-- 140265949736408&#45;&gt;140265949168976 -->\n<g class=\"edge\" id=\"edge5\">\n<title>140265949736408-&gt;140265949168976</title>\n<path d=\"M708.0527,-35C716.4347,-35 724.9214,-35 733.3652,-35\" fill=\"none\" stroke=\"#000000\"/>\n<polygon fill=\"#000000\" points=\"733.6336,-38.5001 743.6336,-35 733.6336,-31.5001 733.6336,-38.5001\" stroke=\"#000000\"/>\n</g>\n<!-- 140265949733496 -->\n<g class=\"node\" id=\"node8\">\n<title>140265949733496</title>\n<polygon fill=\"none\" points=\"1000,-44.5 1000,-113.5 1277,-113.5 1277,-44.5 1000,-44.5\" stroke=\"#000000\"/>\n<text fill=\"#000000\" font-family=\"Times,serif\" font-size=\"14.00\" text-anchor=\"middle\" x=\"1138.5\" y=\"-98.3\">Concatenate</text>\n<polyline fill=\"none\" points=\"1000,-90.5 1277,-90.5 \" stroke=\"#000000\"/>\n<text fill=\"#000000\" font-family=\"Times,serif\" font-size=\"14.00\" text-anchor=\"middle\" x=\"1067\" y=\"-75.3\">input:</text>\n<polyline fill=\"none\" points=\"1134,-67.5 1134,-90.5 \" stroke=\"#000000\"/>\n<text fill=\"#000000\" font-family=\"Times,serif\" font-size=\"14.00\" text-anchor=\"middle\" x=\"1205.5\" y=\"-75.3\">output:</text>\n<polyline fill=\"none\" points=\"1000,-67.5 1277,-67.5 \" stroke=\"#000000\"/>\n<text fill=\"#000000\" font-family=\"Times,serif\" font-size=\"14.00\" text-anchor=\"middle\" x=\"1091\" y=\"-52.3\">[(None, 512), (None, 2000)]</text>\n<polyline fill=\"none\" points=\"1182,-44.5 1182,-67.5 \" stroke=\"#000000\"/>\n<text fill=\"#000000\" font-family=\"Times,serif\" font-size=\"14.00\" text-anchor=\"middle\" x=\"1229.5\" y=\"-52.3\">(None, 2512)</text>\n</g>\n<!-- 140265951848880&#45;&gt;140265949733496 -->\n<g class=\"edge\" id=\"edge6\">\n<title>140265951848880-&gt;140265949733496</title>\n<path d=\"M952.7059,-107.7344C964.7363,-105.8738 977.2265,-103.9421 989.7841,-102\" fill=\"none\" stroke=\"#000000\"/>\n<polygon fill=\"#000000\" points=\"990.5145,-105.4287 999.862,-100.4414 989.4445,-98.511 990.5145,-105.4287\" stroke=\"#000000\"/>\n</g>\n<!-- 140265949168976&#45;&gt;140265949733496 -->\n<g class=\"edge\" id=\"edge7\">\n<title>140265949168976-&gt;140265949733496</title>\n<path d=\"M964.4023,-52.0745C972.7099,-53.3593 981.1701,-54.6678 989.6618,-55.9811\" fill=\"none\" stroke=\"#000000\"/>\n<polygon fill=\"#000000\" points=\"989.2199,-59.4543 999.6374,-57.5239 990.2899,-52.5365 989.2199,-59.4543\" stroke=\"#000000\"/>\n</g>\n<!-- 140265949226040 -->\n<g class=\"node\" id=\"node9\">\n<title>140265949226040</title>\n<polygon fill=\"none\" points=\"1313,-44.5 1313,-113.5 1495,-113.5 1495,-44.5 1313,-44.5\" stroke=\"#000000\"/>\n<text fill=\"#000000\" font-family=\"Times,serif\" font-size=\"14.00\" text-anchor=\"middle\" x=\"1404\" y=\"-98.3\">Dense</text>\n<polyline fill=\"none\" points=\"1313,-90.5 1495,-90.5 \" stroke=\"#000000\"/>\n<text fill=\"#000000\" font-family=\"Times,serif\" font-size=\"14.00\" text-anchor=\"middle\" x=\"1356.5\" y=\"-75.3\">input:</text>\n<polyline fill=\"none\" points=\"1400,-67.5 1400,-90.5 \" stroke=\"#000000\"/>\n<text fill=\"#000000\" font-family=\"Times,serif\" font-size=\"14.00\" text-anchor=\"middle\" x=\"1447.5\" y=\"-75.3\">output:</text>\n<polyline fill=\"none\" points=\"1313,-67.5 1495,-67.5 \" stroke=\"#000000\"/>\n<text fill=\"#000000\" font-family=\"Times,serif\" font-size=\"14.00\" text-anchor=\"middle\" x=\"1360.5\" y=\"-52.3\">(None, 2512)</text>\n<polyline fill=\"none\" points=\"1408,-44.5 1408,-67.5 \" stroke=\"#000000\"/>\n<text fill=\"#000000\" font-family=\"Times,serif\" font-size=\"14.00\" text-anchor=\"middle\" x=\"1451.5\" y=\"-52.3\">(None, 100)</text>\n</g>\n<!-- 140265949733496&#45;&gt;140265949226040 -->\n<g class=\"edge\" id=\"edge8\">\n<title>140265949733496-&gt;140265949226040</title>\n<path d=\"M1277.0821,-79C1285.6633,-79 1294.212,-79 1302.5844,-79\" fill=\"none\" stroke=\"#000000\"/>\n<polygon fill=\"#000000\" points=\"1302.6997,-82.5001 1312.6996,-79 1302.6996,-75.5001 1302.6997,-82.5001\" stroke=\"#000000\"/>\n</g>\n<!-- 140265948753424 -->\n<g class=\"node\" id=\"node10\">\n<title>140265948753424</title>\n<polygon fill=\"none\" points=\"1531,-44.5 1531,-113.5 1690,-113.5 1690,-44.5 1531,-44.5\" stroke=\"#000000\"/>\n<text fill=\"#000000\" font-family=\"Times,serif\" font-size=\"14.00\" text-anchor=\"middle\" x=\"1610.5\" y=\"-98.3\">Dense</text>\n<polyline fill=\"none\" points=\"1531,-90.5 1690,-90.5 \" stroke=\"#000000\"/>\n<text fill=\"#000000\" font-family=\"Times,serif\" font-size=\"14.00\" text-anchor=\"middle\" x=\"1568.5\" y=\"-75.3\">input:</text>\n<polyline fill=\"none\" points=\"1606,-67.5 1606,-90.5 \" stroke=\"#000000\"/>\n<text fill=\"#000000\" font-family=\"Times,serif\" font-size=\"14.00\" text-anchor=\"middle\" x=\"1648\" y=\"-75.3\">output:</text>\n<polyline fill=\"none\" points=\"1531,-67.5 1690,-67.5 \" stroke=\"#000000\"/>\n<text fill=\"#000000\" font-family=\"Times,serif\" font-size=\"14.00\" text-anchor=\"middle\" x=\"1574.5\" y=\"-52.3\">(None, 100)</text>\n<polyline fill=\"none\" points=\"1618,-44.5 1618,-67.5 \" stroke=\"#000000\"/>\n<text fill=\"#000000\" font-family=\"Times,serif\" font-size=\"14.00\" text-anchor=\"middle\" x=\"1654\" y=\"-52.3\">(None, 4)</text>\n</g>\n<!-- 140265949226040&#45;&gt;140265948753424 -->\n<g class=\"edge\" id=\"edge9\">\n<title>140265949226040-&gt;140265948753424</title>\n<path d=\"M1495.175,-79C1503.6244,-79 1512.1831,-79 1520.6207,-79\" fill=\"none\" stroke=\"#000000\"/>\n<polygon fill=\"#000000\" points=\"1520.8371,-82.5001 1530.8371,-79 1520.8371,-75.5001 1520.8371,-82.5001\" stroke=\"#000000\"/>\n</g>\n</g>\n</svg>"
          },
          "metadata": {
            "tags": []
          },
          "execution_count": 63
        }
      ]
    },
    {
      "cell_type": "code",
      "metadata": {
        "id": "7sarRtbwzzx5",
        "colab_type": "code",
        "outputId": "9c53656f-f0ad-4d78-9673-a97b27c722da",
        "colab": {
          "base_uri": "https://localhost:8080/",
          "height": 526
        }
      },
      "source": [
        "model_4.summary()"
      ],
      "execution_count": 64,
      "outputs": [
        {
          "output_type": "stream",
          "text": [
            "Model: \"model_8\"\n",
            "__________________________________________________________________________________________________\n",
            "Layer (type)                    Output Shape         Param #     Connected to                     \n",
            "==================================================================================================\n",
            "input_11 (InputLayer)           (None, 20, 20)       0                                            \n",
            "__________________________________________________________________________________________________\n",
            "time_distributed_4 (TimeDistrib (None, 20, 512)      3569936     input_11[0][0]                   \n",
            "__________________________________________________________________________________________________\n",
            "input_12 (InputLayer)           (None, 1, 20)        0                                            \n",
            "__________________________________________________________________________________________________\n",
            "bidirectional_4 (Bidirectional) (None, 20, 512)      1574912     time_distributed_4[0][0]         \n",
            "__________________________________________________________________________________________________\n",
            "embedding_8 (Embedding)         (None, 1, 20, 100)   2787400     input_12[0][0]                   \n",
            "__________________________________________________________________________________________________\n",
            "att_layer_2 (AttLayer)          (None, 512)          51400       bidirectional_4[0][0]            \n",
            "__________________________________________________________________________________________________\n",
            "flatten_10 (Flatten)            (None, 2000)         0           embedding_8[0][0]                \n",
            "__________________________________________________________________________________________________\n",
            "concatenate_heading (Concatenat (None, 2512)         0           att_layer_2[0][0]                \n",
            "                                                                 flatten_10[0][0]                 \n",
            "__________________________________________________________________________________________________\n",
            "dense_9 (Dense)                 (None, 100)          251300      concatenate_heading[0][0]        \n",
            "__________________________________________________________________________________________________\n",
            "dense_10 (Dense)                (None, 4)            404         dense_9[0][0]                    \n",
            "==================================================================================================\n",
            "Total params: 8,235,352\n",
            "Trainable params: 8,235,352\n",
            "Non-trainable params: 0\n",
            "__________________________________________________________________________________________________\n"
          ],
          "name": "stdout"
        }
      ]
    },
    {
      "cell_type": "markdown",
      "metadata": {
        "id": "olqo5ytRe7eq",
        "colab_type": "text"
      },
      "source": [
        "## Fit the model and report the accuracy score for the model with attention layer (Optional)"
      ]
    },
    {
      "cell_type": "code",
      "metadata": {
        "id": "1zgxPrhzfBkv",
        "colab_type": "code",
        "outputId": "67c7d123-a674-494c-932f-8e2a2bc6ecb3",
        "colab": {
          "base_uri": "https://localhost:8080/",
          "height": 474
        }
      },
      "source": [
        "#Compiling the model\n",
        "model_4.compile(loss='categorical_crossentropy', optimizer='rmsprop', metrics=['acc'])\n",
        "#Fitting the model\n",
        "model_4.fit([x_train, x_heading_train], [y_train], validation_data=([x_val, x_heading_val], [y_val]), epochs=12, batch_size=100)"
      ],
      "execution_count": 65,
      "outputs": [
        {
          "output_type": "stream",
          "text": [
            "Train on 39978 samples, validate on 9994 samples\n",
            "Epoch 1/12\n",
            "39978/39978 [==============================] - 91s 2ms/step - loss: 0.6314 - acc: 0.7612 - val_loss: 0.4926 - val_acc: 0.8059\n",
            "Epoch 2/12\n",
            "39978/39978 [==============================] - 87s 2ms/step - loss: 0.3720 - acc: 0.8538 - val_loss: 0.3225 - val_acc: 0.8776\n",
            "Epoch 3/12\n",
            "39978/39978 [==============================] - 87s 2ms/step - loss: 0.2267 - acc: 0.9138 - val_loss: 0.2545 - val_acc: 0.9080\n",
            "Epoch 4/12\n",
            "39978/39978 [==============================] - 87s 2ms/step - loss: 0.1423 - acc: 0.9478 - val_loss: 0.1950 - val_acc: 0.9324\n",
            "Epoch 5/12\n",
            "39978/39978 [==============================] - 86s 2ms/step - loss: 0.0978 - acc: 0.9650 - val_loss: 0.1574 - val_acc: 0.9496\n",
            "Epoch 6/12\n",
            "39978/39978 [==============================] - 86s 2ms/step - loss: 0.0699 - acc: 0.9761 - val_loss: 0.1389 - val_acc: 0.9585\n",
            "Epoch 7/12\n",
            "39978/39978 [==============================] - 87s 2ms/step - loss: 0.0529 - acc: 0.9818 - val_loss: 0.1467 - val_acc: 0.9584\n",
            "Epoch 8/12\n",
            "39978/39978 [==============================] - 86s 2ms/step - loss: 0.0373 - acc: 0.9875 - val_loss: 0.1423 - val_acc: 0.9635\n",
            "Epoch 9/12\n",
            "39978/39978 [==============================] - 86s 2ms/step - loss: 0.0294 - acc: 0.9902 - val_loss: 0.1386 - val_acc: 0.9645\n",
            "Epoch 10/12\n",
            "39978/39978 [==============================] - 86s 2ms/step - loss: 0.0231 - acc: 0.9918 - val_loss: 0.1459 - val_acc: 0.9688\n",
            "Epoch 11/12\n",
            "39978/39978 [==============================] - 86s 2ms/step - loss: 0.0164 - acc: 0.9944 - val_loss: 0.1480 - val_acc: 0.9678\n",
            "Epoch 12/12\n",
            "39978/39978 [==============================] - 86s 2ms/step - loss: 0.0157 - acc: 0.9947 - val_loss: 0.1602 - val_acc: 0.9651\n"
          ],
          "name": "stdout"
        },
        {
          "output_type": "execute_result",
          "data": {
            "text/plain": [
              "<keras.callbacks.History at 0x7f91336b7c88>"
            ]
          },
          "metadata": {
            "tags": []
          },
          "execution_count": 65
        }
      ]
    },
    {
      "cell_type": "code",
      "metadata": {
        "id": "z8507P94fDuX",
        "colab_type": "code",
        "outputId": "038fa851-0480-4550-8872-afc77fc891fd",
        "colab": {
          "base_uri": "https://localhost:8080/",
          "height": 70
        }
      },
      "source": [
        "#Validating the model on val set\n",
        "score_4 = model_4.evaluate([x_val,x_heading_val], [y_val])\n",
        "print('Test loss:', score_4[0])\n",
        "print('Test accuracy:', score_4[1])"
      ],
      "execution_count": 66,
      "outputs": [
        {
          "output_type": "stream",
          "text": [
            "9994/9994 [==============================] - 17s 2ms/step\n",
            "Test loss: 0.16016517683106207\n",
            "Test accuracy: 0.9650790474284571\n"
          ],
          "name": "stdout"
        }
      ]
    },
    {
      "cell_type": "code",
      "metadata": {
        "id": "GXG6HDwZvljr",
        "colab_type": "code",
        "outputId": "460d888d-4196-4950-f741-db729e59dc29",
        "colab": {
          "base_uri": "https://localhost:8080/",
          "height": 169
        }
      },
      "source": [
        "#Store the accuracy results for each model in a dataframe for final comparison\n",
        "tempResultsDf = pd.DataFrame({'Method':['Bidirectional LSTM Attention'], 'accuracy': [score_4[1]]},index={'4'})\n",
        "results = pd.concat([results, tempResultsDf])\n",
        "results = results[['Method', 'accuracy']]\n",
        "results"
      ],
      "execution_count": 67,
      "outputs": [
        {
          "output_type": "execute_result",
          "data": {
            "text/html": [
              "<div>\n",
              "<style scoped>\n",
              "    .dataframe tbody tr th:only-of-type {\n",
              "        vertical-align: middle;\n",
              "    }\n",
              "\n",
              "    .dataframe tbody tr th {\n",
              "        vertical-align: top;\n",
              "    }\n",
              "\n",
              "    .dataframe thead th {\n",
              "        text-align: right;\n",
              "    }\n",
              "</style>\n",
              "<table border=\"1\" class=\"dataframe\">\n",
              "  <thead>\n",
              "    <tr style=\"text-align: right;\">\n",
              "      <th></th>\n",
              "      <th>Method</th>\n",
              "      <th>accuracy</th>\n",
              "    </tr>\n",
              "  </thead>\n",
              "  <tbody>\n",
              "    <tr>\n",
              "      <th>1</th>\n",
              "      <td>LSTM</td>\n",
              "      <td>0.965980</td>\n",
              "    </tr>\n",
              "    <tr>\n",
              "      <th>2</th>\n",
              "      <td>GRU</td>\n",
              "      <td>0.951771</td>\n",
              "    </tr>\n",
              "    <tr>\n",
              "      <th>3</th>\n",
              "      <td>Bidirectional LSTM</td>\n",
              "      <td>0.961277</td>\n",
              "    </tr>\n",
              "    <tr>\n",
              "      <th>4</th>\n",
              "      <td>Bidirectional LSTM Attention</td>\n",
              "      <td>0.965079</td>\n",
              "    </tr>\n",
              "  </tbody>\n",
              "</table>\n",
              "</div>"
            ],
            "text/plain": [
              "                         Method  accuracy\n",
              "1                          LSTM  0.965980\n",
              "2                           GRU  0.951771\n",
              "3            Bidirectional LSTM  0.961277\n",
              "4  Bidirectional LSTM Attention  0.965079"
            ]
          },
          "metadata": {
            "tags": []
          },
          "execution_count": 67
        }
      ]
    },
    {
      "cell_type": "code",
      "metadata": {
        "id": "cxwowAohzcnT",
        "colab_type": "code",
        "colab": {}
      },
      "source": [
        ""
      ],
      "execution_count": 0,
      "outputs": []
    }
  ]
}